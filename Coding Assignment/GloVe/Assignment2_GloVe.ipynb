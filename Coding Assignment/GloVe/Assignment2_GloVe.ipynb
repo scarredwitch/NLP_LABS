{
 "cells": [
  {
   "attachments": {},
   "cell_type": "markdown",
   "metadata": {},
   "source": [
    "# GloVe"
   ]
  },
  {
   "attachments": {},
   "cell_type": "markdown",
   "metadata": {},
   "source": [
    "Do this:\n",
    "1. Compare them based on syntactic accuracy and semantic accuracy, similar to how is done in https://nlp.stanford.edu/pubs/glove.pdf (see Table 2) - NO NEED to try 1000 or 300 embed size.....I just want you to learn how to do experiment.....\n",
    "2. Try to find a correlation with just ONE similarity dataset (which humans judge how similar is two words.....)\n",
    "\n",
    "Point criteria:\n",
    "0:  Not done\n",
    "1: ok\n",
    "2: with comments / explanation / figures just like how Chaky explain thing....."
   ]
  },
  {
   "attachments": {},
   "cell_type": "markdown",
   "metadata": {},
   "source": [
    "Some suggestions for the assignment report:\n",
    "1. Write a brief conclusion on your findings at the end of the report.\n",
    "2. Clear long outputs in the notebook before submission."
   ]
  },
  {
   "cell_type": "code",
   "execution_count": 1,
   "metadata": {},
   "outputs": [],
   "source": [
    "#importing libraries\n",
    "import numpy as np\n",
    "import pandas as pd\n",
    "import torch\n",
    "import torch.nn as nn\n",
    "import torch.optim as optim\n",
    "import matplotlib.pyplot as plt\n",
    "import spacy\n",
    "import nltk"
   ]
  },
  {
   "attachments": {},
   "cell_type": "markdown",
   "metadata": {},
   "source": [
    "## 1. Load Data"
   ]
  },
  {
   "cell_type": "code",
   "execution_count": 2,
   "metadata": {},
   "outputs": [
    {
     "name": "stderr",
     "output_type": "stream",
     "text": [
      "[nltk_data] Downloading package brown to C:\\Users\\Sirikit\n",
      "[nltk_data]     Joshi\\AppData\\Roaming\\nltk_data...\n",
      "[nltk_data]   Package brown is already up-to-date!\n"
     ]
    }
   ],
   "source": [
    "#using real corpus from nltk\n",
    "from nltk.corpus import brown\n",
    "nltk.download('brown')\n",
    "corpus = nltk.corpus.brown.sents(categories=['reviews'])"
   ]
  },
  {
   "cell_type": "code",
   "execution_count": 3,
   "metadata": {},
   "outputs": [
    {
     "name": "stdout",
     "output_type": "stream",
     "text": [
      "1751\n"
     ]
    }
   ],
   "source": [
    "#let's check the size of the corpus\n",
    "print(len(corpus))"
   ]
  },
  {
   "cell_type": "code",
   "execution_count": 4,
   "metadata": {},
   "outputs": [
    {
     "name": "stdout",
     "output_type": "stream",
     "text": [
      "[['it', 'is', 'not', 'news', 'that', 'nathan', 'milstein', 'is', 'a', 'wizard', 'of', 'the', 'violin', '.'], ['certainly', 'not', 'in', 'orchestra', 'hall', 'where', 'he', 'has', 'played', 'countless', 'recitals', ',', 'and', 'where', 'thursday', 'night', 'he', 'celebrated', 'his', '20th', 'season', 'with', 'the', 'chicago', 'symphony', 'orchestra', ',', 'playing', 'the', 'brahms', 'concerto', 'with', 'his', 'own', 'slashing', ',', 'demon-ridden', 'cadenza', 'melting', 'into', 'the', 'high', ',', 'pale', ',', 'pure', 'and', 'lovely', 'song', 'with', 'which', 'a', 'violinist', 'unlocks', 'the', 'heart', 'of', 'the', 'music', ',', 'or', 'forever', 'finds', 'it', 'closed', '.'], ['there', 'was', 'about', 'that', 'song', 'something', 'incandescent', ',', 'for', 'this', 'brahms', 'was', 'milstein', 'at', 'white', 'heat', '.'], ['not', 'the', 'noblest', 'performance', 'we', 'have', 'heard', 'him', 'play', ',', 'or', 'the', 'most', 'spacious', ',', 'or', 'even', 'the', 'most', 'eloquent', '.'], ['those', 'would', 'be', 'reserved', 'for', 'the', \"orchestra's\", 'great', 'nights', 'when', 'the', 'soloist', 'can', 'surpass', 'himself', '.']]\n"
     ]
    }
   ],
   "source": [
    "#1. Tokenize\n",
    "corpus_tokenized = [[word.lower() for word in sent] for sent in corpus]\n",
    "print(corpus_tokenized[:5])"
   ]
  },
  {
   "cell_type": "code",
   "execution_count": 5,
   "metadata": {},
   "outputs": [
    {
     "name": "stdout",
     "output_type": "stream",
     "text": [
      "['my', 'bruhn', 'closeup', 'allegory', 'recounting']\n"
     ]
    }
   ],
   "source": [
    "#2. numericalize\n",
    "\n",
    "#2.1 get all the unique words\n",
    "#we want to flatten this (basically merge all list)\n",
    "flatten = lambda l: [item for sublist in l for item in sublist]\n",
    "vocabs  = list(set(flatten(corpus_tokenized)))  #vocabs is a term defining all unique words your system know\n",
    "print(vocabs[0:5])"
   ]
  },
  {
   "cell_type": "code",
   "execution_count": 6,
   "metadata": {},
   "outputs": [],
   "source": [
    "#2.2 assign id to all these vocabs\n",
    "word2index = {v: idx+1 for idx, v in enumerate(vocabs)}\n",
    "\n",
    "#add <UNK>, which is a very normal token exists in the world\n",
    "vocabs.append('<UNK>') #chaky, can it be ##UNK, or UNKKKKKK, or anything\n",
    "\n",
    "word2index['<UNK>'] = 0 \n",
    "# word2index"
   ]
  },
  {
   "cell_type": "code",
   "execution_count": 7,
   "metadata": {},
   "outputs": [],
   "source": [
    "#create index2word dictionary\n",
    "index2word = {v:k for k, v in word2index.items()}\n",
    "# index2word"
   ]
  },
  {
   "attachments": {},
   "cell_type": "markdown",
   "metadata": {},
   "source": [
    "## 2.  Creating co-occurrence matrix"
   ]
  },
  {
   "cell_type": "code",
   "execution_count": 8,
   "metadata": {},
   "outputs": [],
   "source": [
    "#Build Co-occurence Matrix\n",
    "from collections import Counter\n",
    "\n",
    "X_i = Counter(flatten(corpus))\n",
    "# print(X_i)"
   ]
  },
  {
   "cell_type": "code",
   "execution_count": 9,
   "metadata": {},
   "outputs": [],
   "source": [
    "#creating random_batch_skipgram\n",
    "def random_batch_skipgram(corpus, window_size = 1):\n",
    "    skip_grams = []\n",
    "    for sent in corpus:\n",
    "        for i in range(1, len(sent) - 1):\n",
    "            target = sent[i]\n",
    "            context = []\n",
    "            for j in range(window_size):\n",
    "                if i - (j + 1) >= 0:  ## Checking  if out of range from left of list\n",
    "                    context.append(sent[i - (j + 1)])\n",
    "                if i + (j + 1) < len(sent): \n",
    "                    context.append(sent[i + (j + 1)])\n",
    "            for w in context:\n",
    "                skip_grams.append((target,w))\n",
    "    return skip_grams"
   ]
  },
  {
   "cell_type": "code",
   "execution_count": 10,
   "metadata": {},
   "outputs": [],
   "source": [
    "skip_grams = []\n",
    "cbows = []\n",
    "window_size = 2\n",
    "#for each corpus\n",
    "for sent in corpus_tokenized:\n",
    "    for i in range(1,len(sent)-window_size): #start from 2 to second last\n",
    "        context_word = []\n",
    "        # print(sent[i])\n",
    "        center_word = sent[i]\n",
    "        for j in range(window_size):\n",
    "            outside_word = [sent[i-j-1],sent[i+j+1]] #window_size adjustable\n",
    "            #here we want to create (banana, apple), (banana, fruit) append to some list\n",
    "            for o in outside_word:\n",
    "                context_word.append(o)\n",
    "                skip_grams.append((center_word,o))\n",
    "            cbows.append((context_word,center_word))"
   ]
  },
  {
   "cell_type": "code",
   "execution_count": 11,
   "metadata": {},
   "outputs": [],
   "source": [
    "#finding co-occurance in skip_grams with window size = 2\n",
    "X_ik_skipgram = Counter(random_batch_skipgram(corpus, window_size = 2))\n",
    "\n",
    "# print(X_ik_skipgram)"
   ]
  },
  {
   "cell_type": "code",
   "execution_count": 12,
   "metadata": {},
   "outputs": [],
   "source": [
    "#Weight function in order to scale down frequent words\n",
    "\n",
    "def weighting(w_i, w_j, X_ik):\n",
    "        \n",
    "    #check whether the co-occurrences exist between these two words\n",
    "    try:\n",
    "        x_ij = X_ik[(w_i, w_j)]\n",
    "    except:\n",
    "        x_ij = 1  #if does not exist, set it to 1\n",
    "                \n",
    "    x_max = 100 #100 # fixed in paper  #cannot exceed 100 counts\n",
    "    alpha = 0.75\n",
    "    \n",
    "    #if co-occurrence does not exceed 100, scale it based on some alpha\n",
    "    if x_ij < x_max:\n",
    "        result = (x_ij/x_max)**alpha  #scale it\n",
    "    else:\n",
    "        result = 1  #if is greater than max, set it to 1 maximum\n",
    "    \n",
    "    return result"
   ]
  },
  {
   "cell_type": "code",
   "execution_count": 13,
   "metadata": {},
   "outputs": [],
   "source": [
    "#now apply this weighting to all possible pairs\n",
    "from itertools import combinations_with_replacement\n",
    "\n",
    "X_ik = {}  #for keeping the co-occurences\n",
    "weighting_dic = {} #scaling the percentage of sampling\n",
    "\n",
    "for bigram in combinations_with_replacement(vocabs, 2):\n",
    "    if X_ik_skipgram.get(bigram) is not None:  #matches \n",
    "        cooc = X_ik_skipgram[bigram]  #get the count from what we already counted\n",
    "        X_ik[bigram] = cooc + 1 # + 1 for stability issue\n",
    "        X_ik[(bigram[1], bigram[0])] = cooc + 1   #count also for the opposite\n",
    "    else:\n",
    "        pass\n",
    "\n",
    "    #apply the weighting function using this co-occurrence matrix thingy   \n",
    "    weighting_dic[bigram] = weighting(bigram[0], bigram[1], X_ik)\n",
    "    weighting_dic[(bigram[1], bigram[0])] = weighting(bigram[1], bigram[0], X_ik)\n",
    "\n",
    "    #removed printing to avoid crashing"
   ]
  },
  {
   "attachments": {},
   "cell_type": "markdown",
   "metadata": {},
   "source": [
    "## 3. Preparing Train Data"
   ]
  },
  {
   "cell_type": "code",
   "execution_count": 14,
   "metadata": {},
   "outputs": [],
   "source": [
    "#preparing train data\n",
    "\n",
    "import math\n",
    "\n",
    "def random_batch(batch_size, word_sequence, skip_grams, X_ik, weighting_dic):\n",
    "\n",
    "    #loop through skipgram, and change it id because when sending model, it must number \n",
    "    skip_grams_id = [(word2index[skip_gram[0]], word2index[skip_gram[1]]) for skip_gram in skip_grams]\n",
    "    \n",
    "    #randomly pick 'batch_size' indexes\n",
    "    number_of_choices = len(skip_grams_id)\n",
    "    random_index = np.random.choice(number_of_choices, batch_size, replace=False) #no repeating indexes among  these random indexes\n",
    "    \n",
    "    random_inputs = [] #xi, wi (in batches)\n",
    "    random_labels = [] #xj, wj (in batches)\n",
    "    random_coocs  = [] #xij (in batches)\n",
    "    random_weighting = [] #f(xij) (in batches)\n",
    "    #for each of the sample in these indexes\n",
    "    for i in random_index:\n",
    "        random_inputs.append([skip_grams_id[i][0]]) #same reason why I put bracket here....\n",
    "        random_labels.append([skip_grams_id[i][1]])\n",
    "\n",
    "        #get coocs\n",
    "        #first check whether it exists.....\n",
    "        pair = skip_grams[i] #e.g., ['banana','fruit']\n",
    "        try:\n",
    "            cooc = X_ik[pair]\n",
    "        except:\n",
    "            cooc = 1 #label smoothing\n",
    "\n",
    "        random_coocs.append([math.log(cooc)]) #1. why log, #2 why bracket -> size ==> (,1) #my neural network excepts (,1)\n",
    "        \n",
    "        #for weighting\n",
    "        weighting = weighting_dic[pair] #why not user try... maybe it does not exist\n",
    "        random_weighting.append(weighting)\n",
    "\n",
    "    return np.array(random_inputs), np.array(random_labels), np.array(random_coocs), np.array(random_weighting)"
   ]
  },
  {
   "cell_type": "code",
   "execution_count": 15,
   "metadata": {},
   "outputs": [
    {
     "data": {
      "text/plain": [
       "(array([[2854],\n",
       "        [1633]]),\n",
       " array([[ 126],\n",
       "        [1801]]),\n",
       " array([[2.7080502 ],\n",
       "        [0.69314718]]),\n",
       " array([0.24102853, 0.05318296]))"
      ]
     },
     "execution_count": 15,
     "metadata": {},
     "output_type": "execute_result"
    }
   ],
   "source": [
    "batch_size = 2\n",
    "input, target, cooc, weightin = random_batch(batch_size, corpus_tokenized, skip_grams, X_ik, weighting_dic)\n",
    "input, target, cooc, weightin"
   ]
  },
  {
   "attachments": {},
   "cell_type": "markdown",
   "metadata": {},
   "source": [
    "## 4. Glove Model"
   ]
  },
  {
   "cell_type": "code",
   "execution_count": 16,
   "metadata": {},
   "outputs": [],
   "source": [
    "class GloVe(nn.Module):\n",
    "    \n",
    "    def __init__(self, vocab_size,embed_size):\n",
    "        super(GloVe,self).__init__()\n",
    "        self.embedding_v = nn.Embedding(vocab_size, embed_size) # center embedding\n",
    "        self.embedding_u = nn.Embedding(vocab_size, embed_size) # out embedding\n",
    "        \n",
    "        self.v_bias = nn.Embedding(vocab_size, 1)\n",
    "        self.u_bias = nn.Embedding(vocab_size, 1)\n",
    "        \n",
    "    def forward(self, center_words, target_words, coocs, weighting):\n",
    "        center_embeds = self.embedding_v(center_words) # [batch_size, 1, emb_size]\n",
    "        target_embeds = self.embedding_u(target_words) # [batch_size, 1, emb_size]\n",
    "        \n",
    "        center_bias = self.v_bias(center_words).squeeze(1)\n",
    "        target_bias = self.u_bias(target_words).squeeze(1)\n",
    "        \n",
    "        inner_product = target_embeds.bmm(center_embeds.transpose(1, 2)).squeeze(2)\n",
    "        #[batch_size, 1, emb_size] @ [batch_size, emb_size, 1] = [batch_size, 1, 1] = [batch_size, 1]\n",
    "        \n",
    "        #note that coocs already got log\n",
    "        loss = weighting*torch.pow(inner_product +center_bias + target_bias - coocs, 2)\n",
    "        \n",
    "        return torch.sum(loss)"
   ]
  },
  {
   "cell_type": "code",
   "execution_count": 17,
   "metadata": {},
   "outputs": [],
   "source": [
    "voc_size   = len(vocabs)\n",
    "batch_size = 2 \n",
    "emb_size   = 2 \n",
    "model      = GloVe(voc_size, emb_size)\n",
    "\n",
    "optimizer  = optim.Adam(model.parameters(), lr=0.0001)"
   ]
  },
  {
   "cell_type": "code",
   "execution_count": 20,
   "metadata": {},
   "outputs": [
    {
     "name": "stdout",
     "output_type": "stream",
     "text": [
      "Epoch 1000 | Loss: 0.263171 | Time: 40.35958695411682\n",
      "Epoch 2000 | Loss: 2.676057 | Time: 82.35004210472107\n",
      "Epoch 3000 | Loss: 0.508378 | Time: 124.43235373497009\n",
      "Epoch 4000 | Loss: 3.206538 | Time: 164.54973196983337\n"
     ]
    }
   ],
   "source": [
    "import time\n",
    "num_epochs = 4000\n",
    "start = time.time()\n",
    "#for epoch\n",
    "for epoch in range(num_epochs):\n",
    "\n",
    "    #get random batch\n",
    "    input, target, cooc, weightin = random_batch(batch_size, corpus_tokenized, skip_grams, X_ik, weighting_dic)\n",
    "    input_batch    = torch.LongTensor(input)\n",
    "    target_batch   = torch.LongTensor(target)\n",
    "    cooc_batch     = torch.FloatTensor(cooc)\n",
    "    weightin_batch = torch.FloatTensor(weightin)\n",
    "    \n",
    "    \n",
    "    # print(input_batch.shape, label_batch.shape, cooc_batch.shape, weightin_batch)\n",
    "    \n",
    "    #loss = model\n",
    "    loss = model(input_batch, target_batch, cooc_batch, weightin_batch)\n",
    "    \n",
    "    #backpropagate\n",
    "    loss.backward()\n",
    "    \n",
    "    #update alpha\n",
    "    optimizer.step()\n",
    "    \n",
    "    #print epoch loss\n",
    "    if (epoch + 1) % 1000 == 0:\n",
    "        end = time.time()\n",
    "        print(f\"Epoch {epoch+1} | Loss: {loss:.6f} | Time: {(end-start)}\")\n"
   ]
  },
  {
   "cell_type": "code",
   "execution_count": 21,
   "metadata": {},
   "outputs": [
    {
     "data": {
      "image/png": "[encoded data removed]",
      "text/plain": [
       "<Figure size 600x300 with 1 Axes>"
      ]
     },
     "metadata": {},
     "output_type": "display_data"
    }
   ],
   "source": [
    "# Function to get embedding\n",
    "def get_embed(word, current_model=model):\n",
    "    try:\n",
    "        index = word2index[word]\n",
    "    except :\n",
    "        index = word2index['<UNK>'] #unknown\n",
    "    word = torch.LongTensor([index])\n",
    "    \n",
    "    embed =  (current_model.embedding_v(word)+current_model.embedding_u(word))/2\n",
    "    return np.array(embed[0].detach().numpy())\n",
    "\n",
    "plt.figure(figsize=(6,3))\n",
    "for i, word in enumerate(vocabs[:20]): #loop each unique vocab\n",
    "    x, y = get_embed(word)\n",
    "    plt.scatter(x, y)\n",
    "    plt.annotate(word, xy=(x, y), xytext=(5, 2), textcoords='offset points')\n",
    "plt.title('Window size of 2')\n",
    "plt.show()\n"
   ]
  },
  {
   "cell_type": "code",
   "execution_count": 22,
   "metadata": {},
   "outputs": [],
   "source": [
    "import pickle\n",
    "\n",
    "torch.save(model.state_dict(), \"Glove_Model.pth\")"
   ]
  },
  {
   "cell_type": "code",
   "execution_count": 23,
   "metadata": {},
   "outputs": [],
   "source": [
    "from scipy import spatial\n",
    "\n",
    "def cosine_similarity(word1, word2):\n",
    "    '''\n",
    "        cosine_similarity function accepts the embeddings of two words and returns the \n",
    "        the degree of similarity between them using scipy.\n",
    "    '''\n",
    "    cos_sim = 1 - spatial.distance.cosine(word1, word2)  #distance = 1 - similarlity, because scipy only gives distance\n",
    "    return cos_sim"
   ]
  },
  {
   "cell_type": "code",
   "execution_count": 24,
   "metadata": {},
   "outputs": [
    {
     "name": "stdout",
     "output_type": "stream",
     "text": [
      "adultery vs loose:  0.9278067350387573\n",
      "loose vs pillow:  -0.8149043321609497\n"
     ]
    }
   ],
   "source": [
    "#getting cosine similarity\n",
    "adultery = get_embed('adultery')\n",
    "loose = get_embed('loose')\n",
    "pillow = get_embed('pillow')\n",
    "\n",
    "print(f\"adultery vs loose: \", cosine_similarity(adultery, loose))\n",
    "print(f\"loose vs pillow: \", cosine_similarity(loose, pillow))"
   ]
  },
  {
   "attachments": {},
   "cell_type": "markdown",
   "metadata": {},
   "source": [
    "## 5. Testing"
   ]
  },
  {
   "attachments": {},
   "cell_type": "markdown",
   "metadata": {},
   "source": [
    "### 5.1 Loading test data"
   ]
  },
  {
   "cell_type": "code",
   "execution_count": 26,
   "metadata": {},
   "outputs": [
    {
     "name": "stdout",
     "output_type": "stream",
     "text": [
      "[': capital-common-countries\\n', 'Athens Greece Baghdad Iraq\\n', 'Athens Greece Bangkok Thailand\\n', 'Athens Greece Beijing China\\n', 'Athens Greece Berlin Germany\\n', 'Athens Greece Bern Switzerland\\n', 'Athens Greece Cairo Egypt\\n', 'Athens Greece Canberra Australia\\n', 'Athens Greece Hanoi Vietnam\\n', 'Athens Greece Havana Cuba\\n']\n"
     ]
    }
   ],
   "source": [
    "import spacy \n",
    "import pandas as pd\n",
    "\n",
    "nlp = spacy.load('en_core_web_sm')\n",
    "file =  open('../SIRI_code_along/Data/questions-words.txt', mode='r')\n",
    "question_words = []\n",
    "for content in file:\n",
    "  question_words.append(content)\n",
    "\n",
    "print(question_words[0:10])"
   ]
  },
  {
   "cell_type": "code",
   "execution_count": 27,
   "metadata": {},
   "outputs": [],
   "source": [
    "class Skipgram(nn.Module):\n",
    "    '''\n",
    "        Skipgram implementation \n",
    "        class that accepts the parameter vocabulary\n",
    "        size and embedding size\n",
    "    '''\n",
    "    def __init__(self, voc_size, emb_size):\n",
    "        super(Skipgram, self).__init__()\n",
    "        self.embedding_center_word  = nn.Embedding(voc_size, emb_size)  \n",
    "        self.embedding_outside_word = nn.Embedding(voc_size, emb_size)\n",
    "    \n",
    "    def forward(self, center_word, outside_word, all_vocabs):\n",
    "        center_word_embed  = self.embedding_center_word(center_word)     \n",
    "        outside_word_embed = self.embedding_outside_word(outside_word)  \n",
    "        all_vocabs_embed   = self.embedding_outside_word(all_vocabs)    \n",
    "        \n",
    "        top_term = outside_word_embed.bmm(center_word_embed.transpose(1, 2)).squeeze(2)\n",
    "        \n",
    "        top_term_exp = torch.exp(top_term) \n",
    "        \n",
    "        lower_term = all_vocabs_embed.bmm(center_word_embed.transpose(1, 2)).squeeze(2)         \n",
    "        lower_term_sum = torch.sum(torch.exp(lower_term), 1)\n",
    "        \n",
    "        loss_fn = -torch.mean(torch.log(top_term_exp / lower_term_sum))\n",
    "        \n",
    "        return loss_fn"
   ]
  },
  {
   "cell_type": "code",
   "execution_count": 28,
   "metadata": {},
   "outputs": [],
   "source": [
    "class SkipgramNegSampling(nn.Module):\n",
    "    \n",
    "    def __init__(self, vocab_size, emb_size):\n",
    "        super(SkipgramNegSampling, self).__init__()\n",
    "        self.embedding_v = nn.Embedding(vocab_size, emb_size) # center embedding\n",
    "        self.embedding_u = nn.Embedding(vocab_size, emb_size) # out embedding\n",
    "        self.logsigmoid = nn.LogSigmoid()\n",
    "                    \n",
    "    def forward(self, center_words, target_words, negative_words):\n",
    "        center_embeds = self.embedding_v(center_words) # [batch_size, 1, emb_size]\n",
    "        target_embeds = self.embedding_u(target_words) # [batch_size, 1, emb_size]\n",
    "        neg_embeds    = -self.embedding_u(negative_words) # [batch_size, num_neg, emb_size]\n",
    "        \n",
    "        positive_score = target_embeds.bmm(center_embeds.transpose(1, 2)).squeeze(2)\n",
    "        #[batch_size, 1, emb_size] @ [batch_size, emb_size, 1] = [batch_size, 1, 1] = [batch_size, 1]\n",
    "        \n",
    "        negative_score = neg_embeds.bmm(center_embeds.transpose(1, 2))\n",
    "        #[batch_size, k, emb_size] @ [batch_size, emb_size, 1] = [batch_size, k, 1]\n",
    "        \n",
    "        loss = self.logsigmoid(positive_score) + torch.sum(self.logsigmoid(negative_score), 1)\n",
    "                \n",
    "        return -torch.mean(loss)\n",
    "    \n",
    "    def prediction(self, inputs):\n",
    "        embeds = self.embedding_v(inputs)\n",
    "        \n",
    "        return embeds"
   ]
  },
  {
   "cell_type": "code",
   "execution_count": 29,
   "metadata": {},
   "outputs": [],
   "source": [
    "class CBOW(nn.Module):\n",
    "    ''' Continuous Bag of words implementation \n",
    "        class that accepts the parameter vocabulary\n",
    "        size and embedding size'''\n",
    "    def __init__(self, voc_size, emb_size):\n",
    "        super(CBOW, self).__init__()\n",
    "        self.embedding_center_word  = nn.Embedding(voc_size, emb_size)  \n",
    "        self.embedding_outside_word = nn.Embedding(voc_size, emb_size)\n",
    "    \n",
    "    def forward(self, center_word, outside_word, all_vocabs):\n",
    "        center_word_embed  = self.embedding_center_word(center_word)     \n",
    "        outside_word_embed = self.embedding_outside_word(outside_word)  \n",
    "        all_vocabs_embed   = self.embedding_outside_word(all_vocabs)    \n",
    "        \n",
    "        top_term = outside_word_embed.bmm(center_word_embed.transpose(1, 2)).squeeze(2)\n",
    "        \n",
    "        top_term_exp = torch.exp(top_term) \n",
    "        \n",
    "        lower_term = all_vocabs_embed.bmm(center_word_embed.transpose(1, 2)).squeeze(2)         \n",
    "        lower_term_sum = torch.sum(torch.exp(lower_term), 1)\n",
    "        \n",
    "        loss_fn = -torch.mean(torch.log(top_term_exp / lower_term_sum))\n",
    "        \n",
    "        return loss_fn"
   ]
  },
  {
   "cell_type": "code",
   "execution_count": 31,
   "metadata": {},
   "outputs": [
    {
     "data": {
      "text/plain": [
       "[(0, ': capital-common-countries\\n'),\n",
       " (507, ': capital-world\\n'),\n",
       " (5032, ': currency\\n'),\n",
       " (5899, ': city-in-state\\n'),\n",
       " (8367, ': family\\n'),\n",
       " (8874, ': gram1-adjective-to-adverb\\n'),\n",
       " (9867, ': gram2-opposite\\n'),\n",
       " (10680, ': gram3-comparative\\n'),\n",
       " (12013, ': gram4-superlative\\n'),\n",
       " (13136, ': gram5-present-participle\\n'),\n",
       " (14193, ': gram6-nationality-adjective\\n'),\n",
       " (15793, ': gram7-past-tense\\n'),\n",
       " (17354, ': gram8-plural\\n'),\n",
       " (18687, ': gram9-plural-verbs\\n')]"
      ]
     },
     "execution_count": 31,
     "metadata": {},
     "output_type": "execute_result"
    }
   ],
   "source": [
    "# Separate header name and index\n",
    "separator = [(idx, sent) for idx, sent in enumerate(question_words) if sent[0] == ':']\n",
    "separator"
   ]
  },
  {
   "cell_type": "code",
   "execution_count": 33,
   "metadata": {},
   "outputs": [],
   "source": [
    "adjective_to_adverb = question_words[8875:9867]\n",
    "comparative         = question_words[10681:12013]\n",
    "nationality         = question_words[14194:15793]"
   ]
  },
  {
   "cell_type": "code",
   "execution_count": 39,
   "metadata": {},
   "outputs": [
    {
     "name": "stdout",
     "output_type": "stream",
     "text": [
      "['amazing amazingly apparent apparently\\n', 'amazing amazingly calm calmly\\n', 'amazing amazingly cheerful cheerfully\\n', 'amazing amazingly complete completely\\n', 'amazing amazingly efficient efficiently\\n'] \n",
      "\n",
      "['bad worse big bigger\\n', 'bad worse bright brighter\\n', 'bad worse cheap cheaper\\n', 'bad worse cold colder\\n', 'bad worse cool cooler\\n'] \n",
      "\n",
      "['Albania Albanian Argentina Argentinean\\n', 'Albania Albanian Australia Australian\\n', 'Albania Albanian Austria Austrian\\n', 'Albania Albanian Belarus Belorussian\\n', 'Albania Albanian Brazil Brazilian\\n'] \n",
      "\n"
     ]
    }
   ],
   "source": [
    "print(adjective_to_adverb[0:5], \"\\n\")\n",
    "print(comparative[0:5], \"\\n\")\n",
    "print(nationality[0:5], \"\\n\")"
   ]
  },
  {
   "cell_type": "code",
   "execution_count": 40,
   "metadata": {},
   "outputs": [],
   "source": [
    "test_text = adjective_to_adverb + comparative + nationality"
   ]
  },
  {
   "cell_type": "code",
   "execution_count": 41,
   "metadata": {},
   "outputs": [],
   "source": [
    "test_adj_to_adv = [sentence.split(\" \") for sentence in adjective_to_adverb]\n",
    "test_comparative = [sentence.split(\" \") for sentence in comparative]\n",
    "test_nation = [sentence.split(\" \") for sentence in nationality]\n",
    "test_set = [sentence.split(\" \") for sentence in test_text]"
   ]
  },
  {
   "cell_type": "code",
   "execution_count": 42,
   "metadata": {},
   "outputs": [
    {
     "name": "stdout",
     "output_type": "stream",
     "text": [
      "[['amazing', 'amazingly', 'apparent', 'apparently\\n'], ['amazing', 'amazingly', 'calm', 'calmly\\n'], ['amazing', 'amazingly', 'cheerful', 'cheerfully\\n'], ['amazing', 'amazingly', 'complete', 'completely\\n'], ['amazing', 'amazingly', 'efficient', 'efficiently\\n']]\n"
     ]
    }
   ],
   "source": [
    "print(test_set[0:5])"
   ]
  },
  {
   "attachments": {},
   "cell_type": "markdown",
   "metadata": {},
   "source": [
    "### 5.2 Flatten and get unique words"
   ]
  },
  {
   "cell_type": "code",
   "execution_count": 43,
   "metadata": {},
   "outputs": [
    {
     "data": {
      "text/plain": [
       "['quiet',\n",
       " 'stronger\\n',\n",
       " 'Dutch',\n",
       " 'Netherlands',\n",
       " 'Swedish',\n",
       " 'faster\\n',\n",
       " 'seriously\\n',\n",
       " 'tighter',\n",
       " 'furiously\\n',\n",
       " 'louder\\n']"
      ]
     },
     "execution_count": 43,
     "metadata": {},
     "output_type": "execute_result"
    }
   ],
   "source": [
    "flatten = lambda l: [item for sublist in l for item in sublist]\n",
    "test_vocab = list(set(flatten(test_set)))\n",
    "test_vocab[0:10]"
   ]
  },
  {
   "cell_type": "code",
   "execution_count": 44,
   "metadata": {},
   "outputs": [],
   "source": [
    "test_word2index = dict()\n",
    "test_word2index.update({\"\":  0})\n",
    "for idx, v in enumerate(test_vocab):\n",
    "        test_word2index.update({v:  idx + 1})\n",
    "\n",
    "test_vocab.append('')\n",
    "\n",
    "test_index2word = {v:k for k, v in test_word2index.items()}"
   ]
  },
  {
   "attachments": {},
   "cell_type": "markdown",
   "metadata": {},
   "source": [
    "## 6. Semantic Testing"
   ]
  },
  {
   "cell_type": "code",
   "execution_count": 74,
   "metadata": {},
   "outputs": [],
   "source": [
    "def find_analogy(a,b,c,current_model, vocabs=vocabs):\n",
    "    emb_a, emb_b, emb_c = get_embed(a, current_model), get_embed(b, current_model), get_embed(c, current_model)\n",
    "    vector = emb_b - emb_a + emb_c\n",
    "    similarity = -1 \n",
    "    \n",
    "    for vocab in vocabs:\n",
    "        if vocab not in [a,b,c]: #ignore input words itself\n",
    "            current_sim = cosine_similarity(vector,get_embed(vocab, current_model))\n",
    "            if current_sim > similarity:\n",
    "                similarity = current_sim #update better one\n",
    "                d = (vocab, similarity)\n",
    "    return d"
   ]
  },
  {
   "cell_type": "code",
   "execution_count": 46,
   "metadata": {},
   "outputs": [
    {
     "data": {
      "text/plain": [
       "('dora', 1)"
      ]
     },
     "execution_count": 46,
     "metadata": {},
     "output_type": "execute_result"
    }
   ],
   "source": [
    "find_analogy('amazing','amazingly','apparent')"
   ]
  },
  {
   "cell_type": "code",
   "execution_count": 69,
   "metadata": {},
   "outputs": [],
   "source": [
    "def check_accuracy(y, yhat):\n",
    "    if y == yhat:\n",
    "        return True\n",
    "    else:\n",
    "        return False\n",
    "\n",
    "def test_accuracy_batch(data, current_model):\n",
    "    counter = 0\n",
    "    for sent in data:\n",
    "        label = sent[-1]\n",
    "        a, b, c = sent[:-1]\n",
    "        yhat = find_analogy(a, b, c, current_model)[0] # It's return in tuple form, so we need to slice to get word\n",
    "        if check_accuracy(label, yhat) == True:\n",
    "            counter = counter + 1\n",
    "    \n",
    "    return counter"
   ]
  },
  {
   "cell_type": "code",
   "execution_count": 49,
   "metadata": {},
   "outputs": [],
   "source": [
    "embedding_size = 2"
   ]
  },
  {
   "cell_type": "code",
   "execution_count": 52,
   "metadata": {},
   "outputs": [
    {
     "data": {
      "text/plain": [
       "Skipgram(\n",
       "  (embedding_center_word): Embedding(8070, 2)\n",
       "  (embedding_outside_word): Embedding(8070, 2)\n",
       ")"
      ]
     },
     "execution_count": 52,
     "metadata": {},
     "output_type": "execute_result"
    }
   ],
   "source": [
    "#load skipgram_model\n",
    "skipgram_model = Skipgram(voc_size, embedding_size)\n",
    "torch.save(skipgram_model.state_dict(), \"SkipgramsModel.pth\")\n",
    "skipgram_model.load_state_dict(torch.load('SkipgramsModel.pth'))\n",
    "skipgram_model.eval()"
   ]
  },
  {
   "cell_type": "code",
   "execution_count": 53,
   "metadata": {},
   "outputs": [
    {
     "data": {
      "text/plain": [
       "SkipgramNegSampling(\n",
       "  (embedding_v): Embedding(8070, 2)\n",
       "  (embedding_u): Embedding(8070, 2)\n",
       "  (logsigmoid): LogSigmoid()\n",
       ")"
      ]
     },
     "execution_count": 53,
     "metadata": {},
     "output_type": "execute_result"
    }
   ],
   "source": [
    "#load negative skipgram model\n",
    "neg_skipgram_model = SkipgramNegSampling(voc_size, embedding_size)\n",
    "torch.save(neg_skipgram_model.state_dict(), \"Neg_SkipgramsModel.pth\")\n",
    "neg_skipgram_model.load_state_dict(torch.load('Neg_SkipgramsModel.pth'))\n",
    "neg_skipgram_model.eval()"
   ]
  },
  {
   "cell_type": "code",
   "execution_count": 54,
   "metadata": {},
   "outputs": [
    {
     "data": {
      "text/plain": [
       "CBOW(\n",
       "  (embedding_center_word): Embedding(8070, 2)\n",
       "  (embedding_outside_word): Embedding(8070, 2)\n",
       ")"
      ]
     },
     "execution_count": 54,
     "metadata": {},
     "output_type": "execute_result"
    }
   ],
   "source": [
    "#load cbow model\n",
    "cbow_model = CBOW(voc_size, embedding_size)\n",
    "torch.save(cbow_model.state_dict(), \"Cbow_Model.pth\")\n",
    "cbow_model.load_state_dict(torch.load('Cbow_Model.pth'))\n",
    "cbow_model.eval()"
   ]
  },
  {
   "attachments": {},
   "cell_type": "markdown",
   "metadata": {},
   "source": [
    "#### 6.1 For Glove"
   ]
  },
  {
   "cell_type": "code",
   "execution_count": 60,
   "metadata": {},
   "outputs": [
    {
     "name": "stdout",
     "output_type": "stream",
     "text": [
      "Current_test = test_adj_to_adv\n",
      "0\n",
      "Current_test = test_comparative\n",
      "0\n",
      "Current_test = test_nation\n",
      "0\n"
     ]
    }
   ],
   "source": [
    "import random\n",
    "\n",
    "current_model = GloVe(voc_size, embedding_size)\n",
    "current_model.load_state_dict(torch.load('Glove_Model.pth'))\n",
    "current_model.eval()\n",
    "\n",
    "test_list = [test_adj_to_adv, test_comparative, test_nation]\n",
    "test_list_name = ['test_adj_to_adv','test_comparative', 'test_nation']\n",
    "\n",
    "for idx, current_test in enumerate(test_list):\n",
    "   sample_list = random.choices(current_test, k=100)\n",
    "   print(f'Current_test = {test_list_name[idx]}')\n",
    "   accuracy = test_accuracy_batch(sample_list, current_model)\n",
    "   print(accuracy)"
   ]
  },
  {
   "attachments": {},
   "cell_type": "markdown",
   "metadata": {},
   "source": [
    "#### 6.2 For Skipgram Model"
   ]
  },
  {
   "cell_type": "code",
   "execution_count": 61,
   "metadata": {},
   "outputs": [
    {
     "name": "stdout",
     "output_type": "stream",
     "text": [
      "Current_test = test_adj_to_adv\n",
      "0\n",
      "Current_test = test_comparative\n",
      "0\n",
      "Current_test = test_nation\n",
      "0\n"
     ]
    }
   ],
   "source": [
    "embedding_size = 2\n",
    "\n",
    "current_model = Skipgram(voc_size, embedding_size)\n",
    "current_model.load_state_dict(torch.load('SkipgramsModel.pth'))\n",
    "current_model.eval()\n",
    "\n",
    "test_list = [test_adj_to_adv, test_comparative, test_nation]\n",
    "test_list_name = ['test_adj_to_adv','test_comparative', 'test_nation']\n",
    "\n",
    "for idx, current_test in enumerate(test_list):\n",
    "   sample_list = random.choices(current_test, k=100)\n",
    "   print(f'Current_test = {test_list_name[idx]}')\n",
    "   accuracy = test_accuracy_batch(sample_list, current_model)\n",
    "   print(accuracy)"
   ]
  },
  {
   "attachments": {},
   "cell_type": "markdown",
   "metadata": {},
   "source": [
    "#### 6.3 For CBOW Model"
   ]
  },
  {
   "cell_type": "code",
   "execution_count": null,
   "metadata": {},
   "outputs": [],
   "source": [
    "embedding_size = 2\n",
    "\n",
    "current_model = CBOW(voc_size, embedding_size)\n",
    "current_model.load_state_dict(torch.load('Cbow_Model.pth'))\n",
    "current_model.eval()\n",
    "\n",
    "test_list = [test_adj_to_adv, test_comparative, test_nation]\n",
    "test_list_name = ['test_adj_to_adv','test_comparative', 'test_nation']\n",
    "\n",
    "for idx, current_test in enumerate(test_list):\n",
    "   sample_list = random.choices(current_test, k=100)\n",
    "   print(f'Current_test = {test_list_name[idx]}')\n",
    "   accuracy = test_accuracy_batch(sample_list, current_model)\n",
    "   print(accuracy)"
   ]
  },
  {
   "attachments": {},
   "cell_type": "markdown",
   "metadata": {},
   "source": [
    "#### 6.4 For Skipgram with Negative Sampling"
   ]
  },
  {
   "cell_type": "code",
   "execution_count": 64,
   "metadata": {},
   "outputs": [],
   "source": [
    "#Override get embed for negative sampling due to embedding name change\n",
    "def get_embed(word):\n",
    "    id_tensor = torch.LongTensor([word2index[word]])\n",
    "    v_embed = model.embedding_v(id_tensor)\n",
    "    u_embed = model.embedding_u(id_tensor) \n",
    "    word_embed = (v_embed + u_embed) / 2 \n",
    "    x, y = word_embed[0][0].item(), word_embed[0][1].item()\n",
    "\n",
    "    return x, y"
   ]
  },
  {
   "cell_type": "code",
   "execution_count": 72,
   "metadata": {},
   "outputs": [],
   "source": [
    "def get_embed(word, current_model):\n",
    "    try:\n",
    "        index = word2index[word]\n",
    "    except :\n",
    "        index = word2index['<UNK>'] #unknown\n",
    "    word = torch.LongTensor([index])\n",
    "    \n",
    "    embed =  (current_model.embedding_v(word)+ current_model.embedding_u(word))/2\n",
    "    return np.array(embed[0].detach().numpy())"
   ]
  },
  {
   "cell_type": "code",
   "execution_count": 75,
   "metadata": {},
   "outputs": [
    {
     "name": "stdout",
     "output_type": "stream",
     "text": [
      "Current_test = test_adj_to_adv\n",
      "0\n",
      "Current_test = test_comparative\n",
      "0\n",
      "Current_test = test_nation\n",
      "0\n"
     ]
    }
   ],
   "source": [
    "embedding_size = 2\n",
    "\n",
    "current_model = SkipgramNegSampling(voc_size, embedding_size)\n",
    "current_model.load_state_dict(torch.load('Neg_SkipgramsModel.pth'))\n",
    "current_model.eval()\n",
    "\n",
    "test_list = [test_adj_to_adv, test_comparative, test_nation]\n",
    "test_list_name = ['test_adj_to_adv','test_comparative', 'test_nation']\n",
    "\n",
    "for idx, current_test in enumerate(test_list):\n",
    "   sample_list = random.choices(current_test, k=100)\n",
    "   print(f'Current_test = {test_list_name[idx]}')\n",
    "   accuracy = test_accuracy_batch(sample_list, current_model)\n",
    "   print(accuracy)"
   ]
  },
  {
   "attachments": {},
   "cell_type": "markdown",
   "metadata": {},
   "source": [
    "## 7. Syntactic Testing"
   ]
  },
  {
   "cell_type": "code",
   "execution_count": 76,
   "metadata": {},
   "outputs": [
    {
     "data": {
      "text/html": [
       "<div>\n",
       "<style scoped>\n",
       "    .dataframe tbody tr th:only-of-type {\n",
       "        vertical-align: middle;\n",
       "    }\n",
       "\n",
       "    .dataframe tbody tr th {\n",
       "        vertical-align: top;\n",
       "    }\n",
       "\n",
       "    .dataframe thead th {\n",
       "        text-align: right;\n",
       "    }\n",
       "</style>\n",
       "<table border=\"1\" class=\"dataframe\">\n",
       "  <thead>\n",
       "    <tr style=\"text-align: right;\">\n",
       "      <th></th>\n",
       "      <th>0</th>\n",
       "      <th>1</th>\n",
       "      <th>2</th>\n",
       "    </tr>\n",
       "  </thead>\n",
       "  <tbody>\n",
       "    <tr>\n",
       "      <th>0</th>\n",
       "      <td>tiger</td>\n",
       "      <td>cat</td>\n",
       "      <td>7.35</td>\n",
       "    </tr>\n",
       "    <tr>\n",
       "      <th>1</th>\n",
       "      <td>tiger</td>\n",
       "      <td>tiger</td>\n",
       "      <td>10.00</td>\n",
       "    </tr>\n",
       "    <tr>\n",
       "      <th>2</th>\n",
       "      <td>plane</td>\n",
       "      <td>car</td>\n",
       "      <td>5.77</td>\n",
       "    </tr>\n",
       "    <tr>\n",
       "      <th>3</th>\n",
       "      <td>train</td>\n",
       "      <td>car</td>\n",
       "      <td>6.31</td>\n",
       "    </tr>\n",
       "    <tr>\n",
       "      <th>4</th>\n",
       "      <td>television</td>\n",
       "      <td>radio</td>\n",
       "      <td>6.77</td>\n",
       "    </tr>\n",
       "  </tbody>\n",
       "</table>\n",
       "</div>"
      ],
      "text/plain": [
       "            0      1      2\n",
       "0       tiger    cat   7.35\n",
       "1       tiger  tiger  10.00\n",
       "2       plane    car   5.77\n",
       "3       train    car   6.31\n",
       "4  television  radio   6.77"
      ]
     },
     "execution_count": 76,
     "metadata": {},
     "output_type": "execute_result"
    }
   ],
   "source": [
    "import pandas as pd\n",
    "path = '../SIRI_code_along/Data/wordsim353_sim_rel/wordsim_similarity_goldstandard.txt'\n",
    "df = pd.read_table(path, header=None)\n",
    "df.head()"
   ]
  },
  {
   "cell_type": "code",
   "execution_count": 77,
   "metadata": {},
   "outputs": [
    {
     "data": {
      "text/html": [
       "<div>\n",
       "<style scoped>\n",
       "    .dataframe tbody tr th:only-of-type {\n",
       "        vertical-align: middle;\n",
       "    }\n",
       "\n",
       "    .dataframe tbody tr th {\n",
       "        vertical-align: top;\n",
       "    }\n",
       "\n",
       "    .dataframe thead th {\n",
       "        text-align: right;\n",
       "    }\n",
       "</style>\n",
       "<table border=\"1\" class=\"dataframe\">\n",
       "  <thead>\n",
       "    <tr style=\"text-align: right;\">\n",
       "      <th></th>\n",
       "      <th>0</th>\n",
       "      <th>1</th>\n",
       "      <th>2</th>\n",
       "    </tr>\n",
       "  </thead>\n",
       "  <tbody>\n",
       "    <tr>\n",
       "      <th>0</th>\n",
       "      <td>tiger</td>\n",
       "      <td>cat</td>\n",
       "      <td>7.35</td>\n",
       "    </tr>\n",
       "    <tr>\n",
       "      <th>1</th>\n",
       "      <td>tiger</td>\n",
       "      <td>tiger</td>\n",
       "      <td>10.00</td>\n",
       "    </tr>\n",
       "    <tr>\n",
       "      <th>2</th>\n",
       "      <td>plane</td>\n",
       "      <td>car</td>\n",
       "      <td>5.77</td>\n",
       "    </tr>\n",
       "    <tr>\n",
       "      <th>3</th>\n",
       "      <td>train</td>\n",
       "      <td>car</td>\n",
       "      <td>6.31</td>\n",
       "    </tr>\n",
       "    <tr>\n",
       "      <th>4</th>\n",
       "      <td>television</td>\n",
       "      <td>radio</td>\n",
       "      <td>6.77</td>\n",
       "    </tr>\n",
       "  </tbody>\n",
       "</table>\n",
       "</div>"
      ],
      "text/plain": [
       "            0      1      2\n",
       "0       tiger    cat   7.35\n",
       "1       tiger  tiger  10.00\n",
       "2       plane    car   5.77\n",
       "3       train    car   6.31\n",
       "4  television  radio   6.77"
      ]
     },
     "execution_count": 77,
     "metadata": {},
     "output_type": "execute_result"
    }
   ],
   "source": [
    "sytactic_test_set = df.iloc[:20]\n",
    "sytactic_test_set.head()"
   ]
  },
  {
   "cell_type": "code",
   "execution_count": 78,
   "metadata": {},
   "outputs": [],
   "source": [
    "x1 = sytactic_test_set[0]\n",
    "x2 = sytactic_test_set[1]\n",
    "label = sytactic_test_set[2]"
   ]
  },
  {
   "attachments": {},
   "cell_type": "markdown",
   "metadata": {},
   "source": [
    "#### 7.1 Glove"
   ]
  },
  {
   "cell_type": "code",
   "execution_count": 80,
   "metadata": {},
   "outputs": [],
   "source": [
    "from scipy import stats\n",
    "embedding_size=2\n",
    "model = GloVe(voc_size, embedding_size)\n",
    "model.load_state_dict(torch.load('Glove_Model.pth'))\n",
    "model.eval()\n",
    "\n",
    "test_list = [test_adj_to_adv, test_comparative, test_nation]\n",
    "test_list_name = ['test_adj_to_adv', 'test_comparative', 'test_nation']\n",
    "\n",
    "results = []\n",
    "for idx in range(20): # We test with only fix 10 samples\n",
    "    emb_x1 = get_embed(x1[idx], model)\n",
    "    emb_x2 = get_embed(x2[idx], model)\n",
    "    yhat = stats.spearmanr(emb_x1, emb_x2)\n",
    "    yhat = yhat[0]\n",
    "    results.append(yhat)\n"
   ]
  },
  {
   "attachments": {},
   "cell_type": "markdown",
   "metadata": {},
   "source": [
    "#### 7.2 Skipgram Model"
   ]
  },
  {
   "cell_type": "code",
   "execution_count": 93,
   "metadata": {},
   "outputs": [],
   "source": [
    "def get_embed(word, current_model):\n",
    "    try:\n",
    "        index = word2index[word]\n",
    "    except :\n",
    "        index = word2index['<UNK>'] #unknown\n",
    "    word = torch.LongTensor([index])\n",
    "    \n",
    "    embed =  (current_model.embedding_center_word(word)+current_model.embedding_outside_word (word))/2\n",
    "    return np.array(embed[0].detach().numpy())"
   ]
  },
  {
   "cell_type": "code",
   "execution_count": 83,
   "metadata": {},
   "outputs": [],
   "source": [
    "model = skipgram_model\n",
    "\n",
    "test_list = [test_adj_to_adv, test_comparative, test_nation]\n",
    "test_list_name = ['test_adj_to_adv', 'test_comparative', 'test_nation']\n",
    "\n",
    "results = []\n",
    "for idx in range(20):\n",
    "    emb_x1 = get_embed(x1[idx], model)\n",
    "    emb_x2 = get_embed(x2[idx], model)\n",
    "    yhat = stats.spearmanr(emb_x1, emb_x2)\n",
    "    yhat = yhat[0]\n",
    "    results.append(yhat)"
   ]
  },
  {
   "attachments": {},
   "cell_type": "markdown",
   "metadata": {},
   "source": [
    "#### 7.3 CBOW Model"
   ]
  },
  {
   "cell_type": "code",
   "execution_count": 86,
   "metadata": {},
   "outputs": [],
   "source": [
    "model = cbow_model\n",
    "\n",
    "test_list = [test_adj_to_adv, test_comparative, test_nation]\n",
    "test_list_name = ['test_adj_to_adv', 'test_comparative', 'test_nation']\n",
    "\n",
    "results = []\n",
    "for idx in range(20): \n",
    "    emb_x1 = get_embed(x1[idx], model)\n",
    "    emb_x2 = get_embed(x2[idx], model)\n",
    "    yhat = stats.spearmanr(emb_x1, emb_x2)\n",
    "    yhat = yhat[0]\n",
    "    results.append(yhat)"
   ]
  },
  {
   "attachments": {},
   "cell_type": "markdown",
   "metadata": {},
   "source": [
    "#### 7.4 Skipgram with Negative Sampling"
   ]
  },
  {
   "cell_type": "code",
   "execution_count": 100,
   "metadata": {},
   "outputs": [],
   "source": [
    "def get_embed(word, current_model):\n",
    "    try:\n",
    "        index = word2index[word]\n",
    "    except :\n",
    "        index = word2index['<UNK>'] #unknown\n",
    "    word = torch.LongTensor([index])\n",
    "    \n",
    "    embed =  (current_model.embedding_v(word)+current_model.embedding_u(word))/2\n",
    "    return np.array(embed[0].detach().numpy())"
   ]
  },
  {
   "cell_type": "code",
   "execution_count": 101,
   "metadata": {},
   "outputs": [],
   "source": [
    "model = neg_skipgram_model\n",
    "\n",
    "test_list = [test_adj_to_adv, test_comparative, test_nation]\n",
    "test_list_name = ['test_adj_to_adv', 'test_comparative', 'test_nation']\n",
    "\n",
    "results = []\n",
    "for idx in range(20): \n",
    "    emb_x1 = get_embed(x1[idx], model)\n",
    "    emb_x2 = get_embed(x2[idx], model)\n",
    "    yhat = stats.spearmanr(emb_x1, emb_x2)\n",
    "    yhat = yhat[0]\n",
    "    results.append(yhat)"
   ]
  },
  {
   "attachments": {},
   "cell_type": "markdown",
   "metadata": {},
   "source": [
    "**Conclusion**\n",
    "\n",
    "All the results come out to 0. This could be because the training dataset was very small. \n"
   ]
  }
 ],
 "metadata": {
  "kernelspec": {
   "display_name": "Python 3",
   "language": "python",
   "name": "python3"
  },
  "language_info": {
   "codemirror_mode": {
    "name": "ipython",
    "version": 3
   },
   "file_extension": ".py",
   "mimetype": "text/x-python",
   "name": "python",
   "nbconvert_exporter": "python",
   "pygments_lexer": "ipython3",
   "version": "3.10.7"
  },
  "orig_nbformat": 4,
  "vscode": {
   "interpreter": {
    "hash": "3a9409b9deca2e32b1801514822bf60b5f36ee24c0efb3dea589c0a4c1325f8a"
   }
  }
 },
 "nbformat": 4,
 "nbformat_minor": 2
}
