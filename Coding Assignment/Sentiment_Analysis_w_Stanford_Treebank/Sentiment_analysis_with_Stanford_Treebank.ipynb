{
  "cells": [
    {
      "attachments": {},
      "cell_type": "markdown",
      "metadata": {},
      "source": [
        "# Sentiment Analysis with Stanford Treebank"
      ]
    },
    {
      "attachments": {},
      "cell_type": "markdown",
      "metadata": {},
      "source": [
        "1.  Find a sentiment dataset, to train a generic sentiment model. --> (any dataset) but chaky recommend https://nlp.stanford.edu/sentiment/treebank.html\n",
        "2.  Test your model, such that it SHOULD pass negative negative sentence (2), and negative positive sentence (2)\n",
        "3.  Create a website:\n",
        "     1.  Input one thing:  \"Mac mini 2022\", or \"Surface book\", \"#bitcoin\", \"Chaklam NLP class\"\n",
        "     2.  Scrap twitter data related to these products (no need too many posts....just like 50 posts...)\n",
        "     3.  Plot the graph, how many posts are positive and negative\n",
        "     4.  What are top words / entities inside positive comments, and negative comments"
      ]
    },
    {
      "cell_type": "markdown",
      "metadata": {
        "id": "N8r-aW45X2NV"
      },
      "source": [
        "# 1. Load Dataset"
      ]
    },
    {
      "cell_type": "code",
      "execution_count": 3,
      "metadata": {
        "id": "XXWZlIctWdNv"
      },
      "outputs": [
        {
          "name": "stderr",
          "output_type": "stream",
          "text": [
            "c:\\Users\\Sirikit Joshi\\.conda\\envs\\cudaenv\\lib\\site-packages\\tqdm\\auto.py:22: TqdmWarning: IProgress not found. Please update jupyter and ipywidgets. See https://ipywidgets.readthedocs.io/en/stable/user_install.html\n",
            "  from .autonotebook import tqdm as notebook_tqdm\n"
          ]
        }
      ],
      "source": [
        "import pytreebank\n",
        "import torch, torchdata, torchtext\n",
        "from torch import nn\n",
        "import time"
      ]
    },
    {
      "cell_type": "code",
      "execution_count": 4,
      "metadata": {},
      "outputs": [
        {
          "name": "stdout",
          "output_type": "stream",
          "text": [
            "cuda\n"
          ]
        }
      ],
      "source": [
        "device = torch.device('cuda' if torch.cuda.is_available() else 'cpu')\n",
        "print(device)"
      ]
    },
    {
      "cell_type": "code",
      "execution_count": 5,
      "metadata": {
        "id": "RY7psR5rXP3n"
      },
      "outputs": [],
      "source": [
        "SEED = 999\n",
        "torch.manual_seed(SEED)\n",
        "torch.backends.cudnn.deterministic = True"
      ]
    },
    {
      "cell_type": "code",
      "execution_count": 6,
      "metadata": {
        "id": "5Ieu3QQBWnIK"
      },
      "outputs": [],
      "source": [
        "dataset = pytreebank.load_sst(\"./sentiment/\")"
      ]
    },
    {
      "cell_type": "code",
      "execution_count": 7,
      "metadata": {
        "id": "jlMOYB-AWpzS"
      },
      "outputs": [],
      "source": [
        "train_data = pytreebank.import_tree_corpus(\"./sentiment/train.txt\")\n",
        "test_data = pytreebank.import_tree_corpus(\"./sentiment/test.txt\")\n",
        "dev_data = pytreebank.import_tree_corpus(\"./sentiment/dev.txt\")"
      ]
    },
    {
      "cell_type": "code",
      "execution_count": 8,
      "metadata": {
        "colab": {
          "base_uri": "https://localhost:8080/"
        },
        "id": "WGNmYA6HWrcj",
        "outputId": "3cb4f6ca-43c4-44f6-b429-58bea3f8862e"
      },
      "outputs": [
        {
          "name": "stdout",
          "output_type": "stream",
          "text": [
            "3 The Rock is destined to be the 21st Century 's new `` Conan '' and that he 's going to make a splash even greater than Arnold Schwarzenegger , Jean-Claud Van Damme or Steven Segal .\n"
          ]
        }
      ],
      "source": [
        "td = train_data[0]\n",
        "for label, sentence in td.to_labeled_lines():\n",
        "  print(label, sentence)\n",
        "  break"
      ]
    },
    {
      "cell_type": "code",
      "execution_count": 9,
      "metadata": {
        "colab": {
          "base_uri": "https://localhost:8080/"
        },
        "id": "guB5tsoQYmKP",
        "outputId": "f3c10278-155a-4a13-9e9f-46d1814812dd"
      },
      "outputs": [
        {
          "data": {
            "text/plain": [
              "{0, 1, 2, 3, 4}"
            ]
          },
          "execution_count": 9,
          "metadata": {},
          "output_type": "execute_result"
        }
      ],
      "source": [
        "set([label for t in train_data for label, sentence in t.to_labeled_lines()])"
      ]
    },
    {
      "cell_type": "code",
      "execution_count": 10,
      "metadata": {
        "id": "KxTeJR_pYyYv"
      },
      "outputs": [],
      "source": [
        "def flatten(data):\n",
        "   return  [(label, text) for d in data for label,text in d.to_labeled_lines()]"
      ]
    },
    {
      "cell_type": "code",
      "execution_count": 11,
      "metadata": {
        "id": "gutu3EzvZ-6h"
      },
      "outputs": [],
      "source": [
        "train_data = flatten(train_data)\n",
        "test_data = flatten(test_data)\n",
        "valid_data = flatten(dev_data)"
      ]
    },
    {
      "cell_type": "code",
      "execution_count": 12,
      "metadata": {
        "id": "-vmbn4Uc1TDG"
      },
      "outputs": [],
      "source": [
        "for td in train_data:\n",
        "  if td[0] == -1:\n",
        "    print(td[0])\n",
        "    break"
      ]
    },
    {
      "cell_type": "code",
      "execution_count": 13,
      "metadata": {
        "id": "vGbVt7NgY6YC"
      },
      "outputs": [],
      "source": [
        "train_size = len(train_data)\n",
        "test_size = len(test_data)\n",
        "valid_size = len(valid_data)"
      ]
    },
    {
      "cell_type": "code",
      "execution_count": 14,
      "metadata": {
        "colab": {
          "base_uri": "https://localhost:8080/"
        },
        "id": "1dPK6a6yY2tR",
        "outputId": "031b463f-afde-45bf-d509-388f6131e232"
      },
      "outputs": [
        {
          "data": {
            "text/plain": [
              "(318582, 82600, 41447)"
            ]
          },
          "execution_count": 14,
          "metadata": {},
          "output_type": "execute_result"
        }
      ],
      "source": [
        "train_size, test_size, valid_size"
      ]
    },
    {
      "cell_type": "markdown",
      "metadata": {
        "id": "C3yi0MI4aZBZ"
      },
      "source": [
        "# 2. Preprocessing\n",
        "## 2.1 Tokenization"
      ]
    },
    {
      "cell_type": "code",
      "execution_count": 15,
      "metadata": {
        "colab": {
          "base_uri": "https://localhost:8080/"
        },
        "id": "4wwBTqM2aWWX",
        "outputId": "90304b5f-cc34-4885-bbba-7303124cb52b"
      },
      "outputs": [],
      "source": [
        "from torchtext.data.utils import get_tokenizer\n",
        "\n",
        "tokenizer = get_tokenizer('spacy', language='en_core_web_sm')"
      ]
    },
    {
      "cell_type": "code",
      "execution_count": 16,
      "metadata": {
        "colab": {
          "base_uri": "https://localhost:8080/"
        },
        "id": "JlCjx8-GbMjx",
        "outputId": "45e06879-38f7-4796-afef-185d4eeb82fe"
      },
      "outputs": [
        {
          "data": {
            "text/plain": [
              "['The',\n",
              " 'Rock',\n",
              " 'is',\n",
              " 'destined',\n",
              " 'to',\n",
              " 'be',\n",
              " 'the',\n",
              " '21st',\n",
              " 'Century',\n",
              " \"'s\",\n",
              " 'new',\n",
              " '`',\n",
              " '`',\n",
              " 'Conan',\n",
              " \"''\",\n",
              " 'and',\n",
              " 'that',\n",
              " 'he',\n",
              " \"'s\",\n",
              " 'going',\n",
              " 'to',\n",
              " 'make',\n",
              " 'a',\n",
              " 'splash',\n",
              " 'even',\n",
              " 'greater',\n",
              " 'than',\n",
              " 'Arnold',\n",
              " 'Schwarzenegger',\n",
              " ',',\n",
              " 'Jean',\n",
              " '-',\n",
              " 'Claud',\n",
              " 'Van',\n",
              " 'Damme',\n",
              " 'or',\n",
              " 'Steven',\n",
              " 'Segal',\n",
              " '.']"
            ]
          },
          "execution_count": 16,
          "metadata": {},
          "output_type": "execute_result"
        }
      ],
      "source": [
        "tokens = tokenizer(train_data[0][1])\n",
        "tokens"
      ]
    },
    {
      "cell_type": "markdown",
      "metadata": {
        "id": "UajP-uagbeK3"
      },
      "source": [
        "### 2.2 Numericalization"
      ]
    },
    {
      "cell_type": "code",
      "execution_count": 17,
      "metadata": {
        "id": "dvF05YE1bU5K"
      },
      "outputs": [],
      "source": [
        "from torchtext.vocab import build_vocab_from_iterator\n",
        "\n",
        "def yield_tokens(data_iter):  #data_iter, e.g., train\n",
        "    for _, text in data_iter:\n",
        "        yield tokenizer(text)\n",
        "        \n",
        "vocab = build_vocab_from_iterator(yield_tokens(train_data), specials=['<unk>', '<pad>',\n",
        "                                                                 '<bos>', '<eos>'])"
      ]
    },
    {
      "cell_type": "code",
      "execution_count": 18,
      "metadata": {
        "id": "lMj7v5ARbi-X"
      },
      "outputs": [],
      "source": [
        "vocab.set_default_index(vocab[\"<unk>\"]) "
      ]
    },
    {
      "cell_type": "code",
      "execution_count": 19,
      "metadata": {
        "colab": {
          "base_uri": "https://localhost:8080/"
        },
        "id": "nkfh_7vJblXG",
        "outputId": "02371cc3-d73c-48e7-cb5e-57ec3438daf7"
      },
      "outputs": [
        {
          "data": {
            "text/plain": [
              "[24,\n",
              " 1131,\n",
              " 13,\n",
              " 6308,\n",
              " 9,\n",
              " 28,\n",
              " 4,\n",
              " 2595,\n",
              " 2551,\n",
              " 12,\n",
              " 134,\n",
              " 25,\n",
              " 25,\n",
              " 5994,\n",
              " 69,\n",
              " 8,\n",
              " 15,\n",
              " 93,\n",
              " 12,\n",
              " 243,\n",
              " 9,\n",
              " 89,\n",
              " 6,\n",
              " 5953,\n",
              " 84,\n",
              " 3652,\n",
              " 40,\n",
              " 2304,\n",
              " 2511,\n",
              " 5,\n",
              " 3175,\n",
              " 11,\n",
              " 7357,\n",
              " 2562,\n",
              " 4927,\n",
              " 43,\n",
              " 896,\n",
              " 8149,\n",
              " 10]"
            ]
          },
          "execution_count": 19,
          "metadata": {},
          "output_type": "execute_result"
        }
      ],
      "source": [
        "vocab(tokens)"
      ]
    },
    {
      "cell_type": "code",
      "execution_count": 20,
      "metadata": {
        "id": "8bW7kIPob5zy"
      },
      "outputs": [],
      "source": [
        "id2word = vocab.get_itos()"
      ]
    },
    {
      "cell_type": "code",
      "execution_count": 21,
      "metadata": {
        "colab": {
          "base_uri": "https://localhost:8080/",
          "height": 36
        },
        "id": "kpev7hhyb9dr",
        "outputId": "fdf4bb77-770e-4aae-82e4-868c7c577a14"
      },
      "outputs": [
        {
          "data": {
            "text/plain": [
              "'<unk>'"
            ]
          },
          "execution_count": 21,
          "metadata": {},
          "output_type": "execute_result"
        }
      ],
      "source": [
        "id2word[0]"
      ]
    },
    {
      "cell_type": "code",
      "execution_count": 22,
      "metadata": {
        "colab": {
          "base_uri": "https://localhost:8080/"
        },
        "id": "sPjV7APdb-6O",
        "outputId": "77e89eae-f53a-43eb-e08b-0d7cea82441c"
      },
      "outputs": [
        {
          "data": {
            "text/plain": [
              "[1, 2, 3]"
            ]
          },
          "execution_count": 22,
          "metadata": {},
          "output_type": "execute_result"
        }
      ],
      "source": [
        "vocab(['<pad>','<bos>','<eos>'])"
      ]
    },
    {
      "cell_type": "code",
      "execution_count": 23,
      "metadata": {
        "colab": {
          "base_uri": "https://localhost:8080/"
        },
        "id": "iXQItmIJcAS8",
        "outputId": "9af463c7-a3e5-43e4-c93b-9849955e6428"
      },
      "outputs": [
        {
          "data": {
            "text/plain": [
              "17136"
            ]
          },
          "execution_count": 23,
          "metadata": {},
          "output_type": "execute_result"
        }
      ],
      "source": [
        "len(vocab)"
      ]
    },
    {
      "cell_type": "markdown",
      "metadata": {
        "id": "UihheNy7cC8A"
      },
      "source": [
        "# 3. FastText Embedding"
      ]
    },
    {
      "cell_type": "code",
      "execution_count": 24,
      "metadata": {
        "id": "HRRErTG6cBxO"
      },
      "outputs": [
        {
          "name": "stderr",
          "output_type": "stream",
          "text": [
            ".vector_cache\\wiki.simple.vec: 293MB [00:23, 12.7MB/s]                               \n",
            "  0%|          | 0/111051 [00:00<?, ?it/s]Skipping token b'111051' with 1-dimensional vector [b'300']; likely a header\n",
            "100%|██████████| 111051/111051 [00:10<00:00, 11009.99it/s]\n"
          ]
        }
      ],
      "source": [
        "from torchtext.vocab import FastText\n",
        "fast_vectors = FastText(language='simple')"
      ]
    },
    {
      "cell_type": "code",
      "execution_count": 25,
      "metadata": {
        "id": "14uH5TqBcIkB"
      },
      "outputs": [],
      "source": [
        "fast_embedding = fast_vectors.get_vecs_by_tokens(vocab.get_itos()).to(device)"
      ]
    },
    {
      "cell_type": "code",
      "execution_count": 26,
      "metadata": {
        "colab": {
          "base_uri": "https://localhost:8080/"
        },
        "id": "J-srghdBcM0P",
        "outputId": "80b0278e-fc71-40e1-9bfc-186efd245389"
      },
      "outputs": [
        {
          "data": {
            "text/plain": [
              "torch.Size([17136, 300])"
            ]
          },
          "execution_count": 26,
          "metadata": {},
          "output_type": "execute_result"
        }
      ],
      "source": [
        "fast_embedding.shape"
      ]
    },
    {
      "cell_type": "code",
      "execution_count": 27,
      "metadata": {
        "colab": {
          "base_uri": "https://localhost:8080/"
        },
        "id": "grmdyvYGcOR2",
        "outputId": "0132023f-3d93-4ba5-f782-dabc8bfe23bb"
      },
      "outputs": [
        {
          "data": {
            "text/plain": [
              "tensor([-0.0595, -0.0829,  0.0264, -0.2511, -0.0340,  0.2841,  0.1026, -0.0634,\n",
              "         0.0880,  0.1869], device='cuda:0')"
            ]
          },
          "execution_count": 27,
          "metadata": {},
          "output_type": "execute_result"
        }
      ],
      "source": [
        "fast_embedding[100][:10]"
      ]
    },
    {
      "cell_type": "markdown",
      "metadata": {
        "id": "iSSKwNXacS_W"
      },
      "source": [
        "# 4. Preparing dataloader"
      ]
    },
    {
      "cell_type": "code",
      "execution_count": 28,
      "metadata": {
        "id": "Q2yKQ4YOcRMV"
      },
      "outputs": [],
      "source": [
        "from torch.utils.data import DataLoader\n",
        "from torch.nn.utils.rnn import pad_sequence "
      ]
    },
    {
      "cell_type": "code",
      "execution_count": 29,
      "metadata": {
        "id": "DhTyrMKhcbyb"
      },
      "outputs": [],
      "source": [
        "text_pipeline = lambda x: vocab(tokenizer(x))\n",
        "label_pipeline = lambda x:int(x)"
      ]
    },
    {
      "cell_type": "code",
      "execution_count": 30,
      "metadata": {
        "id": "O2SnTFNxcdfG"
      },
      "outputs": [],
      "source": [
        "pad_idx = vocab['<pad>']\n",
        "\n",
        "#this function gonna be called by DataLoader\n",
        "def collate_batch(batch):\n",
        "    label_list, text_list, length_list = [], [], []\n",
        "    for (_label, _text) in batch:\n",
        "        label_list.append(label_pipeline(_label))\n",
        "        processed_text = torch.tensor(text_pipeline(_text), dtype=torch.int64)\n",
        "        text_list.append(processed_text)\n",
        "        length_list.append(processed_text.size(0)) #for padding\n",
        "        \n",
        "    return torch.tensor(label_list, dtype=torch.int64), \\\n",
        "        pad_sequence(text_list, padding_value=pad_idx, batch_first=True), \\\n",
        "        torch.tensor(length_list, dtype=torch.int64)"
      ]
    },
    {
      "cell_type": "code",
      "execution_count": 31,
      "metadata": {
        "id": "EcUm98hecfSo"
      },
      "outputs": [],
      "source": [
        "batch_size = 64\n",
        "\n",
        "train_loader = DataLoader(train_data, batch_size = batch_size, shuffle=True, collate_fn=collate_batch)\n",
        "test_loader = DataLoader(test_data, batch_size = batch_size, shuffle=True, collate_fn=collate_batch)\n",
        "valid_loader = DataLoader(valid_data, batch_size = batch_size, shuffle=True, collate_fn=collate_batch)"
      ]
    },
    {
      "cell_type": "code",
      "execution_count": 32,
      "metadata": {
        "id": "DAWjp646ci5I"
      },
      "outputs": [],
      "source": [
        "train_loader_length = len(list(iter(train_loader)))\n",
        "valid_loader_length   = len(list(iter(valid_loader)))\n",
        "test_loader_length  = len(list(iter(test_loader)))"
      ]
    },
    {
      "cell_type": "code",
      "execution_count": 33,
      "metadata": {
        "colab": {
          "base_uri": "https://localhost:8080/"
        },
        "id": "kGg9eGqHcoEU",
        "outputId": "862a3096-9871-4f4f-b811-f6599a2ba7f3"
      },
      "outputs": [
        {
          "data": {
            "text/plain": [
              "(4978, 648, 1291)"
            ]
          },
          "execution_count": 33,
          "metadata": {},
          "output_type": "execute_result"
        }
      ],
      "source": [
        "train_loader_length,valid_loader_length,test_loader_length"
      ]
    },
    {
      "cell_type": "code",
      "execution_count": 34,
      "metadata": {
        "id": "V6QqaoAkc093"
      },
      "outputs": [],
      "source": [
        "for label, text, length in train_loader:\n",
        "  break"
      ]
    },
    {
      "cell_type": "code",
      "execution_count": 35,
      "metadata": {
        "colab": {
          "base_uri": "https://localhost:8080/"
        },
        "id": "kzeCiuwXpzXz",
        "outputId": "09a4164f-cdf7-4604-e461-cb0318ae2b4b"
      },
      "outputs": [
        {
          "data": {
            "text/plain": [
              "(tensor([2, 3, 2, 2, 2, 3, 2, 2, 2, 2, 2, 2, 2, 2, 3, 2, 2, 2, 1, 2, 2, 2, 2, 1,\n",
              "         3, 2, 3, 2, 3, 2, 2, 3, 2, 4, 2, 2, 2, 2, 2, 2, 2, 2, 2, 2, 2, 2, 3, 2,\n",
              "         2, 2, 2, 3, 2, 2, 2, 2, 2, 2, 2, 2, 1, 4, 3, 2]),\n",
              " tensor([[  273,     1,     1,  ...,     1,     1,     1],\n",
              "         [12727,   238,   278,  ...,     1,     1,     1],\n",
              "         [ 1045,   175,     1,  ...,     1,     1,     1],\n",
              "         ...,\n",
              "         [  365,    65,     1,  ...,     1,     1,     1],\n",
              "         [   13,  2479,     9,  ...,     1,     1,     1],\n",
              "         [   24,    18,     1,  ...,     1,     1,     1]]),\n",
              " tensor([ 1,  3,  2,  1,  1,  5,  6,  1, 16, 15,  1,  1,  1, 16,  3,  1,  1,  4,\n",
              "          5,  2,  1,  1,  1,  1,  1,  1,  4,  2,  8,  2,  1,  8,  1,  1,  1,  1,\n",
              "         13, 12,  1,  2,  1,  7,  1,  1,  1,  4,  3,  1,  1,  8,  1,  4,  2,  8,\n",
              "          1,  1,  6,  7,  2,  1,  6,  2,  4,  2]))"
            ]
          },
          "execution_count": 35,
          "metadata": {},
          "output_type": "execute_result"
        }
      ],
      "source": [
        "label, text, length"
      ]
    },
    {
      "cell_type": "code",
      "execution_count": 36,
      "metadata": {
        "colab": {
          "base_uri": "https://localhost:8080/"
        },
        "id": "mytktDiLc3dO",
        "outputId": "1cd794c5-42b8-46a5-9a33-19b79a3ee927"
      },
      "outputs": [
        {
          "data": {
            "text/plain": [
              "(torch.Size([64]), torch.Size([64, 16]), torch.Size([64]))"
            ]
          },
          "execution_count": 36,
          "metadata": {},
          "output_type": "execute_result"
        }
      ],
      "source": [
        "label.shape, text.shape, length.shape"
      ]
    },
    {
      "cell_type": "markdown",
      "metadata": {
        "id": "w3Z0OqvMc8x4"
      },
      "source": [
        "# 5. Designing the model"
      ]
    },
    {
      "cell_type": "code",
      "execution_count": 37,
      "metadata": {
        "id": "tAjJ1tZgc6eN"
      },
      "outputs": [],
      "source": [
        "class LSTM(nn.Module):\n",
        "    def __init__(self, input_dim, emb_dim, hid_dim, output_dim, num_layers, bidirectional, dropout):\n",
        "        super().__init__()\n",
        "        #put padding_idx so asking the embedding layer to ignore padding\n",
        "        self.embedding = nn.Embedding(input_dim, emb_dim, padding_idx=pad_idx)\n",
        "        self.lstm = nn.LSTM(emb_dim, \n",
        "                           hid_dim, \n",
        "                           num_layers=num_layers, \n",
        "                           bidirectional=bidirectional, \n",
        "                           dropout=dropout,\n",
        "                           batch_first=True)\n",
        "        self.fc = nn.Linear(hid_dim * 2, output_dim)\n",
        "        \n",
        "    def forward(self, text, text_lengths):\n",
        "        #text = [batch size, seq len]\n",
        "        embedded = self.embedding(text)\n",
        "        \n",
        "        #++ pack sequence ++\n",
        "        packed_embedded = nn.utils.rnn.pack_padded_sequence(embedded, text_lengths.to('cpu'), enforce_sorted=False, batch_first=True)\n",
        "        \n",
        "        #embedded = [batch size, seq len, embed dim]\n",
        "        packed_output, (hn, cn) = self.lstm(packed_embedded)  #if no h0, all zeroes\n",
        "        \n",
        "        #++ unpack in case we need to use it ++\n",
        "        output, output_lengths = nn.utils.rnn.pad_packed_sequence(packed_output, batch_first=True)\n",
        "        \n",
        "        #output = [batch size, seq len, hidden dim * num directions]\n",
        "        #output over padding tokens are zero tensors\n",
        "        \n",
        "        #hidden = [num layers * num directions, batch size, hid dim]\n",
        "        #cell = [num layers * num directions, batch size, hid dim]\n",
        "        \n",
        "        #concat the final forward (hidden[-2,:,:]) and backward (hidden[-1,:,:]) hidden layers\n",
        "        hn = torch.cat((hn[-1,:,:], hn[-2,:,:]), dim = 1)\n",
        "        #hn = [batch size, hidden dim * num directions]\n",
        "        \n",
        "        return self.fc(hn)"
      ]
    },
    {
      "cell_type": "markdown",
      "metadata": {
        "id": "h6FfVJfVdaRX"
      },
      "source": [
        "# 6. Training"
      ]
    },
    {
      "cell_type": "code",
      "execution_count": 38,
      "metadata": {
        "id": "84V9lbw2dVP_"
      },
      "outputs": [],
      "source": [
        "def initialize_weights(m):\n",
        "    if isinstance(m, nn.Linear):\n",
        "        nn.init.xavier_normal_(m.weight)\n",
        "        nn.init.zeros_(m.bias)\n",
        "    elif isinstance(m, nn.LSTM):\n",
        "        for name, param in m.named_parameters():\n",
        "            if 'bias' in name:\n",
        "                nn.init.zeros_(param)\n",
        "            elif 'weight' in name:\n",
        "                nn.init.orthogonal_(param)"
      ]
    },
    {
      "cell_type": "code",
      "execution_count": 39,
      "metadata": {
        "id": "onss_5fNdvXv"
      },
      "outputs": [],
      "source": [
        "input_dim  = len(vocab)\n",
        "hid_dim    = 256\n",
        "emb_dim    = 300         #**<----change to 300\n",
        "output_dim = 5 #five classes\n",
        "\n",
        "#for biLSTM\n",
        "num_layers = 2\n",
        "bidirectional = True\n",
        "dropout = 0.5\n",
        "\n",
        "model = LSTM(input_dim, emb_dim, hid_dim, output_dim, num_layers, bidirectional, dropout).to(device)\n",
        "model.apply(initialize_weights)\n",
        "model.embedding.weight.data = fast_embedding #**<------applied the fast text embeddi"
      ]
    },
    {
      "cell_type": "code",
      "execution_count": 40,
      "metadata": {
        "colab": {
          "base_uri": "https://localhost:8080/"
        },
        "id": "azbH7QnEeCMx",
        "outputId": "074999c6-989b-4161-ce70-9bd70798904a"
      },
      "outputs": [
        {
          "name": "stdout",
          "output_type": "stream",
          "text": [
            "5140800\n",
            "307200\n",
            "262144\n",
            "  1024\n",
            "  1024\n",
            "307200\n",
            "262144\n",
            "  1024\n",
            "  1024\n",
            "524288\n",
            "262144\n",
            "  1024\n",
            "  1024\n",
            "524288\n",
            "262144\n",
            "  1024\n",
            "  1024\n",
            "  2560\n",
            "     5\n",
            "______\n",
            "7863109\n"
          ]
        }
      ],
      "source": [
        "def count_parameters(model):\n",
        "    params = [p.numel() for p in model.parameters() if p.requires_grad]\n",
        "    for item in params:\n",
        "        print(f'{item:>6}')\n",
        "    print(f'______\\n{sum(params):>6}')\n",
        "    \n",
        "count_parameters(model)"
      ]
    },
    {
      "cell_type": "code",
      "execution_count": 41,
      "metadata": {
        "id": "xYdRdmn3e3li"
      },
      "outputs": [],
      "source": [
        "import torch.optim as optim\n",
        "\n",
        "lr=1e-3\n",
        "\n",
        "#training hyperparameters\n",
        "optimizer = optim.Adam(model.parameters(), lr=lr)\n",
        "criterion = nn.CrossEntropyLoss() #combine softmax with cross entropy"
      ]
    },
    {
      "cell_type": "code",
      "execution_count": 42,
      "metadata": {
        "id": "RqtcYEuXe5fX"
      },
      "outputs": [],
      "source": [
        "def accuracy(preds, y):\n",
        "    predicted = torch.max(preds.data, 1)[1]\n",
        "    batch_corr = (predicted == y).sum()\n",
        "    acc = batch_corr / len(y)\n",
        "    \n",
        "    return acc"
      ]
    },
    {
      "cell_type": "code",
      "execution_count": 43,
      "metadata": {
        "id": "e_H53H_WgBss"
      },
      "outputs": [],
      "source": [
        "def train(model, loader, optimizer, criterion, loader_length):\n",
        "    epoch_loss = 0\n",
        "    epoch_acc = 0\n",
        "    model.train() #useful for batchnorm and dropout\n",
        "    \n",
        "    for i, (label, text, text_length) in enumerate(loader):\n",
        "        label = label.to(device) #(batch_size, )\n",
        "        text = text.to(device) #(batch_size, seq len)\n",
        "\n",
        "        if i%500 == 0:\n",
        "          print(f\"Training {i} out of {loader_length}\") \n",
        "        \n",
        "        #predict\n",
        "        predictions = model(text, text_length).squeeze(1)\n",
        "        #calculate loss\n",
        "        loss = criterion(predictions, label)\n",
        "        acc  = accuracy(predictions, label)\n",
        "        #backprop\n",
        "        optimizer.zero_grad()\n",
        "        loss.backward()\n",
        "        optimizer.step()\n",
        "        \n",
        "        epoch_loss += loss.item()\n",
        "        epoch_acc += acc.item()\n",
        "\n",
        "    return epoch_loss / loader_length, epoch_acc / loader_length"
      ]
    },
    {
      "cell_type": "code",
      "execution_count": 44,
      "metadata": {
        "id": "M3y_rZU_gAHs"
      },
      "outputs": [],
      "source": [
        "def evaluate(model, loader, criterion, loader_length):\n",
        "    epoch_loss = 0\n",
        "    epoch_acc = 0\n",
        "    model.eval()\n",
        "    \n",
        "    with torch.no_grad():\n",
        "        for i, (label, text, text_length) in enumerate(loader): \n",
        "            label = label.to(device) #(batch_size, )\n",
        "            text  = text.to(device)  #(seq len, batch_size)\n",
        "            \n",
        "            predictions = model(text, text_length).squeeze(1) \n",
        "            loss = criterion(predictions, label)\n",
        "            acc  = accuracy(predictions, label)\n",
        "\n",
        "            epoch_loss += loss.item()\n",
        "            epoch_acc += acc.item()\n",
        "        \n",
        "    return epoch_loss / loader_length, epoch_acc / loader_length"
      ]
    },
    {
      "cell_type": "code",
      "execution_count": 45,
      "metadata": {
        "id": "U_XPEPzAf-NN"
      },
      "outputs": [],
      "source": [
        "def epoch_time(start_time, end_time):\n",
        "    elapsed_time = end_time - start_time\n",
        "    elapsed_mins = int(elapsed_time / 60)\n",
        "    elapsed_secs = int(elapsed_time - (elapsed_mins * 60))\n",
        "    return elapsed_mins, elapsed_secs"
      ]
    },
    {
      "cell_type": "code",
      "execution_count": 47,
      "metadata": {
        "colab": {
          "base_uri": "https://localhost:8080/"
        },
        "id": "B-IOy5BMe7Iq",
        "outputId": "fdcda4b0-a226-4147-fbb5-b836fcab3eff"
      },
      "outputs": [
        {
          "name": "stdout",
          "output_type": "stream",
          "text": [
            "Start epoch 0\n",
            "Training 0 out of 4978\n",
            "Training 500 out of 4978\n",
            "Training 1000 out of 4978\n",
            "Training 1500 out of 4978\n",
            "Training 2000 out of 4978\n",
            "Training 2500 out of 4978\n",
            "Training 3000 out of 4978\n",
            "Training 3500 out of 4978\n",
            "Training 4000 out of 4978\n",
            "Training 4500 out of 4978\n",
            "Epoch: 01 | Time: 1m 17s\n",
            "\tTrain Loss: 0.354 | Train Acc: 85.27%\n",
            "\t Val. Loss: 0.449 |  Val. Acc: 82.13%\n",
            "End epoch 0\n",
            "Start epoch 1\n",
            "Training 0 out of 4978\n",
            "Training 500 out of 4978\n",
            "Training 1000 out of 4978\n",
            "Training 1500 out of 4978\n",
            "Training 2000 out of 4978\n",
            "Training 2500 out of 4978\n",
            "Training 3000 out of 4978\n",
            "Training 3500 out of 4978\n",
            "Training 4000 out of 4978\n",
            "Training 4500 out of 4978\n",
            "Epoch: 02 | Time: 1m 38s\n",
            "\tTrain Loss: 0.313 | Train Acc: 86.91%\n",
            "\t Val. Loss: 0.481 |  Val. Acc: 79.98%\n",
            "End epoch 1\n",
            "Start epoch 2\n",
            "Training 0 out of 4978\n",
            "Training 500 out of 4978\n",
            "Training 1000 out of 4978\n",
            "Training 1500 out of 4978\n",
            "Training 2000 out of 4978\n",
            "Training 2500 out of 4978\n",
            "Training 3000 out of 4978\n",
            "Training 3500 out of 4978\n",
            "Training 4000 out of 4978\n",
            "Training 4500 out of 4978\n",
            "Epoch: 03 | Time: 1m 51s\n",
            "\tTrain Loss: 0.284 | Train Acc: 88.04%\n",
            "\t Val. Loss: 0.492 |  Val. Acc: 80.22%\n",
            "End epoch 2\n",
            "Start epoch 3\n",
            "Training 0 out of 4978\n",
            "Training 500 out of 4978\n",
            "Training 1000 out of 4978\n",
            "Training 1500 out of 4978\n",
            "Training 2000 out of 4978\n",
            "Training 2500 out of 4978\n",
            "Training 3000 out of 4978\n",
            "Training 3500 out of 4978\n",
            "Training 4000 out of 4978\n",
            "Training 4500 out of 4978\n",
            "Epoch: 04 | Time: 2m 13s\n",
            "\tTrain Loss: 0.257 | Train Acc: 89.07%\n",
            "\t Val. Loss: 0.514 |  Val. Acc: 79.57%\n",
            "End epoch 3\n"
          ]
        }
      ],
      "source": [
        "best_valid_loss = float('inf')\n",
        "num_epochs      = 10\n",
        "tolerance_counter = 0\n",
        "\n",
        "save_path = f'models/{model.__class__.__name__}_TreeBank.pt'\n",
        "\n",
        "train_losses = []\n",
        "train_accs = []\n",
        "valid_losses = []\n",
        "valid_accs = []\n",
        "\n",
        "for epoch in range(num_epochs):\n",
        "    print(f\"Start epoch {epoch}\")\n",
        "    start_time = time.time()\n",
        "    train_loss, train_acc = train(model, train_loader, optimizer, criterion, train_loader_length)\n",
        "    valid_loss, valid_acc = evaluate(model, valid_loader, criterion, valid_loader_length)\n",
        "    \n",
        "    #for plotting\n",
        "    train_losses.append(train_loss)\n",
        "    train_accs.append(train_acc)\n",
        "    valid_losses.append(valid_loss)\n",
        "    valid_accs.append(valid_acc)\n",
        "    \n",
        "    end_time = time.time()\n",
        "    \n",
        "    epoch_mins, epoch_secs = epoch_time(start_time, end_time)\n",
        "    \n",
        "    if valid_loss < best_valid_loss:\n",
        "        best_valid_loss = valid_loss\n",
        "        tolerance_counter = 0\n",
        "        torch.save(model.state_dict(), save_path)\n",
        "    \n",
        "    print(f'Epoch: {epoch+1:02} | Time: {epoch_mins}m {epoch_secs}s')\n",
        "    print(f'\\tTrain Loss: {train_loss:.3f} | Train Acc: {train_acc*100:.2f}%')\n",
        "    print(f'\\t Val. Loss: {valid_loss:.3f} |  Val. Acc: {valid_acc*100:.2f}%')\n",
        "    print(f\"End epoch {epoch}\")\n",
        "    # Tolerance techniques, stop the model if it start to overfit.\n",
        "    if tolerance_counter >= 3:\n",
        "        break\n",
        "\n",
        "    tolerance_counter = tolerance_counter + 1"
      ]
    },
    {
      "cell_type": "code",
      "execution_count": 48,
      "metadata": {
        "colab": {
          "base_uri": "https://localhost:8080/",
          "height": 405
        },
        "id": "RkM0ZLVw4a88",
        "outputId": "c2dbcd64-5947-40c1-c1b2-e75efbea5599"
      },
      "outputs": [
        {
          "data": {
            "text/plain": [
              "Text(0, 0.5, 'loss')"
            ]
          },
          "execution_count": 48,
          "metadata": {},
          "output_type": "execute_result"
        },
        {
          "data": {
            "image/png": "[encoded data removed]",
            "text/plain": [
              "<Figure size 1000x600 with 1 Axes>"
            ]
          },
          "metadata": {},
          "output_type": "display_data"
        }
      ],
      "source": [
        "import matplotlib.pyplot as plt\n",
        "fig = plt.figure(figsize=(10, 6))\n",
        "ax = fig.add_subplot(1, 1, 1)\n",
        "ax.plot(train_losses, label = 'train loss')\n",
        "ax.plot(valid_losses, label = 'valid loss')\n",
        "plt.legend()\n",
        "ax.set_xlabel('updates')\n",
        "ax.set_ylabel('loss')"
      ]
    },
    {
      "cell_type": "code",
      "execution_count": 49,
      "metadata": {
        "colab": {
          "base_uri": "https://localhost:8080/",
          "height": 405
        },
        "id": "qcyr2qAEz2QR",
        "outputId": "69e70ae8-827b-4e5d-f15f-386f9c610ac2"
      },
      "outputs": [
        {
          "data": {
            "text/plain": [
              "Text(0, 0.5, 'acc')"
            ]
          },
          "execution_count": 49,
          "metadata": {},
          "output_type": "execute_result"
        },
        {
          "data": {
            "image/png": "[encoded data removed]",
            "text/plain": [
              "<Figure size 1000x600 with 1 Axes>"
            ]
          },
          "metadata": {},
          "output_type": "display_data"
        }
      ],
      "source": [
        "fig = plt.figure(figsize=(10, 6))\n",
        "ax = fig.add_subplot(1, 1, 1)\n",
        "ax.plot(train_accs, label = 'train acc')\n",
        "ax.plot(valid_accs, label = 'valid acc')\n",
        "plt.legend()\n",
        "ax.set_xlabel('updates')\n",
        "ax.set_ylabel('acc')"
      ]
    },
    {
      "cell_type": "code",
      "execution_count": 50,
      "metadata": {
        "colab": {
          "base_uri": "https://localhost:8080/"
        },
        "id": "XqgG4Ry2z2l_",
        "outputId": "ce26ed1c-cd79-445a-da34-de4b1809b77e"
      },
      "outputs": [
        {
          "name": "stdout",
          "output_type": "stream",
          "text": [
            "Test Loss: 0.456 | Test Acc: 81.86%\n"
          ]
        }
      ],
      "source": [
        "model.load_state_dict(torch.load(save_path))\n",
        "\n",
        "test_loss, test_acc = evaluate(model, test_loader, criterion, test_loader_length)\n",
        "\n",
        "print(f'Test Loss: {test_loss:.3f} | Test Acc: {test_acc*100:.2f}%')"
      ]
    },
    {
      "attachments": {},
      "cell_type": "markdown",
      "metadata": {
        "id": "Y8fTs_Ia0X4B"
      },
      "source": [
        "# 7. Testing on some random news"
      ]
    },
    {
      "cell_type": "code",
      "execution_count": 62,
      "metadata": {
        "id": "OrAlnYa1z5M8"
      },
      "outputs": [],
      "source": [
        "test_str_list = [\n",
        "    'What a waste of space, why is this trash even here',\n",
        "    'The movie was not as good as I expected',\n",
        "    'Overall, the movie was not the worst',\n",
        "    'This movie was terribly fantastic',\n",
        "    \"WOW, this is the best movie of all time\" \n",
        "    ] "
      ]
    },
    {
      "cell_type": "code",
      "execution_count": 52,
      "metadata": {
        "id": "BwCehlEu0PaV"
      },
      "outputs": [],
      "source": [
        "def prediction(test_str_list):\n",
        "    result = list()\n",
        "    for test_str in test_str_list:\n",
        "        text = torch.tensor(text_pipeline(test_str)).to(device).reshape(1, -1)\n",
        "        # text_list = [x.item() for x in text]\n",
        "        text_length = torch.tensor([text.size(1)]).to(dtype=torch.int64)\n",
        "        output = model(text, text_length).squeeze(1)\n",
        "        predicted = torch.max(output.data, 1)[1] #.detach().cpu().numpy()\n",
        "        result.append((test_str, predicted.item()))\n",
        "    return result"
      ]
    },
    {
      "cell_type": "code",
      "execution_count": 63,
      "metadata": {
        "colab": {
          "base_uri": "https://localhost:8080/"
        },
        "id": "mxMwBuIc0UOy",
        "outputId": "e1894f49-bcbf-4931-9aed-8d1d7f1d2d6c"
      },
      "outputs": [
        {
          "data": {
            "text/plain": [
              "[('What a waste of space, why is this trash even here', 0),\n",
              " ('The movie was not as good as I expected', 1),\n",
              " ('Overall, the movie was not the worst', 2),\n",
              " ('This movie was terribly fantastic', 3),\n",
              " ('WOW, this is the best movie of all time', 4)]"
            ]
          },
          "execution_count": 63,
          "metadata": {},
          "output_type": "execute_result"
        }
      ],
      "source": [
        "prediction(test_str_list)"
      ]
    }
  ],
  "metadata": {
    "colab": {
      "provenance": []
    },
    "kernelspec": {
      "display_name": "cudaenv",
      "language": "python",
      "name": "python3"
    },
    "language_info": {
      "codemirror_mode": {
        "name": "ipython",
        "version": 3
      },
      "file_extension": ".py",
      "mimetype": "text/x-python",
      "name": "python",
      "nbconvert_exporter": "python",
      "pygments_lexer": "ipython3",
      "version": "3.10.9"
    },
    "vscode": {
      "interpreter": {
        "hash": "baa027ae8c7a15e707847f8b27a7cc0bd2f7ea77c3d15ba3fcbc1c2cc6af2370"
      }
    }
  },
  "nbformat": 4,
  "nbformat_minor": 0
}
