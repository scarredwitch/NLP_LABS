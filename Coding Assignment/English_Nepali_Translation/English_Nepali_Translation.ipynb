{
  "cells": [
    {
      "attachments": {},
      "cell_type": "markdown",
      "metadata": {},
      "source": [
        "# Language Translation"
      ]
    },
    {
      "attachments": {},
      "cell_type": "markdown",
      "metadata": {},
      "source": [
        "## 1. Importing libraries and dataset"
      ]
    },
    {
      "cell_type": "code",
      "execution_count": 1,
      "metadata": {
        "colab": {
          "base_uri": "https://localhost:8080/"
        },
        "id": "Q4tCf4WiIjld",
        "outputId": "eb0ee4b1-bb1e-4b9b-f790-e4b3201e5297"
      },
      "outputs": [
        {
          "name": "stderr",
          "output_type": "stream",
          "text": [
            "c:\\Users\\Sirikit Joshi\\.conda\\envs\\cudaenv\\lib\\site-packages\\tqdm\\auto.py:22: TqdmWarning: IProgress not found. Please update jupyter and ipywidgets. See https://ipywidgets.readthedocs.io/en/stable/user_install.html\n",
            "  from .autonotebook import tqdm as notebook_tqdm\n"
          ]
        },
        {
          "name": "stdout",
          "output_type": "stream",
          "text": [
            "cuda\n"
          ]
        }
      ],
      "source": [
        "import torch, torchdata, torchtext\n",
        "from torch import nn\n",
        "import torch.nn.functional as F\n",
        "\n",
        "import random, math, time\n",
        "\n",
        "device = torch.device('cuda' if torch.cuda.is_available() else 'cpu')\n",
        "print(device)\n",
        "\n",
        "#make our work comparable if restarted the kernel\n",
        "SEED = 1234\n",
        "torch.manual_seed(SEED)\n",
        "torch.backends.cudnn.deterministic = True"
      ]
    },
    {
      "cell_type": "code",
      "execution_count": 2,
      "metadata": {},
      "outputs": [
        {
          "data": {
            "text/plain": [
              "'NVIDIA GeForce RTX 3060 Laptop GPU'"
            ]
          },
          "execution_count": 2,
          "metadata": {},
          "output_type": "execute_result"
        }
      ],
      "source": [
        "torch.cuda.get_device_name(0)"
      ]
    },
    {
      "cell_type": "code",
      "execution_count": 3,
      "metadata": {
        "colab": {
          "base_uri": "https://localhost:8080/",
          "height": 424
        },
        "id": "wqe2EUGEIpdK",
        "outputId": "5e9ce1fe-bff7-4371-e777-112640ac90df"
      },
      "outputs": [
        {
          "data": {
            "text/html": [
              "<div>\n",
              "<style scoped>\n",
              "    .dataframe tbody tr th:only-of-type {\n",
              "        vertical-align: middle;\n",
              "    }\n",
              "\n",
              "    .dataframe tbody tr th {\n",
              "        vertical-align: top;\n",
              "    }\n",
              "\n",
              "    .dataframe thead th {\n",
              "        text-align: right;\n",
              "    }\n",
              "</style>\n",
              "<table border=\"1\" class=\"dataframe\">\n",
              "  <thead>\n",
              "    <tr style=\"text-align: right;\">\n",
              "      <th></th>\n",
              "      <th>nepali</th>\n",
              "      <th>english</th>\n",
              "    </tr>\n",
              "  </thead>\n",
              "  <tbody>\n",
              "    <tr>\n",
              "      <th>0</th>\n",
              "      <td>रन</td>\n",
              "      <td>Run</td>\n",
              "    </tr>\n",
              "    <tr>\n",
              "      <th>1</th>\n",
              "      <td>रन</td>\n",
              "      <td>Run</td>\n",
              "    </tr>\n",
              "    <tr>\n",
              "      <th>2</th>\n",
              "      <td>वाह</td>\n",
              "      <td>Wow</td>\n",
              "    </tr>\n",
              "    <tr>\n",
              "      <th>3</th>\n",
              "      <td>आगो</td>\n",
              "      <td>Fire</td>\n",
              "    </tr>\n",
              "    <tr>\n",
              "      <th>4</th>\n",
              "      <td>सहायता</td>\n",
              "      <td>Help</td>\n",
              "    </tr>\n",
              "    <tr>\n",
              "      <th>...</th>\n",
              "      <td>...</td>\n",
              "      <td>...</td>\n",
              "    </tr>\n",
              "    <tr>\n",
              "      <th>135836</th>\n",
              "      <td>एक कार्बन पदचाप हामी हाम्रो गतिविधिहरु को फलस्...</td>\n",
              "      <td>A carbon footprint is the amount of carbon dio...</td>\n",
              "    </tr>\n",
              "    <tr>\n",
              "      <th>135837</th>\n",
              "      <td>मृत्यु कुरा हामी अक्सर बारेमा कुरा गर्न निरुत्...</td>\n",
              "      <td>Death is something that we're often discourage...</td>\n",
              "    </tr>\n",
              "    <tr>\n",
              "      <th>135838</th>\n",
              "      <td>त्यहाँ कुनै पनि विषयमा सामान्यतया धेरै वेबसाइट...</td>\n",
              "      <td>Since there are usually multiple websites on a...</td>\n",
              "    </tr>\n",
              "    <tr>\n",
              "      <th>135839</th>\n",
              "      <td>आफ्नो पृष्ठभूमि थाहा नगर्ने कसैले तपाईंलाई एक ...</td>\n",
              "      <td>If someone who doesn't know your background sa...</td>\n",
              "    </tr>\n",
              "    <tr>\n",
              "      <th>135840</th>\n",
              "      <td>यसलाई कारण सहयोगी प्रयास यस प्रकारको प्रकृति ए...</td>\n",
              "      <td>It may be impossible to get a completely error...</td>\n",
              "    </tr>\n",
              "  </tbody>\n",
              "</table>\n",
              "<p>135841 rows × 2 columns</p>\n",
              "</div>"
            ],
            "text/plain": [
              "                                                   nepali  \\\n",
              "0                                                      रन   \n",
              "1                                                      रन   \n",
              "2                                                     वाह   \n",
              "3                                                     आगो   \n",
              "4                                                  सहायता   \n",
              "...                                                   ...   \n",
              "135836  एक कार्बन पदचाप हामी हाम्रो गतिविधिहरु को फलस्...   \n",
              "135837  मृत्यु कुरा हामी अक्सर बारेमा कुरा गर्न निरुत्...   \n",
              "135838  त्यहाँ कुनै पनि विषयमा सामान्यतया धेरै वेबसाइट...   \n",
              "135839  आफ्नो पृष्ठभूमि थाहा नगर्ने कसैले तपाईंलाई एक ...   \n",
              "135840  यसलाई कारण सहयोगी प्रयास यस प्रकारको प्रकृति ए...   \n",
              "\n",
              "                                                  english  \n",
              "0                                                     Run  \n",
              "1                                                     Run  \n",
              "2                                                     Wow  \n",
              "3                                                    Fire  \n",
              "4                                                    Help  \n",
              "...                                                   ...  \n",
              "135836  A carbon footprint is the amount of carbon dio...  \n",
              "135837  Death is something that we're often discourage...  \n",
              "135838  Since there are usually multiple websites on a...  \n",
              "135839  If someone who doesn't know your background sa...  \n",
              "135840  It may be impossible to get a completely error...  \n",
              "\n",
              "[135841 rows x 2 columns]"
            ]
          },
          "execution_count": 3,
          "metadata": {},
          "output_type": "execute_result"
        }
      ],
      "source": [
        "import pandas as pd\n",
        "data_raw = pd.read_csv(\"./dataset/translation.csv\")\n",
        "data_raw"
      ]
    },
    {
      "cell_type": "code",
      "execution_count": 4,
      "metadata": {
        "colab": {
          "base_uri": "https://localhost:8080/",
          "height": 206
        },
        "id": "ZulA1v6kI2v-",
        "outputId": "7394a8fd-97aa-4bad-835e-af8ff88a3ef8"
      },
      "outputs": [
        {
          "data": {
            "text/html": [
              "<div>\n",
              "<style scoped>\n",
              "    .dataframe tbody tr th:only-of-type {\n",
              "        vertical-align: middle;\n",
              "    }\n",
              "\n",
              "    .dataframe tbody tr th {\n",
              "        vertical-align: top;\n",
              "    }\n",
              "\n",
              "    .dataframe thead th {\n",
              "        text-align: right;\n",
              "    }\n",
              "</style>\n",
              "<table border=\"1\" class=\"dataframe\">\n",
              "  <thead>\n",
              "    <tr style=\"text-align: right;\">\n",
              "      <th></th>\n",
              "      <th>nepali</th>\n",
              "      <th>english</th>\n",
              "    </tr>\n",
              "  </thead>\n",
              "  <tbody>\n",
              "    <tr>\n",
              "      <th>135836</th>\n",
              "      <td>एक कार्बन पदचाप हामी हाम्रो गतिविधिहरु को फलस्...</td>\n",
              "      <td>A carbon footprint is the amount of carbon dio...</td>\n",
              "    </tr>\n",
              "    <tr>\n",
              "      <th>135837</th>\n",
              "      <td>मृत्यु कुरा हामी अक्सर बारेमा कुरा गर्न निरुत्...</td>\n",
              "      <td>Death is something that we're often discourage...</td>\n",
              "    </tr>\n",
              "    <tr>\n",
              "      <th>135838</th>\n",
              "      <td>त्यहाँ कुनै पनि विषयमा सामान्यतया धेरै वेबसाइट...</td>\n",
              "      <td>Since there are usually multiple websites on a...</td>\n",
              "    </tr>\n",
              "    <tr>\n",
              "      <th>135839</th>\n",
              "      <td>आफ्नो पृष्ठभूमि थाहा नगर्ने कसैले तपाईंलाई एक ...</td>\n",
              "      <td>If someone who doesn't know your background sa...</td>\n",
              "    </tr>\n",
              "    <tr>\n",
              "      <th>135840</th>\n",
              "      <td>यसलाई कारण सहयोगी प्रयास यस प्रकारको प्रकृति ए...</td>\n",
              "      <td>It may be impossible to get a completely error...</td>\n",
              "    </tr>\n",
              "  </tbody>\n",
              "</table>\n",
              "</div>"
            ],
            "text/plain": [
              "                                                   nepali  \\\n",
              "135836  एक कार्बन पदचाप हामी हाम्रो गतिविधिहरु को फलस्...   \n",
              "135837  मृत्यु कुरा हामी अक्सर बारेमा कुरा गर्न निरुत्...   \n",
              "135838  त्यहाँ कुनै पनि विषयमा सामान्यतया धेरै वेबसाइट...   \n",
              "135839  आफ्नो पृष्ठभूमि थाहा नगर्ने कसैले तपाईंलाई एक ...   \n",
              "135840  यसलाई कारण सहयोगी प्रयास यस प्रकारको प्रकृति ए...   \n",
              "\n",
              "                                                  english  \n",
              "135836  A carbon footprint is the amount of carbon dio...  \n",
              "135837  Death is something that we're often discourage...  \n",
              "135838  Since there are usually multiple websites on a...  \n",
              "135839  If someone who doesn't know your background sa...  \n",
              "135840  It may be impossible to get a completely error...  "
            ]
          },
          "execution_count": 4,
          "metadata": {},
          "output_type": "execute_result"
        }
      ],
      "source": [
        "data_raw.dropna(inplace=True)\n",
        "data_raw.tail()"
      ]
    },
    {
      "attachments": {},
      "cell_type": "markdown",
      "metadata": {
        "id": "JreAcX2PMQfo"
      },
      "source": [
        "## 2. EDA"
      ]
    },
    {
      "cell_type": "code",
      "execution_count": 5,
      "metadata": {
        "colab": {
          "base_uri": "https://localhost:8080/"
        },
        "id": "00TBSMMfMC3i",
        "outputId": "c3dd0c31-3f27-44c8-fdf2-646959921573"
      },
      "outputs": [
        {
          "data": {
            "text/plain": [
              "135841"
            ]
          },
          "execution_count": 5,
          "metadata": {},
          "output_type": "execute_result"
        }
      ],
      "source": [
        "dataset = data_raw.values.tolist()\n",
        "dataset_size = len(dataset)\n",
        "dataset_size"
      ]
    },
    {
      "cell_type": "code",
      "execution_count": 6,
      "metadata": {
        "id": "Z5eHM_-sMX6n"
      },
      "outputs": [],
      "source": [
        "random.shuffle(dataset)\n",
        "train_data_set_size = int(dataset_size *0.9)\n",
        "\n",
        "train_dataset = dataset[:train_data_set_size]\n",
        "test = dataset[train_data_set_size:]\n",
        "\n",
        "train_size = int(train_data_set_size *0.9)\n",
        "train = train_dataset[:train_size]\n",
        "val = train_dataset[train_size:]"
      ]
    },
    {
      "cell_type": "code",
      "execution_count": 7,
      "metadata": {
        "colab": {
          "base_uri": "https://localhost:8080/"
        },
        "id": "SQ-qNFGXMf2c",
        "outputId": "d672bcb5-db44-4026-d4b1-d5369ced1e26"
      },
      "outputs": [
        {
          "data": {
            "text/plain": [
              "(110030, 12226, 13585)"
            ]
          },
          "execution_count": 7,
          "metadata": {},
          "output_type": "execute_result"
        }
      ],
      "source": [
        "len(train),len(val),len(test)"
      ]
    },
    {
      "attachments": {},
      "cell_type": "markdown",
      "metadata": {
        "id": "CnrUd1fHMjvi"
      },
      "source": [
        "## 3.Preprocessing"
      ]
    },
    {
      "cell_type": "code",
      "execution_count": 8,
      "metadata": {
        "id": "SUREjzMTMiMt"
      },
      "outputs": [],
      "source": [
        "SRC_LANGUAGE = 'np'\n",
        "TRG_LANGUAGE = 'en'\n",
        "# Place-holders\n",
        "token_transform = {}\n",
        "vocab_transform = {}"
      ]
    },
    {
      "cell_type": "code",
      "execution_count": 9,
      "metadata": {
        "id": "eX5pS_DsMu5b"
      },
      "outputs": [],
      "source": [
        "from attacut import tokenize, Tokenizer\n",
        "from torchtext.data.utils import get_tokenizer\n",
        "token_transform[SRC_LANGUAGE] = Tokenizer(model=\"attacut-sc\")\n",
        "token_transform[TRG_LANGUAGE] = get_tokenizer('spacy', language='en_core_web_sm')"
      ]
    },
    {
      "cell_type": "code",
      "execution_count": 10,
      "metadata": {
        "colab": {
          "base_uri": "https://localhost:8080/"
        },
        "id": "Svh2TM5qM3nD",
        "outputId": "5680b79c-5e41-4a3b-bd1c-d2deeaec4833"
      },
      "outputs": [
        {
          "name": "stdout",
          "output_type": "stream",
          "text": [
            "Sentence:  The moment she was alone, she opened the letter\n",
            "Tokenization:  ['The', ' ', 'moment', ' ', 'she', ' ', 'was', ' ', 'alone', ',', ' ', 'she', ' ', 'opened', ' ', 'the', ' ', 'letter']\n"
          ]
        }
      ],
      "source": [
        "#example of tokenization of the nepali part\n",
        "print(\"Sentence: \", train[0][1])\n",
        "print(\"Tokenization: \", token_transform[SRC_LANGUAGE].tokenize(train[0][1]))"
      ]
    },
    {
      "cell_type": "code",
      "execution_count": 11,
      "metadata": {
        "colab": {
          "base_uri": "https://localhost:8080/"
        },
        "id": "aHFpI7fWNG_I",
        "outputId": "4bd4bfda-3baf-4108-8113-847d2a2096a7"
      },
      "outputs": [
        {
          "name": "stdout",
          "output_type": "stream",
          "text": [
            "Sentence:  त्यो एक्लै थियो क्षण, त्यो पत्र खोल्न\n",
            "Tokenization:  ['त', '्', 'य', 'ो ', 'ए', 'क', '्', 'लै ', 'थ', 'ि', 'य', 'ो ', 'क', '्', 'ष', 'ण', ', ', 'त', '्य', 'ो ', 'प', 'त', '्', 'र ', 'ख', 'ो', 'ल', '्', 'न']\n"
          ]
        }
      ],
      "source": [
        "#example of tokenization of the english part\n",
        "print(\"Sentence: \", train[0][0])\n",
        "print(\"Tokenization: \", token_transform[SRC_LANGUAGE].tokenize(train[0][0]))"
      ]
    },
    {
      "cell_type": "code",
      "execution_count": 12,
      "metadata": {
        "id": "k5qlzDoINR10"
      },
      "outputs": [],
      "source": [
        "# helper function to yield list of tokens\n",
        "# here data can be `train` or `val` or `test`\n",
        "def yield_tokens(data, language):\n",
        "    language_index = {SRC_LANGUAGE: 0, TRG_LANGUAGE: 1}\n",
        "\n",
        "    for data_sample in data:\n",
        "        if language == SRC_LANGUAGE:\n",
        "            yield token_transform[language].tokenize(data_sample[language_index[language]])\n",
        "        elif language == TRG_LANGUAGE:\n",
        "            yield token_transform[language](data_sample[language_index[language]])\n",
        "\n",
        "# Define special symbols and indices\n",
        "UNK_IDX, PAD_IDX, SOS_IDX, EOS_IDX = 0, 1, 2, 3\n",
        "# Make sure the tokens are in order of their indices to properly insert them in vocab\n",
        "special_symbols = ['<unk>', '<pad>', '<sos>', '<eos>']"
      ]
    },
    {
      "cell_type": "code",
      "execution_count": 13,
      "metadata": {
        "id": "r_4dOSgrNYvC"
      },
      "outputs": [],
      "source": [
        "from torchtext.vocab import build_vocab_from_iterator\n",
        "\n",
        "for ln in [SRC_LANGUAGE, TRG_LANGUAGE]:\n",
        "    # Create torchtext's Vocab object \n",
        "    vocab_transform[ln] = build_vocab_from_iterator(yield_tokens(train, ln), \n",
        "                                                    min_freq=2,   #if not, everything will be treated as UNK\n",
        "                                                    specials=special_symbols,\n",
        "                                                    special_first=True) #indicates whether to insert symbols at the beginning or at the end                                            \n",
        "# Set UNK_IDX as the default index. This index is returned when the token is not found. \n",
        "# If not set, it throws RuntimeError when the queried token is not found in the Vocabulary. \n",
        "for ln in [SRC_LANGUAGE, TRG_LANGUAGE]:\n",
        "    vocab_transform[ln].set_default_index(UNK_IDX)"
      ]
    },
    {
      "cell_type": "code",
      "execution_count": 14,
      "metadata": {
        "id": "glOjuAaoc4Fe"
      },
      "outputs": [],
      "source": [
        "import pickle\n",
        "with open('vocab.pkl', 'wb') as file:\n",
        "      \n",
        "    # A new file will be created\n",
        "    pickle.dump(vocab_transform, file)"
      ]
    },
    {
      "cell_type": "code",
      "execution_count": 15,
      "metadata": {
        "id": "-ncYCAhddSxp"
      },
      "outputs": [],
      "source": [
        "import pickle\n",
        "with open('nepali_vocab.pkl', 'wb') as file:\n",
        "      \n",
        "    # A new file will be created\n",
        "    pickle.dump(vocab_transform[TRG_LANGUAGE], file)"
      ]
    },
    {
      "cell_type": "code",
      "execution_count": 16,
      "metadata": {
        "colab": {
          "base_uri": "https://localhost:8080/"
        },
        "id": "OEj5l4fGOUpZ",
        "outputId": "186fc254-f2e3-47b1-cc4a-d0d4f917b76b"
      },
      "outputs": [
        {
          "data": {
            "text/plain": [
              "[0, 0, 0, 0, 0]"
            ]
          },
          "execution_count": 16,
          "metadata": {},
          "output_type": "execute_result"
        }
      ],
      "source": [
        "vocab_transform[SRC_LANGUAGE](['here', 'is', 'a', 'unknownword', 'a'])"
      ]
    },
    {
      "cell_type": "code",
      "execution_count": 17,
      "metadata": {
        "colab": {
          "base_uri": "https://localhost:8080/"
        },
        "id": "S6RvSktDPbiP",
        "outputId": "a6559b40-a2cf-450d-959d-feb5cb1ceff7"
      },
      "outputs": [
        {
          "data": {
            "text/plain": [
              "[0, 0, 0]"
            ]
          },
          "execution_count": 17,
          "metadata": {},
          "output_type": "execute_result"
        }
      ],
      "source": [
        "vocab_transform[TRG_LANGUAGE](['उहाँले', 'एक', 'हो '])"
      ]
    },
    {
      "cell_type": "code",
      "execution_count": 18,
      "metadata": {
        "colab": {
          "base_uri": "https://localhost:8080/",
          "height": 35
        },
        "id": "riozcqOdPodF",
        "outputId": "4f2228ad-dc2e-4460-d310-563e8c93cadc"
      },
      "outputs": [
        {
          "data": {
            "text/plain": [
              "'Stop'"
            ]
          },
          "execution_count": 18,
          "metadata": {},
          "output_type": "execute_result"
        }
      ],
      "source": [
        "#we can reverse its English....\n",
        "mapping = vocab_transform[TRG_LANGUAGE].get_itos()\n",
        "# #print 1816, for example\n",
        "mapping[400]"
      ]
    },
    {
      "cell_type": "code",
      "execution_count": 19,
      "metadata": {
        "colab": {
          "base_uri": "https://localhost:8080/",
          "height": 35
        },
        "id": "K8hf176HPtKb",
        "outputId": "2d9b94f0-ba75-4766-8c88-016601681343"
      },
      "outputs": [
        {
          "data": {
            "text/plain": [
              "' अ'"
            ]
          },
          "execution_count": 19,
          "metadata": {},
          "output_type": "execute_result"
        }
      ],
      "source": [
        "#we can reverse its Thailand....\n",
        "mapping = vocab_transform[SRC_LANGUAGE].get_itos()\n",
        "# #print 1816, for example\n",
        "mapping[400]"
      ]
    },
    {
      "cell_type": "code",
      "execution_count": 20,
      "metadata": {
        "colab": {
          "base_uri": "https://localhost:8080/"
        },
        "id": "WNTQVe73Pv_e",
        "outputId": "395d5974-ae5f-40dd-e2e7-3d80671948b3"
      },
      "outputs": [
        {
          "data": {
            "text/plain": [
              "('<pad>', '<sos>', '<eos>')"
            ]
          },
          "execution_count": 20,
          "metadata": {},
          "output_type": "execute_result"
        }
      ],
      "source": [
        "mapping[1], mapping[2], mapping[3]"
      ]
    },
    {
      "attachments": {},
      "cell_type": "markdown",
      "metadata": {
        "id": "LX1YERYRP4Nt"
      },
      "source": [
        "## 4. Preparing dataloader\n",
        "We change <B>collate_fn</B> to return length of sentence required for <B>packed_padded_sequence</B>."
      ]
    },
    {
      "cell_type": "code",
      "execution_count": 21,
      "metadata": {
        "id": "nN49gVOhP0ab"
      },
      "outputs": [],
      "source": [
        "from torch.nn.utils.rnn import pad_sequence\n",
        "from torch.utils.data import DataLoader\n",
        "import multiprocessing as mp\n",
        "BATCH_SIZE = 64\n",
        "\n",
        "# helper function to club together sequential operations\n",
        "def sequential_transforms(*transforms):\n",
        "    global func\n",
        "    def func(txt_input):\n",
        "        for transform in transforms:\n",
        "            if transform == token_transform[SRC_LANGUAGE]:\n",
        "                txt_input = transform.tokenize(txt_input)\n",
        "            else:\n",
        "                txt_input = transform(txt_input)\n",
        "        return txt_input\n",
        "\n",
        "    return func\n",
        "\n",
        "# function to add BOS/EOS and create tensor for input sequence indices\n",
        "def tensor_transform(token_ids):\n",
        "    return torch.cat((torch.tensor([SOS_IDX]), \n",
        "                      torch.tensor(token_ids), \n",
        "                      torch.tensor([EOS_IDX])))\n",
        "\n",
        "# src and trg language text transforms to convert raw strings into tensors indices\n",
        "text_transform = {}\n",
        "for ln in [SRC_LANGUAGE, TRG_LANGUAGE]:\n",
        "    text_transform[ln] = sequential_transforms(token_transform[ln], #Tokenization\n",
        "                                               vocab_transform[ln], #Numericalization\n",
        "                                               tensor_transform) # Add BOS/EOS and create tensor\n",
        "\n",
        "# function to collate data samples into batch tesors\n",
        "def collate_batch(batch):\n",
        "    src_batch, src_len_batch, trg_batch = [], [], []\n",
        "    for src_sample, trg_sample in batch:\n",
        "        processed_text = text_transform[SRC_LANGUAGE](src_sample.rstrip(\"\\n\"))\n",
        "        src_batch.append(processed_text)\n",
        "        trg_batch.append(text_transform[TRG_LANGUAGE](trg_sample.rstrip(\"\\n\")))\n",
        "        src_len_batch.append(processed_text.size(0))\n",
        "\n",
        "    src_batch = pad_sequence(src_batch, padding_value=PAD_IDX)\n",
        "    trg_batch = pad_sequence(trg_batch, padding_value=PAD_IDX)\n",
        "    import pickle\n",
        "        \n",
        "    return src_batch, torch.tensor(src_len_batch, dtype=torch.int64), trg_batch"
      ]
    },
    {
      "cell_type": "code",
      "execution_count": 22,
      "metadata": {
        "colab": {
          "base_uri": "https://localhost:8080/"
        },
        "id": "ANIbHEonQQwh",
        "outputId": "f1a723eb-0966-4283-adb3-c9e8a888c998"
      },
      "outputs": [
        {
          "data": {
            "text/plain": [
              "{'np': <function __main__.func(txt_input)>,\n",
              " 'en': <function __main__.func(txt_input)>}"
            ]
          },
          "execution_count": 22,
          "metadata": {},
          "output_type": "execute_result"
        }
      ],
      "source": [
        "text_transform\n"
      ]
    },
    {
      "attachments": {},
      "cell_type": "markdown",
      "metadata": {
        "id": "cUkRrC7WQUPF"
      },
      "source": [
        "### Create train, val, and test dataloaders"
      ]
    },
    {
      "cell_type": "code",
      "execution_count": 23,
      "metadata": {
        "id": "bmrinHrBQTQ5"
      },
      "outputs": [],
      "source": [
        "batch_size = 32\n",
        "\n",
        "train_loader = DataLoader(train, batch_size=batch_size,\n",
        "                              shuffle=True, collate_fn=collate_batch)\n",
        "valid_loader = DataLoader(val, batch_size=batch_size,\n",
        "                              shuffle=True, collate_fn=collate_batch)\n",
        "test_loader  = DataLoader(test, batch_size=batch_size,\n",
        "                             shuffle=True, collate_fn=collate_batch)"
      ]
    },
    {
      "cell_type": "code",
      "execution_count": 24,
      "metadata": {
        "id": "e3Ju_pM7QYYK"
      },
      "outputs": [],
      "source": [
        "for np, _, en in train_loader:\n",
        "    break"
      ]
    },
    {
      "cell_type": "code",
      "execution_count": 25,
      "metadata": {
        "colab": {
          "base_uri": "https://localhost:8080/"
        },
        "id": "oVHP0DlMQjqF",
        "outputId": "2800f021-b42e-42c9-af5a-63bfee8e91f6"
      },
      "outputs": [
        {
          "name": "stdout",
          "output_type": "stream",
          "text": [
            "nepali shape:  torch.Size([36, 32])\n",
            "English shape:  torch.Size([12, 32])\n"
          ]
        }
      ],
      "source": [
        "print(\"nepali shape: \", np.shape)  # (seq len, batch_size)\n",
        "print(\"English shape: \", en.shape)   # (seq len, batch_size)"
      ]
    },
    {
      "cell_type": "code",
      "execution_count": 26,
      "metadata": {
        "id": "g13Es-3jQx1y"
      },
      "outputs": [],
      "source": [
        "train_loader_length = len(list(iter(train_loader)))\n",
        "val_loader_length   = len(list(iter(valid_loader)))\n",
        "test_loader_length  = len(list(iter(test_loader)))"
      ]
    },
    {
      "cell_type": "code",
      "execution_count": 27,
      "metadata": {
        "colab": {
          "base_uri": "https://localhost:8080/"
        },
        "id": "ixutooKJQ0jT",
        "outputId": "7be8073f-5829-45ea-86fa-dc1d9d4b930b"
      },
      "outputs": [
        {
          "name": "stdout",
          "output_type": "stream",
          "text": [
            "3439\n",
            "383\n",
            "425\n"
          ]
        }
      ],
      "source": [
        "print(train_loader_length)\n",
        "print(val_loader_length)\n",
        "print(test_loader_length)"
      ]
    },
    {
      "cell_type": "code",
      "execution_count": 28,
      "metadata": {
        "id": "dCMCo7qQQpki"
      },
      "outputs": [],
      "source": [
        "train_loader_length = 3439\n",
        "val_loader_length = 383\n",
        "test_loader_length = 425"
      ]
    },
    {
      "cell_type": "code",
      "execution_count": 29,
      "metadata": {
        "colab": {
          "base_uri": "https://localhost:8080/"
        },
        "id": "XjNw-hBkSRCC",
        "outputId": "713fe412-113b-4430-82ca-2273393c28e7"
      },
      "outputs": [
        {
          "data": {
            "text/plain": [
              "(3439, 383, 425)"
            ]
          },
          "execution_count": 29,
          "metadata": {},
          "output_type": "execute_result"
        }
      ],
      "source": [
        "train_loader_length, val_loader_length, test_loader_length  "
      ]
    },
    {
      "attachments": {},
      "cell_type": "markdown",
      "metadata": {
        "id": "ng9pxRx-SUJS"
      },
      "source": [
        "## 5. Design the model"
      ]
    },
    {
      "cell_type": "code",
      "execution_count": 30,
      "metadata": {
        "id": "TWjBi-MlSSvv"
      },
      "outputs": [],
      "source": [
        "class Encoder(nn.Module):\n",
        "    def __init__(self, input_dim, emb_dim, hid_dim, dropout):\n",
        "        super().__init__()\n",
        "\n",
        "        self.embedding = nn.Embedding(input_dim, emb_dim)\n",
        "        self.rnn       = nn.GRU(emb_dim, hid_dim, bidirectional=True)\n",
        "        self.fc        = nn.Linear(hid_dim * 2, hid_dim)\n",
        "        self.dropout   = nn.Dropout(dropout)\n",
        "        \n",
        "    def forward(self, src, src_len):\n",
        "        \n",
        "        #src: [src len, batch size]\n",
        "        #src len: [batch size]\n",
        "        \n",
        "        embedded = self.dropout(self.embedding(src))\n",
        "        \n",
        "        packed_embedded = nn.utils.rnn.pack_padded_sequence(embedded, \n",
        "                            src_len.to('cpu'), enforce_sorted=False)\n",
        "        \n",
        "        #packed_outputs contain all hidden states including padding guy\n",
        "        #hidden contains the last hidden states of the non-padded guys\n",
        "        packed_outputs, hidden = self.rnn(packed_embedded)\n",
        "        #hidden: [n layers * num directions, batch size, hid dim]\n",
        "        \n",
        "        #convert packed_outputs to the guy that does not contain hidden states for padding\n",
        "        outputs, _ = nn.utils.rnn.pad_packed_sequence(packed_outputs)\n",
        "        #outputs: [src len, batch size, hid dim * num directions]\n",
        "        \n",
        "        #take the last hidden states from backward and forward\n",
        "        #hidden: (f, b, f, b)\n",
        "        forward  = hidden[-2, :, :]  #[batch size, hid dim]\n",
        "        backward = hidden[-1, :, :]  #[batch size, hid dim]\n",
        "        \n",
        "        hidden = torch.tanh(self.fc(torch.cat((forward, backward), dim = 1))) \n",
        "        #hidden: [batch size, hid dim]\n",
        "        \n",
        "        return outputs, hidden"
      ]
    },
    {
      "attachments": {},
      "cell_type": "markdown",
      "metadata": {
        "id": "Ft2ZIs3pSgdy"
      },
      "source": [
        "### Attention"
      ]
    },
    {
      "cell_type": "code",
      "execution_count": 31,
      "metadata": {
        "id": "hTLChiynSeV2"
      },
      "outputs": [],
      "source": [
        "class Attention(nn.Module):\n",
        "    def __init__(self, hid_dim, variants):\n",
        "        super().__init__()\n",
        "        self.variants = variants\n",
        "        self.v = nn.Linear(hid_dim, 1, bias = False)\n",
        "        self.W = nn.Linear(hid_dim,     hid_dim) #for decoder\n",
        "        self.U = nn.Linear(hid_dim * 2, hid_dim) #for encoder outputs\n",
        "                \n",
        "    def forward(self, hidden, encoder_outputs, mask):\n",
        "        \n",
        "        #hidden = [batch size, hid dim]\n",
        "        #encoder_outputs = [src len, batch size, hid dim * 2]\n",
        "        \n",
        "        batch_size = encoder_outputs.shape[1]\n",
        "        src_len = encoder_outputs.shape[0]\n",
        "\n",
        "        encoder_outputs = encoder_outputs.permute(1, 0, 2)\n",
        "        #encoder_outputs = [batch size, src len, hid dim * 2]\n",
        "\n",
        "        if self.variants == 'additive': #work\n",
        "            #repeat decoder hidden state src_len times\n",
        "            hidden = hidden.unsqueeze(1).repeat(1, src_len, 1)\n",
        "            #hidden = [batch size, src len, hid dim]\n",
        "            \n",
        "            energy = torch.tanh(self.W(hidden) + self.U(encoder_outputs))\n",
        "            #energy = [batch size, src len, hid dim]\n",
        "            \n",
        "            attention = self.v(energy).squeeze(2)\n",
        "            #attention = [batch size, src len]\n",
        "            \n",
        "        elif self.variants == 'general': #work\n",
        "            hidden = hidden.unsqueeze(1).repeat(1, 1, 2)\n",
        "            #hidden = [batch size, 1, hid dim*2]\n",
        "            #encoder_outputs = [batch size, hid dim * 2, src len]\n",
        "\n",
        "            energy = torch.bmm(hidden, encoder_outputs.transpose(1, 2))\n",
        "            attention = energy.squeeze(1)\n",
        "            #attention = [batch size, src len]\n",
        "\n",
        "        elif self.variants == 'multiplicative':\n",
        "            wh = self.W(hidden).unsqueeze(1).repeat(1, 1, 2)\n",
        "            #wh = [batch size, 1, hid dim*2]\n",
        "            #encoder_outputs = [batch size, hid dim * 2, src len]\n",
        "\n",
        "            energy = torch.bmm(wh, encoder_outputs.transpose(1, 2))\n",
        "            attention = energy.squeeze(1)\n",
        "\n",
        "        #use masked_fill_ if you want in-place\n",
        "        attention = attention.masked_fill(mask, -1e10)\n",
        "        #attention = [batch size, src len]\n",
        "        return F.softmax(attention, dim = 1)"
      ]
    },
    {
      "cell_type": "code",
      "execution_count": 32,
      "metadata": {
        "colab": {
          "base_uri": "https://localhost:8080/"
        },
        "id": "W7MeUzk6SoEY",
        "outputId": "909e15b7-db8e-4a47-fa02-dcf2e3636d24"
      },
      "outputs": [
        {
          "name": "stdout",
          "output_type": "stream",
          "text": [
            "tensor([[           9, -10000000000,            7,            2, -10000000000,\n",
            "         -10000000000],\n",
            "        [          99, -10000000000, -10000000000,            0,            8,\n",
            "                    9]])\n"
          ]
        }
      ],
      "source": [
        "#example of masked_fill\n",
        "#reall that 1 is pad_idx\n",
        "x = torch.tensor([ [9, 1, 7, 2, 1, 1], [99, 1, 1, 0, 8, 9] ])\n",
        "\n",
        "mask = (x == PAD_IDX)\n",
        "\n",
        "x.masked_fill_(mask, -1e10)\n",
        "print(x)"
      ]
    },
    {
      "attachments": {},
      "cell_type": "markdown",
      "metadata": {
        "id": "O0HmcvHkSsrX"
      },
      "source": [
        "### Decoder"
      ]
    },
    {
      "cell_type": "code",
      "execution_count": 33,
      "metadata": {
        "id": "sTESBAiLSqFw"
      },
      "outputs": [],
      "source": [
        "class Decoder(nn.Module):\n",
        "    def __init__(self, output_dim, emb_dim, hid_dim, dropout, attention):\n",
        "        super().__init__()\n",
        "        \n",
        "        self.output_dim = output_dim\n",
        "        self.attention = attention\n",
        "        self.embedding = nn.Embedding(output_dim, emb_dim)\n",
        "        self.gru = nn.GRU((hid_dim * 2) + emb_dim, hid_dim)\n",
        "        self.fc = nn.Linear((hid_dim * 2) + hid_dim + emb_dim, output_dim)\n",
        "        self.dropout = nn.Dropout(dropout)\n",
        "        \n",
        "    def forward(self, input, hidden, encoder_outputs, mask):\n",
        "        \n",
        "        #input = [batch size]\n",
        "        #hidden = [batch size, hid dim]\n",
        "        #encoder_outputs = [src len, batch size, hid dim * 2]\n",
        "        #mask = [batch size, src len]\n",
        "        \n",
        "        input = input.unsqueeze(0)\n",
        "        #input = [1, batch size]\n",
        "        \n",
        "        embedded = self.dropout(self.embedding(input))\n",
        "        #embedded = [1, batch size, emb dim]\n",
        "        \n",
        "        a = self.attention(hidden, encoder_outputs, mask)\n",
        "        #a = [batch size, src len]\n",
        "\n",
        "        a = a.unsqueeze(1)\n",
        "        #a = [batch size, 1, src len]\n",
        "        \n",
        "        encoder_outputs = encoder_outputs.permute(1, 0, 2)\n",
        "        #encoder_outputs = [batch size, src len, hid dim * 2]\n",
        "        \n",
        "        weighted = torch.bmm(a, encoder_outputs) #Ct\n",
        "        #weighted = [batch size, 1, hid dim * 2]\n",
        "        \n",
        "        weighted = weighted.permute(1, 0, 2)\n",
        "        #weighted = [1, batch size, hid dim * 2]\n",
        "        \n",
        "        rnn_input = torch.cat((embedded, weighted), dim = 2)\n",
        "        #rnn_input = [1, batch size, (hid dim * 2) + emb dim]\n",
        "        \n",
        "        output, hidden = self.gru(rnn_input, hidden.unsqueeze(0))\n",
        "        #output = [seq len, batch size, dec hid dim * n directions]\n",
        "        #hidden = [1, batch size, hid dim]\n",
        "        assert (output == hidden).all()\n",
        "\n",
        "        embedded = embedded.squeeze(0)\n",
        "        output   = output.squeeze(0)\n",
        "        weighted = weighted.squeeze(0)\n",
        "        \n",
        "        prediction = self.fc(torch.cat((output, weighted, embedded), dim = 1))\n",
        "        #prediction = [batch size, output dim]\n",
        "        \n",
        "        return prediction, hidden.squeeze(0), a.squeeze(1)"
      ]
    },
    {
      "cell_type": "code",
      "execution_count": 34,
      "metadata": {
        "id": "4HnKXsdiSzJC"
      },
      "outputs": [],
      "source": [
        "class Seq2SeqPackedAttention(nn.Module):\n",
        "    def __init__(self, encoder, decoder, src_pad_idx, device):\n",
        "        super().__init__()\n",
        "        \n",
        "        self.encoder = encoder\n",
        "        self.decoder = decoder\n",
        "        self.src_pad_idx = src_pad_idx\n",
        "        self.device = device\n",
        "        \n",
        "    def create_mask(self, src):\n",
        "        #src: [src len, batch size]\n",
        "        \n",
        "        mask = (src == self.src_pad_idx).permute(1, 0)\n",
        "        #mask: [batch size, src len]\n",
        "        #we need to permute to make the mask same shape as attention...\n",
        "        return mask\n",
        "\n",
        "        \n",
        "    def forward(self, src, src_len, trg, teacher_forcing_ratio = 0.5):\n",
        "        \n",
        "        #src: [src len, batch size]\n",
        "        #src len: [batch size]\n",
        "        #trg: [trg len, batch size]\n",
        "        \n",
        "        batch_size = src.shape[1]\n",
        "        trg_len    = trg.shape[0]\n",
        "        trg_vocab_size = self.decoder.output_dim #define in decoder\n",
        "        \n",
        "        #because decoder decodes each step....let's create a list that gonna append the result to this guy\n",
        "        outputs = torch.zeros(trg_len, batch_size, trg_vocab_size).to(self.device)\n",
        "        \n",
        "        #because decoder decodes each step....let's memorize the attention done in each step....\n",
        "        attentions = torch.zeros(trg_len, batch_size, src.shape[0]).to(self.device)\n",
        "        \n",
        "        #let's start!!!\n",
        "        #1. encoder\n",
        "        encoder_outputs, hidden = self.encoder(src, src_len)\n",
        "        #encoder_outputs: [src len, batch size, hid dim * num directions]\n",
        "        #hidden: [batch size, hid dim]\n",
        "        \n",
        "        #set the first input to the decoder\n",
        "        input_ = trg[0,:]  #basically <sos>\n",
        "        \n",
        "        #create the mask for use in this step\n",
        "        mask = self.create_mask(src)\n",
        "        \n",
        "        #2. for each of trg word\n",
        "        for t in range(1, trg_len):\n",
        "\n",
        "            #3. decode (hidden is always carry forward)\n",
        "            output, hidden, attention = self.decoder(input_, hidden, encoder_outputs, mask)\n",
        "            #output:   [batch size, output_dim]\n",
        "            #hidden:   [batch size, hid_dim]\n",
        "            #attention::[batch size, src len]  ==> how each of src token is important to input_ \n",
        "            \n",
        "            #4. append the results to outputs and attentions\n",
        "            outputs[t] = output\n",
        "            attentions[t] = attention\n",
        "            \n",
        "            #5. get the result, using argmax\n",
        "            top1 = output.argmax(1)  #find the maximum index of dimension 1, which is output_dim\n",
        "            \n",
        "            #6. based on the teacher forcing ratio, \n",
        "            teacher_force_or_not = random.random() < teacher_forcing_ratio\n",
        "                    #if teacher forcing, next input is the next trg\n",
        "                    #if no teacher forcing, the next input is the argmax guy...\n",
        "            input_ = trg[t] if teacher_force_or_not else top1  #autoregressive\n",
        "            \n",
        "        return outputs, attentions #outputs for predicting the word, attentions to see which word is important"
      ]
    },
    {
      "cell_type": "code",
      "execution_count": 35,
      "metadata": {
        "id": "Rji6Jm2NS4_W"
      },
      "outputs": [],
      "source": [
        "def initialize_weights(m):\n",
        "    for name, param in m.named_parameters():\n",
        "        if 'weight' in name:\n",
        "            nn.init.normal_(param.data, mean=0, std=0.01)\n",
        "        else:\n",
        "            nn.init.constant_(param.data, 0)"
      ]
    },
    {
      "cell_type": "code",
      "execution_count": 36,
      "metadata": {
        "colab": {
          "base_uri": "https://localhost:8080/"
        },
        "id": "tQ2XL8c3S6jy",
        "outputId": "05eaef67-8f49-44af-bdca-2054a1bc3a0b"
      },
      "outputs": [
        {
          "data": {
            "text/plain": [
              "Seq2SeqPackedAttention(\n",
              "  (encoder): Encoder(\n",
              "    (embedding): Embedding(5751, 256)\n",
              "    (rnn): GRU(256, 512, bidirectional=True)\n",
              "    (fc): Linear(in_features=1024, out_features=512, bias=True)\n",
              "    (dropout): Dropout(p=0.5, inplace=False)\n",
              "  )\n",
              "  (decoder): Decoder(\n",
              "    (attention): Attention(\n",
              "      (v): Linear(in_features=512, out_features=1, bias=False)\n",
              "      (W): Linear(in_features=512, out_features=512, bias=True)\n",
              "      (U): Linear(in_features=1024, out_features=512, bias=True)\n",
              "    )\n",
              "    (embedding): Embedding(9008, 256)\n",
              "    (gru): GRU(1280, 512)\n",
              "    (fc): Linear(in_features=1792, out_features=9008, bias=True)\n",
              "    (dropout): Dropout(p=0.5, inplace=False)\n",
              "  )\n",
              ")"
            ]
          },
          "execution_count": 36,
          "metadata": {},
          "output_type": "execute_result"
        }
      ],
      "source": [
        "input_dim   = len(vocab_transform[SRC_LANGUAGE])\n",
        "output_dim  = len(vocab_transform[TRG_LANGUAGE])\n",
        "emb_dim     = 256  \n",
        "hid_dim     = 512  \n",
        "dropout     = 0.5\n",
        "SRC_PAD_IDX = PAD_IDX\n",
        "\n",
        "attn = Attention(hid_dim, variants='additive')\n",
        "enc  = Encoder(input_dim,  emb_dim,  hid_dim, dropout)\n",
        "dec  = Decoder(output_dim, emb_dim,  hid_dim, dropout, attn)\n",
        "\n",
        "model_additive = Seq2SeqPackedAttention(enc, dec, SRC_PAD_IDX, device).to(device)\n",
        "model_additive.apply(initialize_weights)"
      ]
    },
    {
      "cell_type": "code",
      "execution_count": 37,
      "metadata": {
        "colab": {
          "base_uri": "https://localhost:8080/"
        },
        "id": "q1zCM824S9GA",
        "outputId": "2b2e8980-d108-4122-8aad-e8f5a1442508"
      },
      "outputs": [
        {
          "name": "stdout",
          "output_type": "stream",
          "text": [
            "1472256\n",
            "393216\n",
            "786432\n",
            "  1536\n",
            "  1536\n",
            "393216\n",
            "786432\n",
            "  1536\n",
            "  1536\n",
            "524288\n",
            "   512\n",
            "   512\n",
            "262144\n",
            "   512\n",
            "524288\n",
            "   512\n",
            "2306048\n",
            "1966080\n",
            "786432\n",
            "  1536\n",
            "  1536\n",
            "16142336\n",
            "  9008\n",
            "______\n",
            "26363440\n"
          ]
        }
      ],
      "source": [
        "def count_parameters(model):\n",
        "    params = [p.numel() for p in model.parameters() if p.requires_grad]\n",
        "    for item in params:\n",
        "        print(f'{item:>6}')\n",
        "    print(f'______\\n{sum(params):>6}')\n",
        "    \n",
        "count_parameters(model_additive)"
      ]
    },
    {
      "attachments": {},
      "cell_type": "markdown",
      "metadata": {},
      "source": [
        "## 6. Training"
      ]
    },
    {
      "cell_type": "code",
      "execution_count": 38,
      "metadata": {
        "id": "bP8Z1oRBS_s6"
      },
      "outputs": [],
      "source": [
        "import torch.optim as optim\n",
        "\n",
        "lr = 0.001\n",
        "\n",
        "#training hyperparameters\n",
        "optimizer = optim.Adam(model_additive.parameters(), lr=lr)\n",
        "criterion = nn.CrossEntropyLoss(ignore_index = PAD_IDX) #combine softmax with cross entropy"
      ]
    },
    {
      "cell_type": "code",
      "execution_count": 39,
      "metadata": {
        "id": "894sAF54TDUh"
      },
      "outputs": [],
      "source": [
        "def train(model, loader, optimizer, criterion, clip, loader_length):\n",
        "    \n",
        "    model.train()\n",
        "    epoch_loss = 0\n",
        "    \n",
        "    for src, src_length, trg in loader:\n",
        "        \n",
        "        src = src.to(device)\n",
        "        trg = trg.to(device)\n",
        "        \n",
        "        optimizer.zero_grad()\n",
        "        \n",
        "        output, attentions = model(src, src_length, trg)\n",
        "        \n",
        "        #trg    = [trg len, batch size]\n",
        "        #output = [trg len, batch size, output dim]\n",
        "        output_dim = output.shape[-1]\n",
        "        \n",
        "        #the loss function only works on 2d inputs with 1d targets thus we need to flatten each of them\n",
        "        output = output[1:].view(-1, output_dim)\n",
        "        trg    = trg[1:].view(-1)\n",
        "        #trg    = [(trg len - 1) * batch size]\n",
        "        #output = [(trg len - 1) * batch size, output dim]\n",
        "        \n",
        "        loss = criterion(output, trg)\n",
        "        \n",
        "        loss.backward()\n",
        "        \n",
        "        #clip the gradients to prevent them from exploding (a common issue in RNNs)\n",
        "        torch.nn.utils.clip_grad_norm_(model.parameters(), clip)\n",
        "        \n",
        "        optimizer.step()\n",
        "        \n",
        "        epoch_loss += loss.item()\n",
        "        \n",
        "    return epoch_loss / loader_length"
      ]
    },
    {
      "cell_type": "code",
      "execution_count": 40,
      "metadata": {
        "id": "oaAAdKcFTHFf"
      },
      "outputs": [],
      "source": [
        "def evaluate(model, loader, criterion, loader_length):\n",
        "        \n",
        "    #turn off dropout (and batch norm if used)\n",
        "    model.eval()\n",
        "    \n",
        "    epoch_loss = 0\n",
        "    \n",
        "    with torch.no_grad():\n",
        "    \n",
        "        for src, src_length, trg in loader:\n",
        "        \n",
        "            src = src.to(device)\n",
        "            trg = trg.to(device)\n",
        "\n",
        "            output, attentions = model(src, src_length, trg, 0) #turn off teacher forcing\n",
        "\n",
        "            #trg    = [trg len, batch size]\n",
        "            #output = [trg len, batch size, output dim]\n",
        "\n",
        "            output_dim = output.shape[-1]\n",
        "            \n",
        "            output = output[1:].view(-1, output_dim)\n",
        "            trg = trg[1:].view(-1)\n",
        "\n",
        "            #trg    = [(trg len - 1) * batch size]\n",
        "            #output = [(trg len - 1) * batch size, output dim]\n",
        "\n",
        "            loss = criterion(output, trg)\n",
        "            \n",
        "            epoch_loss += loss.item()\n",
        "        \n",
        "    return epoch_loss / loader_length"
      ]
    },
    {
      "cell_type": "code",
      "execution_count": 41,
      "metadata": {
        "id": "NLItUB7fTHWd"
      },
      "outputs": [],
      "source": [
        "def epoch_time(start_time, end_time):\n",
        "    elapsed_time = end_time - start_time\n",
        "    elapsed_mins = int(elapsed_time / 60)\n",
        "    elapsed_secs = int(elapsed_time - (elapsed_mins * 60))\n",
        "    return elapsed_mins, elapsed_secs"
      ]
    },
    {
      "cell_type": "code",
      "execution_count": 44,
      "metadata": {
        "colab": {
          "base_uri": "https://localhost:8080/"
        },
        "id": "4wIrA7q9TLl5",
        "outputId": "5e33ef20-b224-4c59-dbf5-1fb9c514ea9e"
      },
      "outputs": [
        {
          "name": "stdout",
          "output_type": "stream",
          "text": [
            "Epoch: 01 | Time: 19m 45s\n",
            "\tTrain Loss: 1.123 | Train PPL:   3.075\n",
            "\t Val. Loss: 1.853 |  Val. PPL:   6.376\n",
            "Epoch: 02 | Time: 26m 5s\n",
            "\tTrain Loss: 0.966 | Train PPL:   2.626\n",
            "\t Val. Loss: 1.838 |  Val. PPL:   6.285\n",
            "Epoch: 03 | Time: 295m 1s\n",
            "\tTrain Loss: 0.880 | Train PPL:   2.410\n",
            "\t Val. Loss: 1.859 |  Val. PPL:   6.417\n",
            "Epoch: 04 | Time: 12m 44s\n",
            "\tTrain Loss: 0.847 | Train PPL:   2.333\n",
            "\t Val. Loss: 1.898 |  Val. PPL:   6.674\n",
            "Epoch: 05 | Time: 11m 59s\n",
            "\tTrain Loss: 0.820 | Train PPL:   2.271\n",
            "\t Val. Loss: 1.936 |  Val. PPL:   6.934\n"
          ]
        }
      ],
      "source": [
        "best_valid_loss = float('inf')\n",
        "num_epochs = 5\n",
        "clip       = 1\n",
        "\n",
        "save_path = f'./model/{model_additive.__class__.__name__}_fullSCB.pt'\n",
        "\n",
        "train_losses = []\n",
        "valid_losses = []\n",
        "\n",
        "for epoch in range(num_epochs):\n",
        "    \n",
        "    start_time = time.time()\n",
        "\n",
        "    train_loss = train(model_additive, train_loader, optimizer, criterion, clip, train_loader_length)\n",
        "    valid_loss = evaluate(model_additive, valid_loader, criterion, val_loader_length)\n",
        "    \n",
        "    #for plotting\n",
        "    train_losses.append(train_loss)\n",
        "    valid_losses.append(valid_loss)\n",
        "    \n",
        "    end_time = time.time()\n",
        "    \n",
        "    epoch_mins, epoch_secs = epoch_time(start_time, end_time)\n",
        "\n",
        "    \n",
        "    if valid_loss < best_valid_loss:\n",
        "        best_valid_loss = valid_loss\n",
        "        torch.save(model_additive.state_dict(), save_path)\n",
        "    \n",
        "    print(f'Epoch: {epoch+1:02} | Time: {epoch_mins}m {epoch_secs}s')\n",
        "    print(f'\\tTrain Loss: {train_loss:.3f} | Train PPL: {math.exp(train_loss):7.3f}')\n",
        "    print(f'\\t Val. Loss: {valid_loss:.3f} |  Val. PPL: {math.exp(valid_loss):7.3f}')"
      ]
    },
    {
      "cell_type": "code",
      "execution_count": 45,
      "metadata": {
        "colab": {
          "base_uri": "https://localhost:8080/",
          "height": 242
        },
        "id": "CTUBtLzBbf87",
        "outputId": "7ad99598-843c-420d-f0e6-2af573923a43"
      },
      "outputs": [
        {
          "data": {
            "text/plain": [
              "Text(0, 0.5, 'loss')"
            ]
          },
          "execution_count": 45,
          "metadata": {},
          "output_type": "execute_result"
        },
        {
          "data": {
            "image/png": "[encoded data removed]",
            "text/plain": [
              "<Figure size 500x300 with 1 Axes>"
            ]
          },
          "metadata": {},
          "output_type": "display_data"
        }
      ],
      "source": [
        "import matplotlib.pyplot as plt\n",
        "fig = plt.figure(figsize=(5, 3))\n",
        "ax = fig.add_subplot(1, 1, 1)\n",
        "ax.plot(train_losses, label = 'train loss')\n",
        "ax.plot(valid_losses, label = 'valid loss')\n",
        "plt.legend()\n",
        "ax.set_xlabel('updates')\n",
        "ax.set_ylabel('loss')"
      ]
    },
    {
      "cell_type": "code",
      "execution_count": 46,
      "metadata": {
        "colab": {
          "base_uri": "https://localhost:8080/"
        },
        "id": "zohUsqhvbgSZ",
        "outputId": "d2ea3a7d-3261-40c4-ebec-11c4830126a6"
      },
      "outputs": [
        {
          "name": "stdout",
          "output_type": "stream",
          "text": [
            "| Test Loss: 1.824 | Test PPL:   6.194 |\n"
          ]
        }
      ],
      "source": [
        "model_additive.load_state_dict(torch.load(save_path))\n",
        "test_loss = evaluate(model_additive, test_loader, criterion, test_loader_length)\n",
        "\n",
        "print(f'| Test Loss: {test_loss:.3f} | Test PPL: {math.exp(test_loss):7.3f} |')"
      ]
    },
    {
      "attachments": {},
      "cell_type": "markdown",
      "metadata": {
        "id": "JCnPjq-kbnmH"
      },
      "source": [
        "## 7. Testing on random dataset"
      ]
    },
    {
      "cell_type": "code",
      "execution_count": 47,
      "metadata": {
        "colab": {
          "base_uri": "https://localhost:8080/"
        },
        "id": "qVFZjfJcbkIK",
        "outputId": "44ab5c53-636e-4c13-cf8b-ea37c6c03cfc"
      },
      "outputs": [
        {
          "data": {
            "text/plain": [
              "('त्यो एक्लै थियो क्षण, त्यो पत्र खोल्न',\n",
              " 'The moment she was alone, she opened the letter')"
            ]
          },
          "execution_count": 47,
          "metadata": {},
          "output_type": "execute_result"
        }
      ],
      "source": [
        "dataset[0][0], dataset[0][1]"
      ]
    },
    {
      "cell_type": "code",
      "execution_count": 48,
      "metadata": {
        "colab": {
          "base_uri": "https://localhost:8080/"
        },
        "id": "yC9N2MXVbt3b",
        "outputId": "4d4de35d-b974-43ee-d8b1-ca8260ee438f"
      },
      "outputs": [
        {
          "data": {
            "text/plain": [
              "(tensor([  2,  11,   5,  18,  21,  28,  10,   5, 694,  37,  16,  18,  21,  10,\n",
              "           5,  68,  88,  61,  11,  75,  21,  17,  11,   5,  49,  48,  20,  15,\n",
              "           5,   8,   3], device='cuda:0'),\n",
              " tensor([  2,  35, 584, 119,  23, 178,  20, 119, 857,   7, 330,   3],\n",
              "        device='cuda:0'))"
            ]
          },
          "execution_count": 48,
          "metadata": {},
          "output_type": "execute_result"
        }
      ],
      "source": [
        "src_text = text_transform[SRC_LANGUAGE](dataset[0][0]).to(device)\n",
        "trg_text = text_transform[TRG_LANGUAGE](dataset[0][1]).to(device)\n",
        "src_text, trg_text"
      ]
    },
    {
      "cell_type": "code",
      "execution_count": 49,
      "metadata": {
        "colab": {
          "base_uri": "https://localhost:8080/"
        },
        "id": "GPJFdyVKbydN",
        "outputId": "566a8cff-60d0-4d0b-d8bf-57a0fff5b68a"
      },
      "outputs": [
        {
          "data": {
            "text/plain": [
              "(torch.Size([31, 1]), torch.Size([12, 1]))"
            ]
          },
          "execution_count": 49,
          "metadata": {},
          "output_type": "execute_result"
        }
      ],
      "source": [
        "src_text = src_text.reshape(-1, 1)  #because batch_size is 1\n",
        "trg_text = trg_text.reshape(-1, 1)\n",
        "src_text.shape, trg_text.shape"
      ]
    },
    {
      "cell_type": "code",
      "execution_count": 50,
      "metadata": {
        "id": "3WGzZQc7b05p"
      },
      "outputs": [],
      "source": [
        "text_length = torch.tensor([src_text.size(0)]).to(dtype=torch.int64)"
      ]
    },
    {
      "cell_type": "code",
      "execution_count": 51,
      "metadata": {
        "id": "r48DoPJkb4yT"
      },
      "outputs": [],
      "source": [
        "model_additive.load_state_dict(torch.load(save_path))\n",
        "\n",
        "model_additive.eval()\n",
        "with torch.no_grad():\n",
        "    output, attentions = model_additive(src_text, text_length, trg_text, 0) #turn off teacher forcing"
      ]
    },
    {
      "cell_type": "code",
      "execution_count": 52,
      "metadata": {
        "colab": {
          "base_uri": "https://localhost:8080/"
        },
        "id": "GNDyXdazb2t9",
        "outputId": "94bac4cc-9156-4a83-8cfb-52303758fd95"
      },
      "outputs": [
        {
          "data": {
            "text/plain": [
              "torch.Size([12, 1, 9008])"
            ]
          },
          "execution_count": 52,
          "metadata": {},
          "output_type": "execute_result"
        }
      ],
      "source": [
        "output.shape #trg_len, batch_size, trg_output_dim"
      ]
    },
    {
      "cell_type": "code",
      "execution_count": 53,
      "metadata": {
        "colab": {
          "base_uri": "https://localhost:8080/"
        },
        "id": "fEacF3jib7vr",
        "outputId": "a983deca-e396-4801-ba2a-3a229dfb3540"
      },
      "outputs": [
        {
          "data": {
            "text/plain": [
              "torch.Size([12, 9008])"
            ]
          },
          "execution_count": 53,
          "metadata": {},
          "output_type": "execute_result"
        }
      ],
      "source": [
        "output = output.squeeze(1)\n",
        "output.shape"
      ]
    },
    {
      "cell_type": "code",
      "execution_count": 54,
      "metadata": {
        "colab": {
          "base_uri": "https://localhost:8080/"
        },
        "id": "p66uRv53cAsg",
        "outputId": "c2896147-7dd6-4288-d174-dd1996fae39e"
      },
      "outputs": [
        {
          "data": {
            "text/plain": [
              "tensor([  0,  33, 584, 119,  23, 178,  20, 119, 857,   7, 330,   3],\n",
              "       device='cuda:0')"
            ]
          },
          "execution_count": 54,
          "metadata": {},
          "output_type": "execute_result"
        }
      ],
      "source": [
        "output_max = output.argmax(1) #returns max indices\n",
        "output_max"
      ]
    },
    {
      "cell_type": "code",
      "execution_count": 55,
      "metadata": {
        "colab": {
          "base_uri": "https://localhost:8080/"
        },
        "id": "8UIPnHvrcFqU",
        "outputId": "26c73329-830d-448f-97a5-30e309c049a0"
      },
      "outputs": [
        {
          "name": "stdout",
          "output_type": "stream",
          "text": [
            "<unk>\n",
            "े \n",
            "ि उ\n",
            "् \n",
            "ु\n",
            "न प\n",
            "ो\n",
            "् \n",
            "त त\n",
            "म\n",
            "िनीहरू\n",
            "<eos>\n"
          ]
        }
      ],
      "source": [
        "for token in output_max:\n",
        "    print(mapping[token.item()])"
      ]
    },
    {
      "attachments": {},
      "cell_type": "markdown",
      "metadata": {
        "id": "VQ-yWLuDf2it"
      },
      "source": [
        "## 8. Attention"
      ]
    },
    {
      "cell_type": "code",
      "execution_count": 56,
      "metadata": {
        "colab": {
          "base_uri": "https://localhost:8080/"
        },
        "id": "Dj2D2vY0cLNN",
        "outputId": "e64567a9-fa49-4b32-b5f0-715cc494a272"
      },
      "outputs": [
        {
          "data": {
            "text/plain": [
              "torch.Size([12, 1, 31])"
            ]
          },
          "execution_count": 56,
          "metadata": {},
          "output_type": "execute_result"
        }
      ],
      "source": [
        "\n",
        "attentions.shape"
      ]
    },
    {
      "cell_type": "code",
      "execution_count": 57,
      "metadata": {
        "colab": {
          "base_uri": "https://localhost:8080/"
        },
        "id": "55l9A6Q0f6n8",
        "outputId": "810d4081-ef92-4857-d2f5-6568a5264a14"
      },
      "outputs": [
        {
          "data": {
            "text/plain": [
              "['<sos>',\n",
              " 'The',\n",
              " ' ',\n",
              " 'moment',\n",
              " ' ',\n",
              " 'she',\n",
              " ' ',\n",
              " 'was',\n",
              " ' ',\n",
              " 'alone',\n",
              " ',',\n",
              " ' ',\n",
              " 'she',\n",
              " ' ',\n",
              " 'opened',\n",
              " ' ',\n",
              " 'the',\n",
              " ' ',\n",
              " 'letter',\n",
              " '<eos>']"
            ]
          },
          "execution_count": 57,
          "metadata": {},
          "output_type": "execute_result"
        }
      ],
      "source": [
        "src_tokens = ['<sos>'] + token_transform[SRC_LANGUAGE].tokenize(dataset[0][1]) + ['<eos>']\n",
        "src_tokens"
      ]
    },
    {
      "cell_type": "code",
      "execution_count": 58,
      "metadata": {
        "colab": {
          "base_uri": "https://localhost:8080/"
        },
        "id": "7yctd3q0f7_Q",
        "outputId": "721293c6-218f-4baa-fc75-776e55cd82be"
      },
      "outputs": [
        {
          "data": {
            "text/plain": [
              "['<sos>',\n",
              " '<unk>',\n",
              " 'े ',\n",
              " 'ि उ',\n",
              " '् ',\n",
              " 'ु',\n",
              " 'न प',\n",
              " 'ो',\n",
              " '् ',\n",
              " 'त त',\n",
              " 'म',\n",
              " 'िनीहरू',\n",
              " '<eos>']"
            ]
          },
          "execution_count": 58,
          "metadata": {},
          "output_type": "execute_result"
        }
      ],
      "source": [
        "trg_tokens = ['<sos>'] + [mapping[token.item()] for token in output_max]\n",
        "trg_tokens"
      ]
    },
    {
      "cell_type": "code",
      "execution_count": 59,
      "metadata": {
        "id": "UemlPn_RgAVU"
      },
      "outputs": [],
      "source": [
        "import matplotlib.ticker as ticker\n",
        "\n",
        "def display_attention(sentence, translation, attention):\n",
        "    \n",
        "    fig = plt.figure(figsize=(10,10))\n",
        "    ax = fig.add_subplot(111)\n",
        "    \n",
        "    attention = attention.squeeze(1).cpu().detach().numpy()\n",
        "    \n",
        "    cax = ax.matshow(attention, cmap='bone')\n",
        "   \n",
        "    ax.tick_params(labelsize=10)\n",
        "    \n",
        "    y_ticks =  [''] + translation\n",
        "    x_ticks =  [''] + sentence \n",
        "     \n",
        "    ax.set_xticklabels(x_ticks, rotation=45)\n",
        "    ax.set_yticklabels(y_ticks)\n",
        "\n",
        "    ax.xaxis.set_major_locator(ticker.MultipleLocator(1))\n",
        "    ax.yaxis.set_major_locator(ticker.MultipleLocator(1))\n",
        "\n",
        "    plt.show()\n",
        "    plt.close()"
      ]
    },
    {
      "cell_type": "code",
      "execution_count": 60,
      "metadata": {
        "colab": {
          "base_uri": "https://localhost:8080/",
          "height": 850
        },
        "id": "Za5eOOj5gEOk",
        "outputId": "6075c04f-bbad-4dbe-c0ed-5f72915f7443"
      },
      "outputs": [
        {
          "name": "stderr",
          "output_type": "stream",
          "text": [
            "C:\\Users\\Sirikit Joshi\\AppData\\Local\\Temp\\ipykernel_11876\\59549304.py:17: UserWarning: FixedFormatter should only be used together with FixedLocator\n",
            "  ax.set_xticklabels(x_ticks, rotation=45)\n",
            "C:\\Users\\Sirikit Joshi\\AppData\\Local\\Temp\\ipykernel_11876\\59549304.py:18: UserWarning: FixedFormatter should only be used together with FixedLocator\n",
            "  ax.set_yticklabels(y_ticks)\n",
            "C:\\Users\\Sirikit Joshi\\AppData\\Roaming\\Python\\Python310\\site-packages\\IPython\\core\\pylabtools.py:151: UserWarning: Glyph 2375 (\\N{DEVANAGARI VOWEL SIGN E}) missing from current font.\n",
            "  fig.canvas.print_figure(bytes_io, **kw)\n",
            "C:\\Users\\Sirikit Joshi\\AppData\\Roaming\\Python\\Python310\\site-packages\\IPython\\core\\pylabtools.py:151: UserWarning: Matplotlib currently does not support Devanagari natively.\n",
            "  fig.canvas.print_figure(bytes_io, **kw)\n",
            "C:\\Users\\Sirikit Joshi\\AppData\\Roaming\\Python\\Python310\\site-packages\\IPython\\core\\pylabtools.py:151: UserWarning: Glyph 2367 (\\N{DEVANAGARI VOWEL SIGN I}) missing from current font.\n",
            "  fig.canvas.print_figure(bytes_io, **kw)\n",
            "C:\\Users\\Sirikit Joshi\\AppData\\Roaming\\Python\\Python310\\site-packages\\IPython\\core\\pylabtools.py:151: UserWarning: Glyph 2313 (\\N{DEVANAGARI LETTER U}) missing from current font.\n",
            "  fig.canvas.print_figure(bytes_io, **kw)\n",
            "C:\\Users\\Sirikit Joshi\\AppData\\Roaming\\Python\\Python310\\site-packages\\IPython\\core\\pylabtools.py:151: UserWarning: Glyph 2381 (\\N{DEVANAGARI SIGN VIRAMA}) missing from current font.\n",
            "  fig.canvas.print_figure(bytes_io, **kw)\n",
            "C:\\Users\\Sirikit Joshi\\AppData\\Roaming\\Python\\Python310\\site-packages\\IPython\\core\\pylabtools.py:151: UserWarning: Glyph 2369 (\\N{DEVANAGARI VOWEL SIGN U}) missing from current font.\n",
            "  fig.canvas.print_figure(bytes_io, **kw)\n",
            "C:\\Users\\Sirikit Joshi\\AppData\\Roaming\\Python\\Python310\\site-packages\\IPython\\core\\pylabtools.py:151: UserWarning: Glyph 2344 (\\N{DEVANAGARI LETTER NA}) missing from current font.\n",
            "  fig.canvas.print_figure(bytes_io, **kw)\n",
            "C:\\Users\\Sirikit Joshi\\AppData\\Roaming\\Python\\Python310\\site-packages\\IPython\\core\\pylabtools.py:151: UserWarning: Glyph 2346 (\\N{DEVANAGARI LETTER PA}) missing from current font.\n",
            "  fig.canvas.print_figure(bytes_io, **kw)\n",
            "C:\\Users\\Sirikit Joshi\\AppData\\Roaming\\Python\\Python310\\site-packages\\IPython\\core\\pylabtools.py:151: UserWarning: Glyph 2379 (\\N{DEVANAGARI VOWEL SIGN O}) missing from current font.\n",
            "  fig.canvas.print_figure(bytes_io, **kw)\n",
            "C:\\Users\\Sirikit Joshi\\AppData\\Roaming\\Python\\Python310\\site-packages\\IPython\\core\\pylabtools.py:151: UserWarning: Glyph 2340 (\\N{DEVANAGARI LETTER TA}) missing from current font.\n",
            "  fig.canvas.print_figure(bytes_io, **kw)\n",
            "C:\\Users\\Sirikit Joshi\\AppData\\Roaming\\Python\\Python310\\site-packages\\IPython\\core\\pylabtools.py:151: UserWarning: Glyph 2350 (\\N{DEVANAGARI LETTER MA}) missing from current font.\n",
            "  fig.canvas.print_figure(bytes_io, **kw)\n",
            "C:\\Users\\Sirikit Joshi\\AppData\\Roaming\\Python\\Python310\\site-packages\\IPython\\core\\pylabtools.py:151: UserWarning: Glyph 2368 (\\N{DEVANAGARI VOWEL SIGN II}) missing from current font.\n",
            "  fig.canvas.print_figure(bytes_io, **kw)\n",
            "C:\\Users\\Sirikit Joshi\\AppData\\Roaming\\Python\\Python310\\site-packages\\IPython\\core\\pylabtools.py:151: UserWarning: Glyph 2361 (\\N{DEVANAGARI LETTER HA}) missing from current font.\n",
            "  fig.canvas.print_figure(bytes_io, **kw)\n",
            "C:\\Users\\Sirikit Joshi\\AppData\\Roaming\\Python\\Python310\\site-packages\\IPython\\core\\pylabtools.py:151: UserWarning: Glyph 2352 (\\N{DEVANAGARI LETTER RA}) missing from current font.\n",
            "  fig.canvas.print_figure(bytes_io, **kw)\n",
            "C:\\Users\\Sirikit Joshi\\AppData\\Roaming\\Python\\Python310\\site-packages\\IPython\\core\\pylabtools.py:151: UserWarning: Glyph 2370 (\\N{DEVANAGARI VOWEL SIGN UU}) missing from current font.\n",
            "  fig.canvas.print_figure(bytes_io, **kw)\n"
          ]
        },
        {
          "data": {
            "image/png": "[encoded data removed]",
            "text/plain": [
              "<Figure size 1000x1000 with 1 Axes>"
            ]
          },
          "metadata": {},
          "output_type": "display_data"
        }
      ],
      "source": [
        "display_attention(src_tokens, trg_tokens, attentions)"
      ]
    },
    {
      "cell_type": "code",
      "execution_count": null,
      "metadata": {
        "id": "DqmuYUHVgNQX"
      },
      "outputs": [],
      "source": []
    }
  ],
  "metadata": {
    "accelerator": "GPU",
    "colab": {
      "provenance": []
    },
    "gpuClass": "standard",
    "kernelspec": {
      "display_name": "Python 3",
      "name": "python3"
    },
    "language_info": {
      "codemirror_mode": {
        "name": "ipython",
        "version": 3
      },
      "file_extension": ".py",
      "mimetype": "text/x-python",
      "name": "python",
      "nbconvert_exporter": "python",
      "pygments_lexer": "ipython3",
      "version": "3.10.9"
    }
  },
  "nbformat": 4,
  "nbformat_minor": 0
}
