{
 "cells": [
  {
   "attachments": {},
   "cell_type": "markdown",
   "metadata": {},
   "source": [
    "## Word2Vec"
   ]
  },
  {
   "cell_type": "code",
   "execution_count": 1,
   "metadata": {},
   "outputs": [],
   "source": [
    "#importing necessary libraries\n",
    "import numpy as np\n",
    "import torch\n",
    "import torch.nn as nn\n",
    "import torch.optim as optim\n",
    "import matplotlib.pyplot as plt\n",
    "import spacy"
   ]
  },
  {
   "attachments": {},
   "cell_type": "markdown",
   "metadata": {},
   "source": [
    "## 1. Try a real corpus"
   ]
  },
  {
   "cell_type": "code",
   "execution_count": 2,
   "metadata": {},
   "outputs": [],
   "source": [
    "corpus = \"Born and raised in Atchison, Kansas, and later in Des Moines, Iowa, Earhart developed a passion for adventure at a young age, steadily gaining flying experience from her twenties. In 1928, Earhart became the first female passenger to cross the Atlantic by airplane (accompanying pilot Wilmer Stultz), for which she achieved celebrity status. In 1932, piloting a Lockheed Vega 5B, Earhart made a nonstop solo transatlantic flight, becoming the first woman to achieve such a feat. She received the United States Distinguished Flying Cross for this accomplishment. In 1935, Earhart became a visiting faculty member at Purdue University as an advisor to aeronautical engineering and a career counselor to female students. She was also a member of the National Woman's Party and an early supporter of the Equal Rights Amendment. Known as one of the most inspirational American figures in aviation from the late 1920s throughout the 1930s, Earhart's legacy is often compared to the early aeronautical career of pioneer aviator Charles Lindbergh, as well as to figures like First Lady Eleanor Roosevelt for their close friendship and lasting impact on the issue of women's causes from that period.\""
   ]
  },
  {
   "cell_type": "code",
   "execution_count": 3,
   "metadata": {},
   "outputs": [
    {
     "name": "stdout",
     "output_type": "stream",
     "text": [
      "1190\n"
     ]
    }
   ],
   "source": [
    "#let's check the size of the corpus\n",
    "print(len(corpus))\n"
   ]
  },
  {
   "cell_type": "code",
   "execution_count": 5,
   "metadata": {},
   "outputs": [
    {
     "name": "stdout",
     "output_type": "stream",
     "text": [
      "born and raised in atchison, kansas, and later in des moines, iowa, earhart developed a passion for adventure at a young age, steadily gaining flying experience from her twenties. in 1928, earhart became the first female passenger to cross the atlantic by airplane (accompanying pilot wilmer stultz), for which she achieved celebrity status. in 1932, piloting a lockheed vega 5b, earhart made a nonstop solo transatlantic flight, becoming the first woman to achieve such a feat. she received the united states distinguished flying cross for this accomplishment. in 1935, earhart became a visiting faculty member at purdue university as an advisor to aeronautical engineering and a career counselor to female students. she was also a member of the national woman's party and an early supporter of the equal rights amendment. known as one of the most inspirational american figures in aviation from the late 1920s throughout the 1930s, earhart's legacy is often compared to the early aeronautical career of pioneer aviator charles lindbergh, as well as to figures like first lady eleanor roosevelt for their close friendship and lasting impact on the issue of women's causes from that period.\n"
     ]
    }
   ],
   "source": [
    "\n",
    "\n",
    "convert = spacy.load(\"en_core_web_lg\")\n",
    "#converting to lower case\n",
    "corpus_lower = convert(corpus.lower())\n",
    "\n",
    "print(corpus_lower)"
   ]
  },
  {
   "cell_type": "code",
   "execution_count": 7,
   "metadata": {},
   "outputs": [
    {
     "data": {
      "text/plain": [
       "['born', 'and', 'raised', 'in', 'atchison']"
      ]
     },
     "execution_count": 7,
     "metadata": {},
     "output_type": "execute_result"
    }
   ],
   "source": [
    "#making a list of words\n",
    "word_list = []\n",
    "for word in corpus_lower:\n",
    "        word_list.append('' + word.text + '')\n",
    "\n",
    "word_list[0:5]\n"
   ]
  },
  {
   "cell_type": "code",
   "execution_count": 9,
   "metadata": {},
   "outputs": [
    {
     "data": {
      "text/plain": [
       "[['born',\n",
       "  'and',\n",
       "  'raised',\n",
       "  'in',\n",
       "  'atchison',\n",
       "  ',',\n",
       "  'kansas',\n",
       "  ',',\n",
       "  'and',\n",
       "  'later'],\n",
       " ['in',\n",
       "  'des',\n",
       "  'moines',\n",
       "  ',',\n",
       "  'iowa',\n",
       "  ',',\n",
       "  'earhart',\n",
       "  'developed',\n",
       "  'a',\n",
       "  'passion'],\n",
       " ['for',\n",
       "  'adventure',\n",
       "  'at',\n",
       "  'a',\n",
       "  'young',\n",
       "  'age',\n",
       "  ',',\n",
       "  'steadily',\n",
       "  'gaining',\n",
       "  'flying'],\n",
       " ['experience',\n",
       "  'from',\n",
       "  'her',\n",
       "  'twenties',\n",
       "  '.',\n",
       "  'in',\n",
       "  '1928',\n",
       "  ',',\n",
       "  'earhart',\n",
       "  'became'],\n",
       " ['the',\n",
       "  'first',\n",
       "  'female',\n",
       "  'passenger',\n",
       "  'to',\n",
       "  'cross',\n",
       "  'the',\n",
       "  'atlantic',\n",
       "  'by',\n",
       "  'airplane']]"
      ]
     },
     "execution_count": 9,
     "metadata": {},
     "output_type": "execute_result"
    }
   ],
   "source": [
    "#1. tokenize\n",
    "#usually you use spaCy / NLTK to tokenize (but we gonna do this later on, we gonna have spaCy)\n",
    "corpus_tokenized = []\n",
    "empty = []\n",
    "counter = 0\n",
    "for word in word_list:\n",
    "    if counter == 10:\n",
    "        corpus_tokenized.append(empty)\n",
    "        counter = 0\n",
    "        empty = []\n",
    "    empty.append(word)\n",
    "    counter = counter + 1\n",
    "\n",
    "corpus_tokenized[0:5]"
   ]
  },
  {
   "cell_type": "code",
   "execution_count": 12,
   "metadata": {},
   "outputs": [
    {
     "name": "stdout",
     "output_type": "stream",
     "text": [
      "['well', 'kansas', 'vega', '1932', 'such']\n",
      "129\n"
     ]
    }
   ],
   "source": [
    "#2. numericalize\n",
    "\n",
    "#2.1 get all the unique words\n",
    "#we want to flatten this (basically merge all list)\n",
    "flatten = lambda l: [item for sublist in l for item in sublist]\n",
    "vocabs  = list(set(flatten(corpus_tokenized)))  #vocabs is a term defining all unique words your system know\n",
    "print(vocabs[0:5])\n",
    "print(len(vocabs))"
   ]
  },
  {
   "cell_type": "code",
   "execution_count": 13,
   "metadata": {},
   "outputs": [],
   "source": [
    "#2.2 assign id to all these vocabs\n",
    "word2index = {v: idx+1 for idx, v in enumerate(vocabs)}\n",
    "\n",
    "#add <UNK>, which is a very normal token exists in the world\n",
    "vocabs.append('<UNK>') #chaky, can it be ##UNK, or UNKKKKKK, or anything\n",
    "\n",
    "word2index['<UNK>'] = 0 "
   ]
  },
  {
   "cell_type": "code",
   "execution_count": 14,
   "metadata": {},
   "outputs": [
    {
     "data": {
      "text/plain": [
       "{'well': 1,\n",
       " 'kansas': 2,\n",
       " 'vega': 3,\n",
       " '1932': 4,\n",
       " 'such': 5,\n",
       " 'amendment': 6,\n",
       " 'young': 7,\n",
       " 'figures': 8,\n",
       " 'achieve': 9,\n",
       " 'first': 10,\n",
       " 'becoming': 11,\n",
       " 'a': 12,\n",
       " 'compared': 13,\n",
       " 'counselor': 14,\n",
       " 'pilot': 15,\n",
       " 'equal': 16,\n",
       " 'made': 17,\n",
       " 'purdue': 18,\n",
       " 'steadily': 19,\n",
       " 'career': 20,\n",
       " 'earhart': 21,\n",
       " 'eleanor': 22,\n",
       " 'female': 23,\n",
       " 'party': 24,\n",
       " 'legacy': 25,\n",
       " '.': 26,\n",
       " 'gaining': 27,\n",
       " 'flying': 28,\n",
       " 'one': 29,\n",
       " 'by': 30,\n",
       " \"'s\": 31,\n",
       " 'feat': 32,\n",
       " 'stultz': 33,\n",
       " 'received': 34,\n",
       " 'engineering': 35,\n",
       " 'is': 36,\n",
       " 'as': 37,\n",
       " 'later': 38,\n",
       " 'moines': 39,\n",
       " 'achieved': 40,\n",
       " 'flight': 41,\n",
       " 'nonstop': 42,\n",
       " 'also': 43,\n",
       " ')': 44,\n",
       " 'passion': 45,\n",
       " 'american': 46,\n",
       " 'causes': 47,\n",
       " 'at': 48,\n",
       " 'advisor': 49,\n",
       " 'the': 50,\n",
       " 'pioneer': 51,\n",
       " 'late': 52,\n",
       " 'impact': 53,\n",
       " 'and': 54,\n",
       " 'women': 55,\n",
       " '1920s': 56,\n",
       " '(': 57,\n",
       " 'aviation': 58,\n",
       " 'roosevelt': 59,\n",
       " '1928': 60,\n",
       " 'lady': 61,\n",
       " 'became': 62,\n",
       " ',': 63,\n",
       " 'known': 64,\n",
       " 'twenties': 65,\n",
       " 'she': 66,\n",
       " 'supporter': 67,\n",
       " 'piloting': 68,\n",
       " 'often': 69,\n",
       " 'passenger': 70,\n",
       " '1930s': 71,\n",
       " 'in': 72,\n",
       " 'transatlantic': 73,\n",
       " 'friendship': 74,\n",
       " 'an': 75,\n",
       " '5b': 76,\n",
       " 'university': 77,\n",
       " 'wilmer': 78,\n",
       " 'issue': 79,\n",
       " 'accomplishment': 80,\n",
       " 'like': 81,\n",
       " 'born': 82,\n",
       " 'member': 83,\n",
       " 'was': 84,\n",
       " 'developed': 85,\n",
       " 'raised': 86,\n",
       " 'united': 87,\n",
       " 'aviator': 88,\n",
       " 'most': 89,\n",
       " 'their': 90,\n",
       " 'on': 91,\n",
       " 'inspirational': 92,\n",
       " 'throughout': 93,\n",
       " 'rights': 94,\n",
       " 'airplane': 95,\n",
       " 'lockheed': 96,\n",
       " '1935': 97,\n",
       " 'adventure': 98,\n",
       " 'national': 99,\n",
       " 'early': 100,\n",
       " 'charles': 101,\n",
       " 'lasting': 102,\n",
       " 'solo': 103,\n",
       " 'des': 104,\n",
       " 'age': 105,\n",
       " 'iowa': 106,\n",
       " 'for': 107,\n",
       " 'visiting': 108,\n",
       " 'atchison': 109,\n",
       " 'states': 110,\n",
       " 'cross': 111,\n",
       " 'atlantic': 112,\n",
       " 'her': 113,\n",
       " 'celebrity': 114,\n",
       " 'close': 115,\n",
       " 'from': 116,\n",
       " 'aeronautical': 117,\n",
       " 'accompanying': 118,\n",
       " 'distinguished': 119,\n",
       " 'lindbergh': 120,\n",
       " 'experience': 121,\n",
       " 'students': 122,\n",
       " 'this': 123,\n",
       " 'faculty': 124,\n",
       " 'to': 125,\n",
       " 'which': 126,\n",
       " 'woman': 127,\n",
       " 'status': 128,\n",
       " 'of': 129,\n",
       " '<UNK>': 0}"
      ]
     },
     "execution_count": 14,
     "metadata": {},
     "output_type": "execute_result"
    }
   ],
   "source": [
    "word2index"
   ]
  },
  {
   "cell_type": "code",
   "execution_count": 15,
   "metadata": {},
   "outputs": [
    {
     "data": {
      "text/plain": [
       "{1: 'well',\n",
       " 2: 'kansas',\n",
       " 3: 'vega',\n",
       " 4: '1932',\n",
       " 5: 'such',\n",
       " 6: 'amendment',\n",
       " 7: 'young',\n",
       " 8: 'figures',\n",
       " 9: 'achieve',\n",
       " 10: 'first',\n",
       " 11: 'becoming',\n",
       " 12: 'a',\n",
       " 13: 'compared',\n",
       " 14: 'counselor',\n",
       " 15: 'pilot',\n",
       " 16: 'equal',\n",
       " 17: 'made',\n",
       " 18: 'purdue',\n",
       " 19: 'steadily',\n",
       " 20: 'career',\n",
       " 21: 'earhart',\n",
       " 22: 'eleanor',\n",
       " 23: 'female',\n",
       " 24: 'party',\n",
       " 25: 'legacy',\n",
       " 26: '.',\n",
       " 27: 'gaining',\n",
       " 28: 'flying',\n",
       " 29: 'one',\n",
       " 30: 'by',\n",
       " 31: \"'s\",\n",
       " 32: 'feat',\n",
       " 33: 'stultz',\n",
       " 34: 'received',\n",
       " 35: 'engineering',\n",
       " 36: 'is',\n",
       " 37: 'as',\n",
       " 38: 'later',\n",
       " 39: 'moines',\n",
       " 40: 'achieved',\n",
       " 41: 'flight',\n",
       " 42: 'nonstop',\n",
       " 43: 'also',\n",
       " 44: ')',\n",
       " 45: 'passion',\n",
       " 46: 'american',\n",
       " 47: 'causes',\n",
       " 48: 'at',\n",
       " 49: 'advisor',\n",
       " 50: 'the',\n",
       " 51: 'pioneer',\n",
       " 52: 'late',\n",
       " 53: 'impact',\n",
       " 54: 'and',\n",
       " 55: 'women',\n",
       " 56: '1920s',\n",
       " 57: '(',\n",
       " 58: 'aviation',\n",
       " 59: 'roosevelt',\n",
       " 60: '1928',\n",
       " 61: 'lady',\n",
       " 62: 'became',\n",
       " 63: ',',\n",
       " 64: 'known',\n",
       " 65: 'twenties',\n",
       " 66: 'she',\n",
       " 67: 'supporter',\n",
       " 68: 'piloting',\n",
       " 69: 'often',\n",
       " 70: 'passenger',\n",
       " 71: '1930s',\n",
       " 72: 'in',\n",
       " 73: 'transatlantic',\n",
       " 74: 'friendship',\n",
       " 75: 'an',\n",
       " 76: '5b',\n",
       " 77: 'university',\n",
       " 78: 'wilmer',\n",
       " 79: 'issue',\n",
       " 80: 'accomplishment',\n",
       " 81: 'like',\n",
       " 82: 'born',\n",
       " 83: 'member',\n",
       " 84: 'was',\n",
       " 85: 'developed',\n",
       " 86: 'raised',\n",
       " 87: 'united',\n",
       " 88: 'aviator',\n",
       " 89: 'most',\n",
       " 90: 'their',\n",
       " 91: 'on',\n",
       " 92: 'inspirational',\n",
       " 93: 'throughout',\n",
       " 94: 'rights',\n",
       " 95: 'airplane',\n",
       " 96: 'lockheed',\n",
       " 97: '1935',\n",
       " 98: 'adventure',\n",
       " 99: 'national',\n",
       " 100: 'early',\n",
       " 101: 'charles',\n",
       " 102: 'lasting',\n",
       " 103: 'solo',\n",
       " 104: 'des',\n",
       " 105: 'age',\n",
       " 106: 'iowa',\n",
       " 107: 'for',\n",
       " 108: 'visiting',\n",
       " 109: 'atchison',\n",
       " 110: 'states',\n",
       " 111: 'cross',\n",
       " 112: 'atlantic',\n",
       " 113: 'her',\n",
       " 114: 'celebrity',\n",
       " 115: 'close',\n",
       " 116: 'from',\n",
       " 117: 'aeronautical',\n",
       " 118: 'accompanying',\n",
       " 119: 'distinguished',\n",
       " 120: 'lindbergh',\n",
       " 121: 'experience',\n",
       " 122: 'students',\n",
       " 123: 'this',\n",
       " 124: 'faculty',\n",
       " 125: 'to',\n",
       " 126: 'which',\n",
       " 127: 'woman',\n",
       " 128: 'status',\n",
       " 129: 'of',\n",
       " 0: '<UNK>'}"
      ]
     },
     "execution_count": 15,
     "metadata": {},
     "output_type": "execute_result"
    }
   ],
   "source": [
    "#create index2word dictionary\n",
    "   \n",
    "index2word = {v:k for k, v in word2index.items()}\n",
    "\n",
    "index2word"
   ]
  },
  {
   "cell_type": "code",
   "execution_count": 16,
   "metadata": {},
   "outputs": [
    {
     "data": {
      "text/plain": [
       "['well',\n",
       " 'kansas',\n",
       " 'vega',\n",
       " '1932',\n",
       " 'such',\n",
       " 'amendment',\n",
       " 'young',\n",
       " 'figures',\n",
       " 'achieve',\n",
       " 'first',\n",
       " 'becoming',\n",
       " 'a',\n",
       " 'compared',\n",
       " 'counselor',\n",
       " 'pilot',\n",
       " 'equal',\n",
       " 'made',\n",
       " 'purdue',\n",
       " 'steadily',\n",
       " 'career',\n",
       " 'earhart',\n",
       " 'eleanor',\n",
       " 'female',\n",
       " 'party',\n",
       " 'legacy',\n",
       " '.',\n",
       " 'gaining',\n",
       " 'flying',\n",
       " 'one',\n",
       " 'by',\n",
       " \"'s\",\n",
       " 'feat',\n",
       " 'stultz',\n",
       " 'received',\n",
       " 'engineering',\n",
       " 'is',\n",
       " 'as',\n",
       " 'later',\n",
       " 'moines',\n",
       " 'achieved',\n",
       " 'flight',\n",
       " 'nonstop',\n",
       " 'also',\n",
       " ')',\n",
       " 'passion',\n",
       " 'american',\n",
       " 'causes',\n",
       " 'at',\n",
       " 'advisor',\n",
       " 'the',\n",
       " 'pioneer',\n",
       " 'late',\n",
       " 'impact',\n",
       " 'and',\n",
       " 'women',\n",
       " '1920s',\n",
       " '(',\n",
       " 'aviation',\n",
       " 'roosevelt',\n",
       " '1928',\n",
       " 'lady',\n",
       " 'became',\n",
       " ',',\n",
       " 'known',\n",
       " 'twenties',\n",
       " 'she',\n",
       " 'supporter',\n",
       " 'piloting',\n",
       " 'often',\n",
       " 'passenger',\n",
       " '1930s',\n",
       " 'in',\n",
       " 'transatlantic',\n",
       " 'friendship',\n",
       " 'an',\n",
       " '5b',\n",
       " 'university',\n",
       " 'wilmer',\n",
       " 'issue',\n",
       " 'accomplishment',\n",
       " 'like',\n",
       " 'born',\n",
       " 'member',\n",
       " 'was',\n",
       " 'developed',\n",
       " 'raised',\n",
       " 'united',\n",
       " 'aviator',\n",
       " 'most',\n",
       " 'their',\n",
       " 'on',\n",
       " 'inspirational',\n",
       " 'throughout',\n",
       " 'rights',\n",
       " 'airplane',\n",
       " 'lockheed',\n",
       " '1935',\n",
       " 'adventure',\n",
       " 'national',\n",
       " 'early',\n",
       " 'charles',\n",
       " 'lasting',\n",
       " 'solo',\n",
       " 'des',\n",
       " 'age',\n",
       " 'iowa',\n",
       " 'for',\n",
       " 'visiting',\n",
       " 'atchison',\n",
       " 'states',\n",
       " 'cross',\n",
       " 'atlantic',\n",
       " 'her',\n",
       " 'celebrity',\n",
       " 'close',\n",
       " 'from',\n",
       " 'aeronautical',\n",
       " 'accompanying',\n",
       " 'distinguished',\n",
       " 'lindbergh',\n",
       " 'experience',\n",
       " 'students',\n",
       " 'this',\n",
       " 'faculty',\n",
       " 'to',\n",
       " 'which',\n",
       " 'woman',\n",
       " 'status',\n",
       " 'of',\n",
       " '<UNK>']"
      ]
     },
     "execution_count": 16,
     "metadata": {},
     "output_type": "execute_result"
    }
   ],
   "source": [
    "vocabs  #checking vocab"
   ]
  },
  {
   "attachments": {},
   "cell_type": "markdown",
   "metadata": {},
   "source": [
    "## 2. Prepare train data\n"
   ]
  },
  {
   "cell_type": "code",
   "execution_count": 20,
   "metadata": {},
   "outputs": [],
   "source": [
    "def random_batch(batch_size, corpus, win_size):\n",
    "\n",
    "    skipgrams = []\n",
    "\n",
    "    #for each corpus\n",
    "    for sent in corpus_tokenized:\n",
    "        for i in range(win_size, len(sent) - win_size): \n",
    "            center_word = word2index[sent[i]]\n",
    "            for j in range(1,win_size+1):\n",
    "                outside_words = [word2index[sent[i-j]], word2index[sent[i+j]]]  \n",
    "                for o in outside_words:\n",
    "                    skipgrams.append([center_word, o])\n",
    "                \n",
    "   \n",
    "    random_index = np.random.choice(range(len(skipgrams)), batch_size, replace=False)\n",
    "             \n",
    "    #appending some list of inputs and labels\n",
    "    random_inputs, random_labels = [], []   \n",
    "    for index in random_index:\n",
    "        random_inputs.append([skipgrams[index][0]])  \n",
    "        random_labels.append([skipgrams[index][1]])\n",
    "        \n",
    "    return np.array(random_inputs), np.array(random_labels)"
   ]
  },
  {
   "cell_type": "code",
   "execution_count": null,
   "metadata": {},
   "outputs": [],
   "source": [
    "batch_size  = 2 \n",
    "win_size = 2\n",
    "\n",
    "input_batch, target_batch = random_batch(batch_size, corpus_tokenized, win_size)\n",
    "\n",
    "print(\"Input: \", input_batch.shape)\n",
    "print(\"Target: \", target_batch.shape)"
   ]
  },
  {
   "attachments": {},
   "cell_type": "markdown",
   "metadata": {},
   "source": [
    "## 3. Model"
   ]
  },
  {
   "cell_type": "code",
   "execution_count": 18,
   "metadata": {},
   "outputs": [],
   "source": [
    "class Skipgram(nn.Module):\n",
    "    \n",
    "    def __init__(self, voc_size, emb_size):\n",
    "        super(Skipgram, self).__init__()\n",
    "        self.embedding_center_word  = nn.Embedding(voc_size, emb_size)  #is a lookup table mapping all ids in voc_size, into some vector of size emb_size\n",
    "        self.embedding_outside_word = nn.Embedding(voc_size, emb_size)\n",
    "    \n",
    "    def forward(self, center_word, outside_word, all_vocabs):\n",
    "        \n",
    "        #convert them into embedding\n",
    "        center_word_embed  = self.embedding_center_word(center_word)     #(batch_size, 1, emb_size)\n",
    "        outside_word_embed = self.embedding_outside_word(outside_word)   #(batch_size, 1, emb_size)\n",
    "        all_vocabs_embed   = self.embedding_outside_word(all_vocabs)     #(batch_size, voc_size, emb_size)\n",
    "        \n",
    "        #bmm is basically @ or .dot , but across batches (i.e., ignore the batch dimension)\n",
    "        top_term = outside_word_embed.bmm(center_word_embed.transpose(1, 2)).squeeze(2)\n",
    "        #(batch_size, 1, emb_size) @ (batch_size, emb_size, 1) = (batch_size, 1, 1) ===> (batch_size, 1)\n",
    "        \n",
    "        top_term_exp = torch.exp(top_term)  #exp(uo vc)\n",
    "        #(batch_size, 1)\n",
    "        \n",
    "        lower_term = all_vocabs_embed.bmm(center_word_embed.transpose(1, 2)).squeeze(2)\n",
    "         #(batch_size, voc_size, emb_size) @ (batch_size, emb_size, 1) = (batch_size, voc_size, 1) = (batch_size, voc_size)\n",
    "         \n",
    "        lower_term_sum = torch.sum(torch.exp(lower_term), 1) #sum exp(uw vc)\n",
    "        #(batch_size, 1)\n",
    "        \n",
    "        loss_fn = -torch.mean(torch.log(top_term_exp / lower_term_sum))\n",
    "        #(batch_size, 1) / (batch_size, 1) ==mean==> scalar\n",
    "        \n",
    "        return loss_fn"
   ]
  },
  {
   "cell_type": "code",
   "execution_count": 22,
   "metadata": {},
   "outputs": [
    {
     "data": {
      "text/plain": [
       "130"
      ]
     },
     "execution_count": 22,
     "metadata": {},
     "output_type": "execute_result"
    }
   ],
   "source": [
    "voc_size = len(vocabs)\n",
    "voc_size"
   ]
  },
  {
   "cell_type": "code",
   "execution_count": null,
   "metadata": {},
   "outputs": [],
   "source": [
    "class Skipgram(nn.Module):\n",
    "    \n",
    "    def __init__(self, voc_size, emb_size):\n",
    "        super(Skipgram, self).__init__()\n",
    "        self.embedding_center_word  = nn.Embedding(voc_size, emb_size)  #is a lookup table mapping all ids in voc_size, into some vector of size emb_size\n",
    "        self.embedding_outside_word = nn.Embedding(voc_size, emb_size)\n",
    "    \n",
    "    def forward(self, center_word, outside_word, all_vocabs):\n",
    "        \n",
    "        #convert them into embedding\n",
    "        center_word_embed  = self.embedding_center_word(center_word)     #(batch_size, 1, emb_size)\n",
    "        outside_word_embed = self.embedding_outside_word(outside_word)   #(batch_size, 1, emb_size)\n",
    "        all_vocabs_embed   = self.embedding_outside_word(all_vocabs)     #(batch_size, voc_size, emb_size)\n",
    "        \n",
    "        #bmm is basically @ or .dot , but across batches (i.e., ignore the batch dimension)\n",
    "        top_term = outside_word_embed.bmm(center_word_embed.transpose(1, 2)).squeeze(2)\n",
    "        #(batch_size, 1, emb_size) @ (batch_size, emb_size, 1) = (batch_size, 1, 1) ===> (batch_size, 1)\n",
    "        \n",
    "        top_term_exp = torch.exp(top_term)  #exp(uo vc)\n",
    "        #(batch_size, 1)\n",
    "        \n",
    "        lower_term = all_vocabs_embed.bmm(center_word_embed.transpose(1, 2)).squeeze(2)\n",
    "         #(batch_size, voc_size, emb_size) @ (batch_size, emb_size, 1) = (batch_size, voc_size, 1) = (batch_size, voc_size)\n",
    "         \n",
    "        lower_term_sum = torch.sum(torch.exp(lower_term), 1) #sum exp(uw vc)\n",
    "        #(batch_size, 1)\n",
    "        \n",
    "        loss_fn = -torch.mean(torch.log(top_term_exp / lower_term_sum))\n",
    "        #(batch_size, 1) / (batch_size, 1) ==mean==> scalar\n",
    "        \n",
    "        return loss_fn"
   ]
  },
  {
   "cell_type": "code",
   "execution_count": 19,
   "metadata": {},
   "outputs": [
    {
     "data": {
      "text/plain": [
       "torch.Size([2, 130])"
      ]
     },
     "execution_count": 19,
     "metadata": {},
     "output_type": "execute_result"
    }
   ],
   "source": [
    "#preparing all_vocabs\n",
    "\n",
    "batch_size = 2\n",
    "voc_size = len(vocabs)\n",
    "\n",
    "def prepare_sequence(seq, word2index):\n",
    "    #map(function, list of something)\n",
    "    #map will look at each of element in this list, and apply this function\n",
    "    idxs = list(map(lambda w: word2index[w] if word2index.get(w) is not None else word2index[\"<UNK>\"], seq))\n",
    "    return torch.LongTensor(idxs)\n",
    "\n",
    "all_vocabs = prepare_sequence(list(vocabs), word2index).expand(batch_size, voc_size)\n",
    "all_vocabs.shape"
   ]
  },
  {
   "cell_type": "code",
   "execution_count": 23,
   "metadata": {},
   "outputs": [],
   "source": [
    "def epoch_time(start_time, end_time):\n",
    "    elapsed_time = end_time - start_time\n",
    "    elapsed_mins = int(elapsed_time / 60)\n",
    "    elapsed_secs = int(elapsed_time - (elapsed_mins * 60))\n",
    "    return elapsed_mins, elapsed_secs"
   ]
  },
  {
   "cell_type": "code",
   "execution_count": 27,
   "metadata": {},
   "outputs": [
    {
     "name": "stdout",
     "output_type": "stream",
     "text": [
      "Epoch: 1000 | cost: 4.394658 | time: 0m 2s\n",
      "Epoch: 2000 | cost: 4.799616 | time: 0m 6s\n",
      "Epoch: 3000 | cost: 4.977057 | time: 0m 9s\n",
      "Epoch: 4000 | cost: 5.014775 | time: 0m 12s\n",
      "Epoch: 5000 | cost: 5.044192 | time: 0m 17s\n",
      "Epoch: 6000 | cost: 4.845207 | time: 0m 20s\n",
      "Epoch: 7000 | cost: 4.874094 | time: 0m 25s\n",
      "Epoch: 8000 | cost: 4.328227 | time: 0m 28s\n",
      "Epoch: 9000 | cost: 4.988227 | time: 0m 31s\n",
      "Epoch: 10000 | cost: 3.733369 | time: 0m 36s\n"
     ]
    }
   ],
   "source": [
    "voc_size = len(vocabs)\n",
    "batch_size     = 2# mini-batch size\n",
    "embedding_size = 2 #so we can later plot\n",
    "window_size=2\n",
    "model  = Skipgram(voc_size, embedding_size)\n",
    "\n",
    "criterion = nn.CrossEntropyLoss()\n",
    "optimizer = optim.Adam(model.parameters(), lr=0.001)\n",
    "import time\n",
    "\n",
    "# Training\n",
    "start_train_time = time.time()\n",
    "num_epochs = 10000\n",
    "start = time.time()\n",
    "for epoch in range(num_epochs):\n",
    "    \n",
    "    input_batch, target_batch = random_batch(batch_size, corpus_tokenized, window_size)\n",
    "    input_batch  = torch.LongTensor(input_batch)  #[batch_size, 1]\n",
    "    target_batch = torch.LongTensor(target_batch) #[batch_size, 1]\n",
    "\n",
    "    optimizer.zero_grad()\n",
    "    loss = model(input_batch, target_batch, all_vocabs)\n",
    "    \n",
    "    loss.backward()\n",
    "    optimizer.step()\n",
    "    \n",
    "    if (epoch + 1) % 1000 == 0:\n",
    "        end = time.time()\n",
    "        epoch_mins, epoch_secs = epoch_time(start, end)\n",
    "        print(f\"Epoch: {epoch + 1} | cost: {loss:.6f} | time: {epoch_mins}m {epoch_secs}s\")\n",
    "        "
   ]
  },
  {
   "cell_type": "code",
   "execution_count": 28,
   "metadata": {},
   "outputs": [
    {
     "data": {
      "image/png": "[encoded data removed]",
      "text/plain": [
       "<Figure size 600x300 with 1 Axes>"
      ]
     },
     "metadata": {},
     "output_type": "display_data"
    }
   ],
   "source": [
    "def get_embed(word):\n",
    "    id_tensor = torch.LongTensor([word2index[word]])\n",
    "    v_embed = model.embedding_center_word(id_tensor)\n",
    "    u_embed = model.embedding_outside_word(id_tensor) \n",
    "    word_embed = (v_embed + u_embed) / 2 \n",
    "    x, y = word_embed[0][0].item(), word_embed[0][1].item()\n",
    "\n",
    "    return x, y\n",
    "\n",
    "plt.figure(figsize=(6,3))\n",
    "for i, word in enumerate(vocabs[:20]): #loop each unique vocab\n",
    "    x, y = get_embed(word)\n",
    "    plt.scatter(x, y)\n",
    "    plt.annotate(word, xy=(x, y), xytext=(5, 2), textcoords='offset points')\n",
    "plt.title('Window size of 2')\n",
    "plt.show()"
   ]
  },
  {
   "attachments": {},
   "cell_type": "markdown",
   "metadata": {},
   "source": [
    "CBOW...yaaa"
   ]
  },
  {
   "cell_type": "code",
   "execution_count": 29,
   "metadata": {},
   "outputs": [],
   "source": [
    "def random_batch_for_cbow(batch_size, word_sequence, window_size=1):\n",
    "\n",
    "    cbow = []\n",
    "\n",
    "    for sent in corpus_tokenized:\n",
    "        for i in range(1, len(sent) - 1): \n",
    "            target = word2index[sent[i]]\n",
    "            context = []\n",
    "            \n",
    "            for j in range(window_size):\n",
    "                \n",
    "                if i - (j + 1) >= 0: \n",
    "                    context.append(word2index[sent[i - (j + 1)]])\n",
    "                \n",
    "                if i + (j + 1) < len(sent): \n",
    "                    context.append(word2index[sent[i + (j + 1)]])\n",
    "            for w in context:\n",
    "                cbow.append([context, target])\n",
    "    \n",
    "    random_inputs = []\n",
    "    random_labels = []\n",
    "    random_index = np.random.choice(range(len(cbow)), batch_size, replace=False) #randomly pick without replacement\n",
    "    \n",
    "    for i in random_index:\n",
    "        random_inputs.append(cbow[i][0])  # Context word that we want as input\n",
    "        random_labels.append([cbow[i][1]])  # Target word that we want as label\n",
    "    \n",
    "    return np.array(random_inputs), np.array(random_labels)"
   ]
  },
  {
   "cell_type": "code",
   "execution_count": 30,
   "metadata": {},
   "outputs": [],
   "source": [
    "class Cbow(nn.Module):\n",
    "    \n",
    "    def __init__(self, voc_size, emb_size):\n",
    "        super(Cbow, self).__init__()\n",
    "        self.embedding_center_word  = nn.Embedding(voc_size, emb_size)  #is a lookup table mapping all ids in voc_size, into some vector of size emb_size\n",
    "        self.embedding_outside_word = nn.Embedding(voc_size, emb_size)\n",
    "    \n",
    "    def forward(self, center_word, outside_word, all_vocabs):\n",
    "        \n",
    "        #convert them into embedding\n",
    "        center_word_embed  = self.embedding_center_word(center_word)     #(batch_size, 1, emb_size)\n",
    "        outside_word_embed = self.embedding_outside_word(outside_word)   #(batch_size, 1, emb_size)\n",
    "        all_vocabs_embed   = self.embedding_outside_word(all_vocabs)     #(batch_size, voc_size, emb_size)\n",
    "        \n",
    "        #bmm is basically @ or .dot , but across batches (i.e., ignore the batch dimension)\n",
    "        top_term = outside_word_embed.bmm(center_word_embed.transpose(1, 2)).squeeze(2)\n",
    "        #(batch_size, 1, emb_size) @ (batch_size, emb_size, 1) = (batch_size, 1, 1) ===> (batch_size, 1)\n",
    "        \n",
    "        top_term_exp = torch.exp(top_term)  #exp(uo vc)\n",
    "        #(batch_size, 1)\n",
    "        \n",
    "        lower_term = all_vocabs_embed.bmm(center_word_embed.transpose(1, 2)).squeeze(2)\n",
    "         #(batch_size, voc_size, emb_size) @ (batch_size, emb_size, 1) = (batch_size, voc_size, 1) = (batch_size, voc_size)\n",
    "         \n",
    "        lower_term_sum = torch.sum(torch.exp(lower_term), 1) #sum exp(uw vc)\n",
    "        #(batch_size, 1)\n",
    "        \n",
    "        loss_fn = -torch.mean(torch.log(top_term_exp / lower_term_sum))\n",
    "        #(batch_size, 1) / (batch_size, 1) ==mean==> scalar\n",
    "        \n",
    "        return loss_fn"
   ]
  },
  {
   "cell_type": "code",
   "execution_count": 31,
   "metadata": {},
   "outputs": [],
   "source": [
    "batch_size     = 2 # mini-batch size\n",
    "embedding_size = 2 #so we can later plot\n",
    "model          = Cbow(voc_size, embedding_size)\n",
    "\n",
    "criterion = nn.CrossEntropyLoss()\n",
    "optimizer = optim.Adam(model.parameters(), lr=0.001)"
   ]
  },
  {
   "cell_type": "code",
   "execution_count": 34,
   "metadata": {},
   "outputs": [
    {
     "name": "stdout",
     "output_type": "stream",
     "text": [
      "Epoch: 1000 | cost: 5.053758 | time: 0m 1\n",
      "Epoch: 2000 | cost: 4.658739 | time: 0m 3\n",
      "Epoch: 3000 | cost: 5.300117 | time: 0m 6\n",
      "Epoch: 4000 | cost: 4.844223 | time: 0m 9\n",
      "Epoch: 5000 | cost: 4.554654 | time: 0m 12\n",
      "Epoch: 6000 | cost: 4.606877 | time: 0m 14\n",
      "Epoch: 7000 | cost: 4.571799 | time: 0m 17\n",
      "Epoch: 8000 | cost: 4.385777 | time: 0m 20\n",
      "Epoch: 9000 | cost: 3.369804 | time: 0m 23\n",
      "Epoch: 10000 | cost: 4.139610 | time: 0m 26\n"
     ]
    }
   ],
   "source": [
    "import time\n",
    "num_epochs = 10000\n",
    "start = time.time()\n",
    "for epoch in range(num_epochs):\n",
    "    \n",
    "    input_batch, target_batch = random_batch_for_cbow(batch_size, corpus_tokenized)\n",
    "    input_batch  = torch.LongTensor(input_batch)  #[batch_size, 1]\n",
    "    target_batch = torch.LongTensor(target_batch) #[batch_size, 1]\n",
    "\n",
    "    optimizer.zero_grad()\n",
    "    loss = model(input_batch, target_batch, all_vocabs)\n",
    "    \n",
    "    loss.backward()\n",
    "    optimizer.step()\n",
    "    \n",
    "    if (epoch + 1) % 1000 == 0:\n",
    "        end = time.time()\n",
    "        epoch_mins, epoch_secs = epoch_time(start, end)\n",
    "        print(f\"Epoch: {epoch + 1} | cost: {loss:.6f} | time: {epoch_mins}m {epoch_secs}\")"
   ]
  },
  {
   "cell_type": "code",
   "execution_count": 35,
   "metadata": {},
   "outputs": [
    {
     "data": {
      "image/png": "[encoded data removed]",
      "text/plain": [
       "<Figure size 600x300 with 1 Axes>"
      ]
     },
     "metadata": {},
     "output_type": "display_data"
    }
   ],
   "source": [
    "plt.figure(figsize=(6,3))\n",
    "for i, word in enumerate(vocabs[:20]): #loop each unique vocab\n",
    "    x, y = get_embed(word)\n",
    "    plt.scatter(x, y)\n",
    "    plt.annotate(word, xy=(x, y), xytext=(5, 2), textcoords='offset points')\n",
    "plt.title('Cbow with window size of 2')\n",
    "plt.show()"
   ]
  },
  {
   "attachments": {},
   "cell_type": "markdown",
   "metadata": {},
   "source": [
    "**Negative Sampling** Finally!!! i reach here"
   ]
  },
  {
   "cell_type": "code",
   "execution_count": 42,
   "metadata": {},
   "outputs": [],
   "source": [
    "import random\n",
    "\n",
    "\n",
    "def prepare_sequence(seq, word2index):\n",
    "    idxs = list(map(lambda w: word2index[w] if word2index.get(w) is not None else word2index[\"<UNK>\"], seq))\n",
    "    return torch.LongTensor(idxs)\n",
    "\n",
    "def negative_sampling(targets, unigram_table, k):\n",
    "    batch_size = targets.size(0)\n",
    "    neg_samples = []\n",
    "    for i in range(batch_size):\n",
    "        nsample = []\n",
    "        target_index = targets[i].item()\n",
    "        while len(nsample) < k: # num of sampling\n",
    "            neg = random.choice(unigram_table)\n",
    "            if word2index[neg] == target_index:\n",
    "                continue\n",
    "            nsample.append(neg)\n",
    "        neg_samples.append(prepare_sequence(nsample, word2index).view(1, -1))\n",
    "    \n",
    "    return torch.cat(neg_samples)"
   ]
  },
  {
   "cell_type": "code",
   "execution_count": 36,
   "metadata": {},
   "outputs": [],
   "source": [
    "input_batch  = torch.Tensor(input_batch)\n",
    "target_batch = torch.LongTensor(target_batch)"
   ]
  },
  {
   "cell_type": "code",
   "execution_count": 38,
   "metadata": {},
   "outputs": [],
   "source": [
    "from collections import Counter\n",
    "Z = 0.001\n",
    "word_count = Counter(flatten(corpus_tokenized))\n",
    "num_total_words = sum([c for w, c in word_count.items()])\n",
    "\n",
    "unigram_table = []\n",
    "\n",
    "for vo in vocabs:\n",
    "    unigram_table.extend([vo] * int(((word_count[vo]/num_total_words)**0.75)/Z))"
   ]
  },
  {
   "cell_type": "code",
   "execution_count": 39,
   "metadata": {},
   "outputs": [
    {
     "data": {
      "text/plain": [
       "Counter({'well': 18,\n",
       "         'kansas': 18,\n",
       "         'vega': 18,\n",
       "         '1932': 18,\n",
       "         'such': 18,\n",
       "         'amendment': 18,\n",
       "         'young': 18,\n",
       "         'figures': 30,\n",
       "         'achieve': 18,\n",
       "         'first': 41,\n",
       "         'becoming': 18,\n",
       "         'a': 86,\n",
       "         'compared': 18,\n",
       "         'counselor': 18,\n",
       "         'pilot': 18,\n",
       "         'equal': 18,\n",
       "         'made': 18,\n",
       "         'purdue': 18,\n",
       "         'steadily': 18,\n",
       "         'career': 30,\n",
       "         'earhart': 60,\n",
       "         'eleanor': 18,\n",
       "         'female': 30,\n",
       "         'party': 18,\n",
       "         'legacy': 18,\n",
       "         '.': 69,\n",
       "         'gaining': 18,\n",
       "         'flying': 30,\n",
       "         'one': 18,\n",
       "         'by': 18,\n",
       "         \"'s\": 41,\n",
       "         'feat': 18,\n",
       "         'stultz': 18,\n",
       "         'received': 18,\n",
       "         'engineering': 18,\n",
       "         'is': 18,\n",
       "         'as': 51,\n",
       "         'later': 18,\n",
       "         'moines': 18,\n",
       "         'achieved': 18,\n",
       "         'flight': 18,\n",
       "         'nonstop': 18,\n",
       "         'also': 18,\n",
       "         ')': 18,\n",
       "         'passion': 18,\n",
       "         'american': 18,\n",
       "         'causes': 18,\n",
       "         'at': 30,\n",
       "         'advisor': 18,\n",
       "         'the': 109,\n",
       "         'pioneer': 18,\n",
       "         'late': 18,\n",
       "         'impact': 18,\n",
       "         'and': 60,\n",
       "         'women': 18,\n",
       "         '1920s': 18,\n",
       "         '(': 18,\n",
       "         'aviation': 18,\n",
       "         'roosevelt': 18,\n",
       "         '1928': 18,\n",
       "         'lady': 18,\n",
       "         'became': 30,\n",
       "         ',': 124,\n",
       "         'known': 18,\n",
       "         'twenties': 18,\n",
       "         'she': 41,\n",
       "         'supporter': 18,\n",
       "         'piloting': 18,\n",
       "         'often': 18,\n",
       "         'passenger': 18,\n",
       "         '1930s': 18,\n",
       "         'in': 69,\n",
       "         'transatlantic': 18,\n",
       "         'friendship': 18,\n",
       "         'an': 30,\n",
       "         '5b': 18,\n",
       "         'university': 18,\n",
       "         'wilmer': 18,\n",
       "         'issue': 18,\n",
       "         'accomplishment': 18,\n",
       "         'like': 18,\n",
       "         'born': 18,\n",
       "         'member': 30,\n",
       "         'was': 18,\n",
       "         'developed': 18,\n",
       "         'raised': 18,\n",
       "         'united': 18,\n",
       "         'aviator': 18,\n",
       "         'most': 18,\n",
       "         'their': 18,\n",
       "         'on': 18,\n",
       "         'inspirational': 18,\n",
       "         'throughout': 18,\n",
       "         'rights': 18,\n",
       "         'airplane': 18,\n",
       "         'lockheed': 18,\n",
       "         '1935': 18,\n",
       "         'adventure': 18,\n",
       "         'national': 18,\n",
       "         'early': 30,\n",
       "         'charles': 18,\n",
       "         'lasting': 18,\n",
       "         'solo': 18,\n",
       "         'des': 18,\n",
       "         'age': 18,\n",
       "         'iowa': 18,\n",
       "         'for': 51,\n",
       "         'visiting': 18,\n",
       "         'atchison': 18,\n",
       "         'states': 18,\n",
       "         'cross': 30,\n",
       "         'atlantic': 18,\n",
       "         'her': 18,\n",
       "         'celebrity': 18,\n",
       "         'close': 18,\n",
       "         'from': 30,\n",
       "         'aeronautical': 30,\n",
       "         'accompanying': 18,\n",
       "         'distinguished': 18,\n",
       "         'lindbergh': 18,\n",
       "         'experience': 18,\n",
       "         'students': 18,\n",
       "         'this': 18,\n",
       "         'faculty': 18,\n",
       "         'to': 69,\n",
       "         'which': 18,\n",
       "         'woman': 30,\n",
       "         'status': 18,\n",
       "         'of': 60})"
      ]
     },
     "execution_count": 39,
     "metadata": {},
     "output_type": "execute_result"
    }
   ],
   "source": [
    "Counter(unigram_table)"
   ]
  },
  {
   "cell_type": "code",
   "execution_count": 43,
   "metadata": {},
   "outputs": [
    {
     "data": {
      "text/plain": [
       "tensor([[ 62,  54,  58,  63,  86],\n",
       "        [ 50,  30,  50,  63, 108]])"
      ]
     },
     "execution_count": 43,
     "metadata": {},
     "output_type": "execute_result"
    }
   ],
   "source": [
    "num_neg = 5\n",
    "negative_sampling(target_batch, unigram_table, num_neg)\n"
   ]
  },
  {
   "cell_type": "code",
   "execution_count": 44,
   "metadata": {},
   "outputs": [],
   "source": [
    "class SkipgramNeg(nn.Module):\n",
    "    \n",
    "    def __init__(self, voc_size, emb_size):\n",
    "        super(SkipgramNeg, self).__init__()\n",
    "        self.embedding_center_word  = nn.Embedding(voc_size, emb_size)\n",
    "        self.embedding_outside_word = nn.Embedding(voc_size, emb_size)\n",
    "        self.logsigmoid = nn.LogSigmoid()\n",
    "        \n",
    "    def forward(self, center_words, outside_words, negative_words):\n",
    "        #center_words, outside_words: (batch_size, 1)\n",
    "        #negative_words:  (batch_size, k)\n",
    "        \n",
    "        center_embed  = self.embedding_center_word(center_words)    #(batch_size, 1, emb_size)\n",
    "        outside_embed = self.embedding_outside_word(outside_words)  #(batch_size, 1, emb_size)\n",
    "        neg_embed     = self.embedding_outside_word(negative_words) #(batch_size, k, emb_size)\n",
    "        \n",
    "        uovc          =  outside_embed.bmm(center_embed.transpose(1, 2)).squeeze(2)  #(batch_size, 1)\n",
    "        ukvc          = -neg_embed.bmm(center_embed.transpose(1, 2)).squeeze(2)  #(batch_size, k)\n",
    "        ukvc_sum      =  torch.sum(ukvc, 1).view(-1, 1) #(batch_size, 1)\n",
    "        \n",
    "        loss = self.logsigmoid(uovc) + self.logsigmoid(ukvc_sum)  #(batch_size, 1) + (batch_size, 1)\n",
    "                \n",
    "        return -torch.mean(loss)  #scalar, loss should be scalar, to call backward()"
   ]
  },
  {
   "cell_type": "code",
   "execution_count": 45,
   "metadata": {},
   "outputs": [],
   "source": [
    "batch_size     = 2 \n",
    "embedding_size = 2 \n",
    "model          = SkipgramNeg(voc_size, embedding_size)\n",
    "num_neg        = 10 \n",
    "\n",
    "criterion = nn.CrossEntropyLoss()\n",
    "optimizer = optim.Adam(model.parameters(), lr=0.001)"
   ]
  },
  {
   "cell_type": "code",
   "execution_count": 47,
   "metadata": {},
   "outputs": [
    {
     "name": "stdout",
     "output_type": "stream",
     "text": [
      "Epoch: 1000 | cost: 2.249995 | time: 0m 0s\n",
      "Epoch: 2000 | cost: 1.351819 | time: 0m 0s\n",
      "Epoch: 3000 | cost: 1.665393 | time: 0m 0s\n",
      "Epoch: 4000 | cost: 1.076448 | time: 0m 0s\n",
      "Epoch: 5000 | cost: 1.294886 | time: 0m 0s\n",
      "Epoch: 6000 | cost: 2.520634 | time: 0m 0s\n",
      "Epoch: 7000 | cost: 1.512875 | time: 0m 0s\n",
      "Epoch: 8000 | cost: 0.739349 | time: 0m 0s\n",
      "Epoch: 9000 | cost: 0.964600 | time: 0m 0s\n",
      "Epoch: 10000 | cost: 0.865251 | time: 0m 0s\n"
     ]
    }
   ],
   "source": [
    "import time\n",
    "\n",
    "start_train_time = time.time()\n",
    "\n",
    "# Training\n",
    "num_epochs = 10000\n",
    "for epoch in range(num_epochs):\n",
    "    \n",
    "    start = time.time()\n",
    "    \n",
    "    input_batch, target_batch = random_batch(batch_size, corpus, 2)\n",
    "    \n",
    "    #input_batch: [batch_size, 1]\n",
    "    input_batch = torch.LongTensor(input_batch)\n",
    "    \n",
    "    #target_batch: [batch_size, 1]\n",
    "    target_batch = torch.LongTensor(target_batch)\n",
    "    \n",
    "    #negs_batch:   [batch_size, num_neg]\n",
    "    negs_batch = negative_sampling(target_batch, unigram_table, num_neg)\n",
    "    \n",
    "    optimizer.zero_grad()\n",
    "        \n",
    "    loss = model(input_batch, target_batch, negs_batch)\n",
    "    \n",
    "    end = time.time()\n",
    "    \n",
    "    epoch_mins, epoch_secs = epoch_time(start, end)\n",
    "    \n",
    "    loss.backward()\n",
    "    optimizer.step()\n",
    "\n",
    "    if (epoch + 1) % 1000 == 0:\n",
    "        print(f\"Epoch: {epoch + 1} | cost: {loss:.6f} | time: {epoch_mins}m {epoch_secs}s\")"
   ]
  },
  {
   "cell_type": "code",
   "execution_count": 49,
   "metadata": {},
   "outputs": [
    {
     "data": {
      "image/png": "[encoded data removed]",
      "text/plain": [
       "<Figure size 600x300 with 1 Axes>"
      ]
     },
     "metadata": {},
     "output_type": "display_data"
    }
   ],
   "source": [
    "plt.figure(figsize=(6,3))\n",
    "for i, word in enumerate(vocabs[:20]): #loop each unique vocab\n",
    "    x, y = get_embed(word)\n",
    "    plt.scatter(x, y)\n",
    "    plt.annotate(word, xy=(x, y), xytext=(5, 2), textcoords='offset points')\n",
    "plt.title('Skipgram with Negative Sampling')\n",
    "plt.show()"
   ]
  },
  {
   "cell_type": "code",
   "execution_count": null,
   "metadata": {},
   "outputs": [],
   "source": []
  }
 ],
 "metadata": {
  "kernelspec": {
   "display_name": "Python 3",
   "language": "python",
   "name": "python3"
  },
  "language_info": {
   "codemirror_mode": {
    "name": "ipython",
    "version": 3
   },
   "file_extension": ".py",
   "mimetype": "text/x-python",
   "name": "python",
   "nbconvert_exporter": "python",
   "pygments_lexer": "ipython3",
   "version": "3.10.7"
  },
  "orig_nbformat": 4,
  "vscode": {
   "interpreter": {
    "hash": "3a9409b9deca2e32b1801514822bf60b5f36ee24c0efb3dea589c0a4c1325f8a"
   }
  }
 },
 "nbformat": 4,
 "nbformat_minor": 2
}
